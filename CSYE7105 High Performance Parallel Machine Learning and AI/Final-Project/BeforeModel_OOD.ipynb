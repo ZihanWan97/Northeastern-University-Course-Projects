{
 "cells": [
  {
   "cell_type": "code",
   "execution_count": 1,
   "id": "84ad2980-3011-4ea6-b0b7-c2625699d78d",
   "metadata": {},
   "outputs": [],
   "source": [
    "import pandas as pd\n",
    "import numpy as np\n",
    "import time\n",
    "import multiprocessing as mp\n",
    "from dask.dataframe import from_pandas\n",
    "import dask.dataframe as dd\n",
    "import dask.array as da\n",
    "import seaborn as sns\n",
    "import matplotlib.pyplot as plt\n",
    "import warnings\n",
    "warnings.filterwarnings('ignore')\n",
    "pd.set_option('display.width', 100)"
   ]
  },
  {
   "cell_type": "markdown",
   "id": "29441595-30e5-41d4-a874-eb502c5217d0",
   "metadata": {},
   "source": [
    "# 1. Read Data"
   ]
  },
  {
   "cell_type": "code",
   "execution_count": 2,
   "id": "0704c001-1287-4f69-993a-51be38b1b064",
   "metadata": {},
   "outputs": [
    {
     "name": "stdout",
     "output_type": "stream",
     "text": [
      "CPU times: user 7.29 s, sys: 1.81 s, total: 9.09 s\n",
      "Wall time: 9.11 s\n"
     ]
    }
   ],
   "source": [
    "%%time\n",
    "# read data\n",
    "data = pd.read_csv('onlinefraud.csv')"
   ]
  },
  {
   "cell_type": "code",
   "execution_count": 3,
   "id": "ca3c343b-18b4-40be-8f37-60444abd194b",
   "metadata": {},
   "outputs": [
    {
     "data": {
      "text/html": [
       "<div>\n",
       "<style scoped>\n",
       "    .dataframe tbody tr th:only-of-type {\n",
       "        vertical-align: middle;\n",
       "    }\n",
       "\n",
       "    .dataframe tbody tr th {\n",
       "        vertical-align: top;\n",
       "    }\n",
       "\n",
       "    .dataframe thead th {\n",
       "        text-align: right;\n",
       "    }\n",
       "</style>\n",
       "<table border=\"1\" class=\"dataframe\">\n",
       "  <thead>\n",
       "    <tr style=\"text-align: right;\">\n",
       "      <th></th>\n",
       "      <th>step</th>\n",
       "      <th>type</th>\n",
       "      <th>amount</th>\n",
       "      <th>nameOrig</th>\n",
       "      <th>oldbalanceOrg</th>\n",
       "      <th>newbalanceOrig</th>\n",
       "      <th>nameDest</th>\n",
       "      <th>oldbalanceDest</th>\n",
       "      <th>newbalanceDest</th>\n",
       "      <th>isFraud</th>\n",
       "      <th>isFlaggedFraud</th>\n",
       "    </tr>\n",
       "  </thead>\n",
       "  <tbody>\n",
       "    <tr>\n",
       "      <th>0</th>\n",
       "      <td>1</td>\n",
       "      <td>PAYMENT</td>\n",
       "      <td>9839.64</td>\n",
       "      <td>C1231006815</td>\n",
       "      <td>170136.0</td>\n",
       "      <td>160296.36</td>\n",
       "      <td>M1979787155</td>\n",
       "      <td>0.0</td>\n",
       "      <td>0.0</td>\n",
       "      <td>0</td>\n",
       "      <td>0</td>\n",
       "    </tr>\n",
       "    <tr>\n",
       "      <th>1</th>\n",
       "      <td>1</td>\n",
       "      <td>PAYMENT</td>\n",
       "      <td>1864.28</td>\n",
       "      <td>C1666544295</td>\n",
       "      <td>21249.0</td>\n",
       "      <td>19384.72</td>\n",
       "      <td>M2044282225</td>\n",
       "      <td>0.0</td>\n",
       "      <td>0.0</td>\n",
       "      <td>0</td>\n",
       "      <td>0</td>\n",
       "    </tr>\n",
       "    <tr>\n",
       "      <th>2</th>\n",
       "      <td>1</td>\n",
       "      <td>TRANSFER</td>\n",
       "      <td>181.00</td>\n",
       "      <td>C1305486145</td>\n",
       "      <td>181.0</td>\n",
       "      <td>0.00</td>\n",
       "      <td>C553264065</td>\n",
       "      <td>0.0</td>\n",
       "      <td>0.0</td>\n",
       "      <td>1</td>\n",
       "      <td>0</td>\n",
       "    </tr>\n",
       "    <tr>\n",
       "      <th>3</th>\n",
       "      <td>1</td>\n",
       "      <td>CASH_OUT</td>\n",
       "      <td>181.00</td>\n",
       "      <td>C840083671</td>\n",
       "      <td>181.0</td>\n",
       "      <td>0.00</td>\n",
       "      <td>C38997010</td>\n",
       "      <td>21182.0</td>\n",
       "      <td>0.0</td>\n",
       "      <td>1</td>\n",
       "      <td>0</td>\n",
       "    </tr>\n",
       "    <tr>\n",
       "      <th>4</th>\n",
       "      <td>1</td>\n",
       "      <td>PAYMENT</td>\n",
       "      <td>11668.14</td>\n",
       "      <td>C2048537720</td>\n",
       "      <td>41554.0</td>\n",
       "      <td>29885.86</td>\n",
       "      <td>M1230701703</td>\n",
       "      <td>0.0</td>\n",
       "      <td>0.0</td>\n",
       "      <td>0</td>\n",
       "      <td>0</td>\n",
       "    </tr>\n",
       "  </tbody>\n",
       "</table>\n",
       "</div>"
      ],
      "text/plain": [
       "   step      type    amount     nameOrig  oldbalanceOrg  newbalanceOrig     nameDest  \\\n",
       "0     1   PAYMENT   9839.64  C1231006815       170136.0       160296.36  M1979787155   \n",
       "1     1   PAYMENT   1864.28  C1666544295        21249.0        19384.72  M2044282225   \n",
       "2     1  TRANSFER    181.00  C1305486145          181.0            0.00   C553264065   \n",
       "3     1  CASH_OUT    181.00   C840083671          181.0            0.00    C38997010   \n",
       "4     1   PAYMENT  11668.14  C2048537720        41554.0        29885.86  M1230701703   \n",
       "\n",
       "   oldbalanceDest  newbalanceDest  isFraud  isFlaggedFraud  \n",
       "0             0.0             0.0        0               0  \n",
       "1             0.0             0.0        0               0  \n",
       "2             0.0             0.0        1               0  \n",
       "3         21182.0             0.0        1               0  \n",
       "4             0.0             0.0        0               0  "
      ]
     },
     "execution_count": 3,
     "metadata": {},
     "output_type": "execute_result"
    }
   ],
   "source": [
    "data.head()"
   ]
  },
  {
   "cell_type": "code",
   "execution_count": 4,
   "id": "61c26fc8-50ac-4868-881c-69ffeaae6c9b",
   "metadata": {},
   "outputs": [
    {
     "data": {
      "text/plain": [
       "(6362620, 11)"
      ]
     },
     "execution_count": 4,
     "metadata": {},
     "output_type": "execute_result"
    }
   ],
   "source": [
    "data.shape"
   ]
  },
  {
   "cell_type": "code",
   "execution_count": 5,
   "id": "919e166e-2207-4586-af38-e6b97d0f2e17",
   "metadata": {},
   "outputs": [],
   "source": [
    "data = data.drop(['isFlaggedFraud','nameOrig','nameDest','step'],axis=1)"
   ]
  },
  {
   "cell_type": "code",
   "execution_count": 6,
   "id": "1eb5ebf0-bda6-45c2-8b65-269772505d17",
   "metadata": {},
   "outputs": [
    {
     "data": {
      "text/plain": [
       "<AxesSubplot:>"
      ]
     },
     "execution_count": 6,
     "metadata": {},
     "output_type": "execute_result"
    },
    {
     "data": {
      "image/png": "[encoded data removed]",
      "text/plain": [
       "<Figure size 1440x720 with 2 Axes>"
      ]
     },
     "metadata": {
      "needs_background": "light"
     },
     "output_type": "display_data"
    }
   ],
   "source": [
    "plt.figure(figsize = [20,10])   \n",
    "sns.heatmap(data = data.corr(), \n",
    "            vmax=1,\n",
    "            center=0,\n",
    "            square=True,\n",
    "           annot = True,  \n",
    "          fmt='.2f',    \n",
    "           cmap = 'Blues',   \n",
    "           linewidths = .3,  \n",
    "           cbar_kws={\"shrink\": .75})"
   ]
  },
  {
   "cell_type": "markdown",
   "id": "961bf68c-55a8-43bd-8cf6-7215ffde7306",
   "metadata": {},
   "source": [
    "# 2. Create Metadata"
   ]
  },
  {
   "cell_type": "code",
   "execution_count": 7,
   "id": "f4f794b3-8e33-40c6-8067-83820489e57a",
   "metadata": {},
   "outputs": [],
   "source": [
    "def meta(dt,col):\n",
    "    \n",
    "    # Create an empty list\n",
    "    data_list = []\n",
    "        \n",
    "    #role ==> target|features\n",
    "    if col == 'isFraud':\n",
    "        role = 'target'\n",
    "    else:\n",
    "        role = 'feature'\n",
    "        \n",
    "    #level ==> binary|nominal|ordinal|interval|ratio\n",
    "    if col == 'isFraud':\n",
    "        level = 'binary'\n",
    "    elif 'name' in col or 'type' in col:\n",
    "        level = 'nominal'\n",
    "    elif dt[col].dtype == 'float64':\n",
    "        level = 'interval'\n",
    "    elif dt[col].dtype == 'int64':\n",
    "        level = 'ordinal'\n",
    "            \n",
    "    #dtype ==> int | float | object...\n",
    "    dtype = dt[col].dtype\n",
    "        \n",
    "    #unique_num/cardinality ==> Number of unique values\n",
    "    #Disregard id, target, continuous features\n",
    "    if col == 'isFraud' or dt[col].dtype == 'float64':\n",
    "        cardinality = 'Ignore'\n",
    "    else:\n",
    "        #Exclude missing values\n",
    "        cardinality = dt[dt[col]!=\"\"][col].nunique()\n",
    "        \n",
    "    #missing_num ==> Number of missing values\n",
    "    missing = dt[dt[col]==\"\"][col].count()\n",
    " \n",
    "    #missing_percent ==> Percentage of missing values\n",
    "    missing_percent = f'{missing}({round(missing*100/len(dt),2)}%)'\n",
    "\n",
    "    #imputation ==> Methods for filling in missing values\n",
    "    if dt[dt[col]==-1][col].count()/dt.shape[0] > 0.4:\n",
    "        imputation = 'remove'\n",
    "    elif dt[dt[col]==-1][col].count() == 0:\n",
    "        imputation = 'No Missing'\n",
    "    #continuous features - interval/ratio\n",
    "    elif dt[col].dtype == 'float64':\n",
    "        imputation = ('mode','median','mean')\n",
    "    # nominal/binary/（Disregard id and target for now）\n",
    "    elif 'name' in col or 'type' in col:\n",
    "        imputation = ('mode')\n",
    "    # ordinal\n",
    "    elif dt[col].dtype == 'int64':\n",
    "        imputation = ('mode','median')\n",
    "        \n",
    "    #Store each attribute of each column by dictionary\n",
    "    cols = {'colname':col\n",
    "            ,'role':role\n",
    "            ,'level':level\n",
    "            ,'dtype':dtype\n",
    "            ,'cardinality':cardinality\n",
    "            ,'missing':missing\n",
    "            ,'missing_percent':missing_percent\n",
    "            ,'imputation':imputation\n",
    "            }\n",
    "        \n",
    "    #Store each attribute of each column in the empty list (including column names)\n",
    "    data_list.append(cols)\n",
    "    \n",
    "    #Convert list to df\n",
    "    metadata = pd.DataFrame(data_list, columns=['colname','role','level','dtype','cardinality','missing','missing_percent','imputation'])\n",
    "    #Set the index of df to the variable name\n",
    "    metadata.set_index('colname', inplace=True)\n",
    "    return metadata"
   ]
  },
  {
   "cell_type": "markdown",
   "id": "a19f7ac9-0097-4ac1-ae80-5e944a100296",
   "metadata": {},
   "source": [
    "### 2.1 Creating metadata (serial)"
   ]
  },
  {
   "cell_type": "code",
   "execution_count": 8,
   "id": "94a6222f-9310-46dc-a4a6-057b43c845ed",
   "metadata": {},
   "outputs": [
    {
     "name": "stdout",
     "output_type": "stream",
     "text": [
      "            role    level   dtype  cardinality  missing missing_percent  imputation\n",
      "colname                                                                            \n",
      "type     feature  nominal  object            5        0         0(0.0%)  No Missing \n",
      " --------------------------------------------------------------------------------\n",
      "            role     level    dtype cardinality  missing missing_percent  imputation\n",
      "colname                                                                             \n",
      "amount   feature  interval  float64      Ignore        0         0(0.0%)  No Missing \n",
      " --------------------------------------------------------------------------------\n",
      "                  role     level    dtype cardinality  missing missing_percent  imputation\n",
      "colname                                                                                   \n",
      "oldbalanceOrg  feature  interval  float64      Ignore        0         0(0.0%)  No Missing \n",
      " --------------------------------------------------------------------------------\n",
      "                   role     level    dtype cardinality  missing missing_percent  imputation\n",
      "colname                                                                                    \n",
      "newbalanceOrig  feature  interval  float64      Ignore        0         0(0.0%)  No Missing \n",
      " --------------------------------------------------------------------------------\n",
      "                   role     level    dtype cardinality  missing missing_percent  imputation\n",
      "colname                                                                                    \n",
      "oldbalanceDest  feature  interval  float64      Ignore        0         0(0.0%)  No Missing \n",
      " --------------------------------------------------------------------------------\n",
      "                   role     level    dtype cardinality  missing missing_percent  imputation\n",
      "colname                                                                                    \n",
      "newbalanceDest  feature  interval  float64      Ignore        0         0(0.0%)  No Missing \n",
      " --------------------------------------------------------------------------------\n",
      "           role   level  dtype cardinality  missing missing_percent  imputation\n",
      "colname                                                                        \n",
      "isFraud  target  binary  int64      Ignore        0         0(0.0%)  No Missing \n",
      " --------------------------------------------------------------------------------\n",
      "2.413288116455078\n"
     ]
    }
   ],
   "source": [
    "start_time_0 = time.time()\n",
    "for col in data.columns:\n",
    "    metadata = meta(data,col)\n",
    "    print(metadata,'\\n','-'*80)\n",
    "elapsed_time_0 = time.time()-start_time_0\n",
    "print(elapsed_time_0)"
   ]
  },
  {
   "cell_type": "markdown",
   "id": "e26d6637-425b-4446-9ae3-5cc978f902e5",
   "metadata": {},
   "source": [
    "### 2.2 Create metadata (in parallel - use pool() and vs.CPUs)"
   ]
  },
  {
   "cell_type": "code",
   "execution_count": 9,
   "id": "d1b5f32a-a807-428d-9ae2-9319611aa6aa",
   "metadata": {},
   "outputs": [
    {
     "name": "stdout",
     "output_type": "stream",
     "text": [
      "[            role    level   dtype  cardinality  missing missing_percent  imputation\n",
      "colname                                                                            \n",
      "type     feature  nominal  object            5        0         0(0.0%)  No Missing,             role     level    dtype cardinality  missing missing_percent  imputation\n",
      "colname                                                                             \n",
      "amount   feature  interval  float64      Ignore        0         0(0.0%)  No Missing,                   role     level    dtype cardinality  missing missing_percent  imputation\n",
      "colname                                                                                   \n",
      "oldbalanceOrg  feature  interval  float64      Ignore        0         0(0.0%)  No Missing,                    role     level    dtype cardinality  missing missing_percent  imputation\n",
      "colname                                                                                    \n",
      "newbalanceOrig  feature  interval  float64      Ignore        0         0(0.0%)  No Missing,                    role     level    dtype cardinality  missing missing_percent  imputation\n",
      "colname                                                                                    \n",
      "oldbalanceDest  feature  interval  float64      Ignore        0         0(0.0%)  No Missing,                    role     level    dtype cardinality  missing missing_percent  imputation\n",
      "colname                                                                                    \n",
      "newbalanceDest  feature  interval  float64      Ignore        0         0(0.0%)  No Missing,            role   level  dtype cardinality  missing missing_percent  imputation\n",
      "colname                                                                        \n",
      "isFraud  target  binary  int64      Ignore        0         0(0.0%)  No Missing] \n",
      " --------------------------------------------------------------------------------\n",
      "Parallel execution time - using pool(1): 16.987812042236328 \n",
      "\n",
      "[            role    level   dtype  cardinality  missing missing_percent  imputation\n",
      "colname                                                                            \n",
      "type     feature  nominal  object            5        0         0(0.0%)  No Missing,             role     level    dtype cardinality  missing missing_percent  imputation\n",
      "colname                                                                             \n",
      "amount   feature  interval  float64      Ignore        0         0(0.0%)  No Missing,                   role     level    dtype cardinality  missing missing_percent  imputation\n",
      "colname                                                                                   \n",
      "oldbalanceOrg  feature  interval  float64      Ignore        0         0(0.0%)  No Missing,                    role     level    dtype cardinality  missing missing_percent  imputation\n",
      "colname                                                                                    \n",
      "newbalanceOrig  feature  interval  float64      Ignore        0         0(0.0%)  No Missing,                    role     level    dtype cardinality  missing missing_percent  imputation\n",
      "colname                                                                                    \n",
      "oldbalanceDest  feature  interval  float64      Ignore        0         0(0.0%)  No Missing,                    role     level    dtype cardinality  missing missing_percent  imputation\n",
      "colname                                                                                    \n",
      "newbalanceDest  feature  interval  float64      Ignore        0         0(0.0%)  No Missing,            role   level  dtype cardinality  missing missing_percent  imputation\n",
      "colname                                                                        \n",
      "isFraud  target  binary  int64      Ignore        0         0(0.0%)  No Missing] \n",
      " --------------------------------------------------------------------------------\n",
      "Parallel execution time - using pool(2): 15.885232925415039 \n",
      "\n",
      "[            role    level   dtype  cardinality  missing missing_percent  imputation\n",
      "colname                                                                            \n",
      "type     feature  nominal  object            5        0         0(0.0%)  No Missing,             role     level    dtype cardinality  missing missing_percent  imputation\n",
      "colname                                                                             \n",
      "amount   feature  interval  float64      Ignore        0         0(0.0%)  No Missing,                   role     level    dtype cardinality  missing missing_percent  imputation\n",
      "colname                                                                                   \n",
      "oldbalanceOrg  feature  interval  float64      Ignore        0         0(0.0%)  No Missing,                    role     level    dtype cardinality  missing missing_percent  imputation\n",
      "colname                                                                                    \n",
      "newbalanceOrig  feature  interval  float64      Ignore        0         0(0.0%)  No Missing,                    role     level    dtype cardinality  missing missing_percent  imputation\n",
      "colname                                                                                    \n",
      "oldbalanceDest  feature  interval  float64      Ignore        0         0(0.0%)  No Missing,                    role     level    dtype cardinality  missing missing_percent  imputation\n",
      "colname                                                                                    \n",
      "newbalanceDest  feature  interval  float64      Ignore        0         0(0.0%)  No Missing,            role   level  dtype cardinality  missing missing_percent  imputation\n",
      "colname                                                                        \n",
      "isFraud  target  binary  int64      Ignore        0         0(0.0%)  No Missing] \n",
      " --------------------------------------------------------------------------------\n",
      "Parallel execution time - using pool(4): 15.886205434799194 \n",
      "\n",
      "[            role    level   dtype  cardinality  missing missing_percent  imputation\n",
      "colname                                                                            \n",
      "type     feature  nominal  object            5        0         0(0.0%)  No Missing,             role     level    dtype cardinality  missing missing_percent  imputation\n",
      "colname                                                                             \n",
      "amount   feature  interval  float64      Ignore        0         0(0.0%)  No Missing,                   role     level    dtype cardinality  missing missing_percent  imputation\n",
      "colname                                                                                   \n",
      "oldbalanceOrg  feature  interval  float64      Ignore        0         0(0.0%)  No Missing,                    role     level    dtype cardinality  missing missing_percent  imputation\n",
      "colname                                                                                    \n",
      "newbalanceOrig  feature  interval  float64      Ignore        0         0(0.0%)  No Missing,                    role     level    dtype cardinality  missing missing_percent  imputation\n",
      "colname                                                                                    \n",
      "oldbalanceDest  feature  interval  float64      Ignore        0         0(0.0%)  No Missing,                    role     level    dtype cardinality  missing missing_percent  imputation\n",
      "colname                                                                                    \n",
      "newbalanceDest  feature  interval  float64      Ignore        0         0(0.0%)  No Missing,            role   level  dtype cardinality  missing missing_percent  imputation\n",
      "colname                                                                        \n",
      "isFraud  target  binary  int64      Ignore        0         0(0.0%)  No Missing] \n",
      " --------------------------------------------------------------------------------\n",
      "Parallel execution time - using pool(8): 16.41882014274597 \n",
      "\n"
     ]
    }
   ],
   "source": [
    "for i in [1,2,4,8]:\n",
    "    pool = mp.Pool(i)\n",
    "    t = time.time()\n",
    "    metadata = [pool.apply(meta,args=(data,col)) for col in data.columns]\n",
    "    print(metadata,'\\n','-'*80)\n",
    "    elapsed_time = time.time()-t\n",
    "    pool.close()\n",
    "    print(f'Parallel execution time - using pool({i}):', elapsed_time, '\\n')"
   ]
  },
  {
   "cell_type": "markdown",
   "id": "bf28c865-c4ae-4ea4-ac3f-28406582c5cc",
   "metadata": {},
   "source": [
    "### 2.3 Create metadata (in parallel - use Process())"
   ]
  },
  {
   "cell_type": "code",
   "execution_count": 10,
   "id": "3583a7cf-c0f6-4b62-af1f-a8a5f2ee76e7",
   "metadata": {},
   "outputs": [
    {
     "name": "stdout",
     "output_type": "stream",
     "text": [
      "[            role    level   dtype  cardinality  missing missing_percent  imputation\n",
      "colname                                                                            \n",
      "type     feature  nominal  object            5        0         0(0.0%)  No Missing,             role     level    dtype cardinality  missing missing_percent  imputation\n",
      "colname                                                                             \n",
      "amount   feature  interval  float64      Ignore        0         0(0.0%)  No Missing,                   role     level    dtype cardinality  missing missing_percent  imputation\n",
      "colname                                                                                   \n",
      "oldbalanceOrg  feature  interval  float64      Ignore        0         0(0.0%)  No Missing,                    role     level    dtype cardinality  missing missing_percent  imputation\n",
      "colname                                                                                    \n",
      "newbalanceOrig  feature  interval  float64      Ignore        0         0(0.0%)  No Missing,                    role     level    dtype cardinality  missing missing_percent  imputation\n",
      "colname                                                                                    \n",
      "oldbalanceDest  feature  interval  float64      Ignore        0         0(0.0%)  No Missing,                    role     level    dtype cardinality  missing missing_percent  imputation\n",
      "colname                                                                                    \n",
      "newbalanceDest  feature  interval  float64      Ignore        0         0(0.0%)  No Missing,            role   level  dtype cardinality  missing missing_percent  imputation\n",
      "colname                                                                        \n",
      "isFraud  target  binary  int64      Ignore        0         0(0.0%)  No Missing] \n",
      "\n",
      "Parallel execution time - using process: 0.32018089294433594\n"
     ]
    }
   ],
   "source": [
    "from multiprocessing import Process,Queue\n",
    "\n",
    "# split work into 2 processes\n",
    "q = Queue()\n",
    "processes = 2\n",
    "def split(columns,n):\n",
    "    col_list = []\n",
    "    for col in columns:\n",
    "        col_list.append(col)\n",
    "        split_list = [col_list[i:i + n] for i in range(0, len(col_list), n)]\n",
    "    return split_list\n",
    "split_cols = split(data.columns,int(len(data.columns)/processes))\n",
    "\n",
    "t = time.time()\n",
    "for cols in split_cols:\n",
    "    p = Process(target=meta,args = (data,pd.Series(cols).all(),))\n",
    "    p.start()\n",
    "    q.put(metadata)\n",
    "for cols in split_cols:\n",
    "    p.join()\n",
    "print(q.get(),'\\n')\n",
    "print('Parallel execution time - using process:', time.time()-t)"
   ]
  },
  {
   "cell_type": "markdown",
   "id": "319dac0f-bad4-4a27-a97f-cd760678b373",
   "metadata": {},
   "source": [
    "# 3. Feature Engineering"
   ]
  },
  {
   "cell_type": "markdown",
   "id": "0a104f6a-0bbe-48c5-a52e-9272aa81af05",
   "metadata": {},
   "source": [
    "### 3.1 pandas"
   ]
  },
  {
   "cell_type": "code",
   "execution_count": 11,
   "id": "d2c9f4ee-58bf-47eb-8e3e-dbab4b2b3847",
   "metadata": {},
   "outputs": [
    {
     "name": "stdout",
     "output_type": "stream",
     "text": [
      "CPU times: user 2.18 s, sys: 1.81 s, total: 3.99 s\n",
      "Wall time: 4.04 s\n"
     ]
    }
   ],
   "source": [
    "%%time\n",
    "from sklearn.preprocessing import OneHotEncoder\n",
    "enc = OneHotEncoder(handle_unknown = \"ignore\",sparse=False)\n",
    "# Use oneHot encoding for the 'type' variable\n",
    "type_enc = enc.fit_transform(data['type'].values.reshape(-1, 1))\n",
    "data = pd.concat([data,pd.DataFrame(type_enc)],axis=1)\n",
    "data.rename(columns={0:'type_CASH_IN',1:'type_CASH_OUT',2:'type_DEBIT',3:'type_PAYMENT',4:'type_TRANSFER'},inplace=True)\n",
    "data = data.drop('type',axis=1)"
   ]
  },
  {
   "cell_type": "code",
   "execution_count": 12,
   "id": "bfbaad21-e30a-46bc-ad35-c879b83e4389",
   "metadata": {},
   "outputs": [
    {
     "name": "stdout",
     "output_type": "stream",
     "text": [
      "CPU times: user 622 ms, sys: 1.14 s, total: 1.76 s\n",
      "Wall time: 1.76 s\n"
     ]
    }
   ],
   "source": [
    "%%time\n",
    "# Add two new features: the difference between the old balance and the new balance\n",
    "data['orig_balance_diff'] = data.oldbalanceOrg - data.newbalanceOrig\n",
    "data['dest_balance_diff'] = data.oldbalanceDest - data.newbalanceDest\n",
    "data = data.drop(['oldbalanceOrg','newbalanceOrig','oldbalanceDest','newbalanceDest'],axis=1)"
   ]
  },
  {
   "cell_type": "code",
   "execution_count": 13,
   "id": "de077dcd-1935-4e80-b91e-3dce01f932f3",
   "metadata": {},
   "outputs": [
    {
     "data": {
      "text/html": [
       "<div>\n",
       "<style scoped>\n",
       "    .dataframe tbody tr th:only-of-type {\n",
       "        vertical-align: middle;\n",
       "    }\n",
       "\n",
       "    .dataframe tbody tr th {\n",
       "        vertical-align: top;\n",
       "    }\n",
       "\n",
       "    .dataframe thead th {\n",
       "        text-align: right;\n",
       "    }\n",
       "</style>\n",
       "<table border=\"1\" class=\"dataframe\">\n",
       "  <thead>\n",
       "    <tr style=\"text-align: right;\">\n",
       "      <th></th>\n",
       "      <th>amount</th>\n",
       "      <th>isFraud</th>\n",
       "      <th>type_CASH_IN</th>\n",
       "      <th>type_CASH_OUT</th>\n",
       "      <th>type_DEBIT</th>\n",
       "      <th>type_PAYMENT</th>\n",
       "      <th>type_TRANSFER</th>\n",
       "      <th>orig_balance_diff</th>\n",
       "      <th>dest_balance_diff</th>\n",
       "    </tr>\n",
       "  </thead>\n",
       "  <tbody>\n",
       "    <tr>\n",
       "      <th>0</th>\n",
       "      <td>9839.64</td>\n",
       "      <td>0</td>\n",
       "      <td>0.0</td>\n",
       "      <td>0.0</td>\n",
       "      <td>0.0</td>\n",
       "      <td>1.0</td>\n",
       "      <td>0.0</td>\n",
       "      <td>9839.64</td>\n",
       "      <td>0.00</td>\n",
       "    </tr>\n",
       "    <tr>\n",
       "      <th>1</th>\n",
       "      <td>1864.28</td>\n",
       "      <td>0</td>\n",
       "      <td>0.0</td>\n",
       "      <td>0.0</td>\n",
       "      <td>0.0</td>\n",
       "      <td>1.0</td>\n",
       "      <td>0.0</td>\n",
       "      <td>1864.28</td>\n",
       "      <td>0.00</td>\n",
       "    </tr>\n",
       "    <tr>\n",
       "      <th>2</th>\n",
       "      <td>181.00</td>\n",
       "      <td>1</td>\n",
       "      <td>0.0</td>\n",
       "      <td>0.0</td>\n",
       "      <td>0.0</td>\n",
       "      <td>0.0</td>\n",
       "      <td>1.0</td>\n",
       "      <td>181.00</td>\n",
       "      <td>0.00</td>\n",
       "    </tr>\n",
       "    <tr>\n",
       "      <th>3</th>\n",
       "      <td>181.00</td>\n",
       "      <td>1</td>\n",
       "      <td>0.0</td>\n",
       "      <td>1.0</td>\n",
       "      <td>0.0</td>\n",
       "      <td>0.0</td>\n",
       "      <td>0.0</td>\n",
       "      <td>181.00</td>\n",
       "      <td>21182.00</td>\n",
       "    </tr>\n",
       "    <tr>\n",
       "      <th>4</th>\n",
       "      <td>11668.14</td>\n",
       "      <td>0</td>\n",
       "      <td>0.0</td>\n",
       "      <td>0.0</td>\n",
       "      <td>0.0</td>\n",
       "      <td>1.0</td>\n",
       "      <td>0.0</td>\n",
       "      <td>11668.14</td>\n",
       "      <td>0.00</td>\n",
       "    </tr>\n",
       "    <tr>\n",
       "      <th>...</th>\n",
       "      <td>...</td>\n",
       "      <td>...</td>\n",
       "      <td>...</td>\n",
       "      <td>...</td>\n",
       "      <td>...</td>\n",
       "      <td>...</td>\n",
       "      <td>...</td>\n",
       "      <td>...</td>\n",
       "      <td>...</td>\n",
       "    </tr>\n",
       "    <tr>\n",
       "      <th>6362615</th>\n",
       "      <td>339682.13</td>\n",
       "      <td>1</td>\n",
       "      <td>0.0</td>\n",
       "      <td>1.0</td>\n",
       "      <td>0.0</td>\n",
       "      <td>0.0</td>\n",
       "      <td>0.0</td>\n",
       "      <td>339682.13</td>\n",
       "      <td>-339682.13</td>\n",
       "    </tr>\n",
       "    <tr>\n",
       "      <th>6362616</th>\n",
       "      <td>6311409.28</td>\n",
       "      <td>1</td>\n",
       "      <td>0.0</td>\n",
       "      <td>0.0</td>\n",
       "      <td>0.0</td>\n",
       "      <td>0.0</td>\n",
       "      <td>1.0</td>\n",
       "      <td>6311409.28</td>\n",
       "      <td>0.00</td>\n",
       "    </tr>\n",
       "    <tr>\n",
       "      <th>6362617</th>\n",
       "      <td>6311409.28</td>\n",
       "      <td>1</td>\n",
       "      <td>0.0</td>\n",
       "      <td>1.0</td>\n",
       "      <td>0.0</td>\n",
       "      <td>0.0</td>\n",
       "      <td>0.0</td>\n",
       "      <td>6311409.28</td>\n",
       "      <td>-6311409.27</td>\n",
       "    </tr>\n",
       "    <tr>\n",
       "      <th>6362618</th>\n",
       "      <td>850002.52</td>\n",
       "      <td>1</td>\n",
       "      <td>0.0</td>\n",
       "      <td>0.0</td>\n",
       "      <td>0.0</td>\n",
       "      <td>0.0</td>\n",
       "      <td>1.0</td>\n",
       "      <td>850002.52</td>\n",
       "      <td>0.00</td>\n",
       "    </tr>\n",
       "    <tr>\n",
       "      <th>6362619</th>\n",
       "      <td>850002.52</td>\n",
       "      <td>1</td>\n",
       "      <td>0.0</td>\n",
       "      <td>1.0</td>\n",
       "      <td>0.0</td>\n",
       "      <td>0.0</td>\n",
       "      <td>0.0</td>\n",
       "      <td>850002.52</td>\n",
       "      <td>-850002.52</td>\n",
       "    </tr>\n",
       "  </tbody>\n",
       "</table>\n",
       "<p>6362620 rows × 9 columns</p>\n",
       "</div>"
      ],
      "text/plain": [
       "             amount  isFraud  type_CASH_IN  type_CASH_OUT  type_DEBIT  type_PAYMENT  \\\n",
       "0           9839.64        0           0.0            0.0         0.0           1.0   \n",
       "1           1864.28        0           0.0            0.0         0.0           1.0   \n",
       "2            181.00        1           0.0            0.0         0.0           0.0   \n",
       "3            181.00        1           0.0            1.0         0.0           0.0   \n",
       "4          11668.14        0           0.0            0.0         0.0           1.0   \n",
       "...             ...      ...           ...            ...         ...           ...   \n",
       "6362615   339682.13        1           0.0            1.0         0.0           0.0   \n",
       "6362616  6311409.28        1           0.0            0.0         0.0           0.0   \n",
       "6362617  6311409.28        1           0.0            1.0         0.0           0.0   \n",
       "6362618   850002.52        1           0.0            0.0         0.0           0.0   \n",
       "6362619   850002.52        1           0.0            1.0         0.0           0.0   \n",
       "\n",
       "         type_TRANSFER  orig_balance_diff  dest_balance_diff  \n",
       "0                  0.0            9839.64               0.00  \n",
       "1                  0.0            1864.28               0.00  \n",
       "2                  1.0             181.00               0.00  \n",
       "3                  0.0             181.00           21182.00  \n",
       "4                  0.0           11668.14               0.00  \n",
       "...                ...                ...                ...  \n",
       "6362615            0.0          339682.13         -339682.13  \n",
       "6362616            1.0         6311409.28               0.00  \n",
       "6362617            0.0         6311409.28        -6311409.27  \n",
       "6362618            1.0          850002.52               0.00  \n",
       "6362619            0.0          850002.52         -850002.52  \n",
       "\n",
       "[6362620 rows x 9 columns]"
      ]
     },
     "execution_count": 13,
     "metadata": {},
     "output_type": "execute_result"
    }
   ],
   "source": [
    "data"
   ]
  },
  {
   "cell_type": "code",
   "execution_count": 14,
   "id": "87e2e928-982b-4c71-adc2-546635aa7545",
   "metadata": {},
   "outputs": [
    {
     "data": {
      "text/plain": [
       "<AxesSubplot:>"
      ]
     },
     "execution_count": 14,
     "metadata": {},
     "output_type": "execute_result"
    },
    {
     "data": {
      "image/png": "[encoded data removed]",
      "text/plain": [
       "<Figure size 1440x720 with 2 Axes>"
      ]
     },
     "metadata": {
      "needs_background": "light"
     },
     "output_type": "display_data"
    }
   ],
   "source": [
    "plt.figure(figsize = [20,10])  \n",
    "sns.heatmap(data = data.corr(), \n",
    "            vmax=1,\n",
    "            center=0,\n",
    "            square=True,\n",
    "           annot = True,  \n",
    "          fmt='.2f',      \n",
    "           cmap = 'Blues',   \n",
    "           linewidths = .3,  \n",
    "           cbar_kws={\"shrink\": .75})"
   ]
  },
  {
   "cell_type": "code",
   "execution_count": 15,
   "id": "e0f549e6-b4a8-463f-a1d6-8b691e618039",
   "metadata": {},
   "outputs": [
    {
     "name": "stdout",
     "output_type": "stream",
     "text": [
      "CPU times: user 10min 6s, sys: 31.7 s, total: 10min 38s\n",
      "Wall time: 1min 22s\n"
     ]
    },
    {
     "data": {
      "text/html": [
       "<style>#sk-container-id-1 {color: black;background-color: white;}#sk-container-id-1 pre{padding: 0;}#sk-container-id-1 div.sk-toggleable {background-color: white;}#sk-container-id-1 label.sk-toggleable__label {cursor: pointer;display: block;width: 100%;margin-bottom: 0;padding: 0.3em;box-sizing: border-box;text-align: center;}#sk-container-id-1 label.sk-toggleable__label-arrow:before {content: \"▸\";float: left;margin-right: 0.25em;color: #696969;}#sk-container-id-1 label.sk-toggleable__label-arrow:hover:before {color: black;}#sk-container-id-1 div.sk-estimator:hover label.sk-toggleable__label-arrow:before {color: black;}#sk-container-id-1 div.sk-toggleable__content {max-height: 0;max-width: 0;overflow: hidden;text-align: left;background-color: #f0f8ff;}#sk-container-id-1 div.sk-toggleable__content pre {margin: 0.2em;color: black;border-radius: 0.25em;background-color: #f0f8ff;}#sk-container-id-1 input.sk-toggleable__control:checked~div.sk-toggleable__content {max-height: 200px;max-width: 100%;overflow: auto;}#sk-container-id-1 input.sk-toggleable__control:checked~label.sk-toggleable__label-arrow:before {content: \"▾\";}#sk-container-id-1 div.sk-estimator input.sk-toggleable__control:checked~label.sk-toggleable__label {background-color: #d4ebff;}#sk-container-id-1 div.sk-label input.sk-toggleable__control:checked~label.sk-toggleable__label {background-color: #d4ebff;}#sk-container-id-1 input.sk-hidden--visually {border: 0;clip: rect(1px 1px 1px 1px);clip: rect(1px, 1px, 1px, 1px);height: 1px;margin: -1px;overflow: hidden;padding: 0;position: absolute;width: 1px;}#sk-container-id-1 div.sk-estimator {font-family: monospace;background-color: #f0f8ff;border: 1px dotted black;border-radius: 0.25em;box-sizing: border-box;margin-bottom: 0.5em;}#sk-container-id-1 div.sk-estimator:hover {background-color: #d4ebff;}#sk-container-id-1 div.sk-parallel-item::after {content: \"\";width: 100%;border-bottom: 1px solid gray;flex-grow: 1;}#sk-container-id-1 div.sk-label:hover label.sk-toggleable__label {background-color: #d4ebff;}#sk-container-id-1 div.sk-serial::before {content: \"\";position: absolute;border-left: 1px solid gray;box-sizing: border-box;top: 0;bottom: 0;left: 50%;z-index: 0;}#sk-container-id-1 div.sk-serial {display: flex;flex-direction: column;align-items: center;background-color: white;padding-right: 0.2em;padding-left: 0.2em;position: relative;}#sk-container-id-1 div.sk-item {position: relative;z-index: 1;}#sk-container-id-1 div.sk-parallel {display: flex;align-items: stretch;justify-content: center;background-color: white;position: relative;}#sk-container-id-1 div.sk-item::before, #sk-container-id-1 div.sk-parallel-item::before {content: \"\";position: absolute;border-left: 1px solid gray;box-sizing: border-box;top: 0;bottom: 0;left: 50%;z-index: -1;}#sk-container-id-1 div.sk-parallel-item {display: flex;flex-direction: column;z-index: 1;position: relative;background-color: white;}#sk-container-id-1 div.sk-parallel-item:first-child::after {align-self: flex-end;width: 50%;}#sk-container-id-1 div.sk-parallel-item:last-child::after {align-self: flex-start;width: 50%;}#sk-container-id-1 div.sk-parallel-item:only-child::after {width: 0;}#sk-container-id-1 div.sk-dashed-wrapped {border: 1px dashed gray;margin: 0 0.4em 0.5em 0.4em;box-sizing: border-box;padding-bottom: 0.4em;background-color: white;}#sk-container-id-1 div.sk-label label {font-family: monospace;font-weight: bold;display: inline-block;line-height: 1.2em;}#sk-container-id-1 div.sk-label-container {text-align: center;}#sk-container-id-1 div.sk-container {/* jupyter's `normalize.less` sets `[hidden] { display: none; }` but bootstrap.min.css set `[hidden] { display: none !important; }` so we also need the `!important` here to be able to override the default hidden behavior on the sphinx rendered scikit-learn.org. See: https://github.com/scikit-learn/scikit-learn/issues/21755 */display: inline-block !important;position: relative;}#sk-container-id-1 div.sk-text-repr-fallback {display: none;}</style><div id=\"sk-container-id-1\" class=\"sk-top-container\"><div class=\"sk-text-repr-fallback\"><pre>XGBClassifier(base_score=0.5, booster=&#x27;gbtree&#x27;, callbacks=None,\n",
       "              colsample_bylevel=1, colsample_bynode=1, colsample_bytree=1,\n",
       "              early_stopping_rounds=None, enable_categorical=False,\n",
       "              eval_metric=None, feature_types=None, gamma=0, gpu_id=-1,\n",
       "              grow_policy=&#x27;depthwise&#x27;, importance_type=None,\n",
       "              interaction_constraints=&#x27;&#x27;, learning_rate=0.300000012,\n",
       "              max_bin=256, max_cat_threshold=64, max_cat_to_onehot=4,\n",
       "              max_delta_step=0, max_depth=6, max_leaves=0, min_child_weight=1,\n",
       "              missing=nan, monotone_constraints=&#x27;()&#x27;, n_estimators=100,\n",
       "              n_jobs=0, num_parallel_tree=1, predictor=&#x27;auto&#x27;, random_state=0, ...)</pre><b>In a Jupyter environment, please rerun this cell to show the HTML representation or trust the notebook. <br />On GitHub, the HTML representation is unable to render, please try loading this page with nbviewer.org.</b></div><div class=\"sk-container\" hidden><div class=\"sk-item\"><div class=\"sk-estimator sk-toggleable\"><input class=\"sk-toggleable__control sk-hidden--visually\" id=\"sk-estimator-id-1\" type=\"checkbox\" checked><label for=\"sk-estimator-id-1\" class=\"sk-toggleable__label sk-toggleable__label-arrow\">XGBClassifier</label><div class=\"sk-toggleable__content\"><pre>XGBClassifier(base_score=0.5, booster=&#x27;gbtree&#x27;, callbacks=None,\n",
       "              colsample_bylevel=1, colsample_bynode=1, colsample_bytree=1,\n",
       "              early_stopping_rounds=None, enable_categorical=False,\n",
       "              eval_metric=None, feature_types=None, gamma=0, gpu_id=-1,\n",
       "              grow_policy=&#x27;depthwise&#x27;, importance_type=None,\n",
       "              interaction_constraints=&#x27;&#x27;, learning_rate=0.300000012,\n",
       "              max_bin=256, max_cat_threshold=64, max_cat_to_onehot=4,\n",
       "              max_delta_step=0, max_depth=6, max_leaves=0, min_child_weight=1,\n",
       "              missing=nan, monotone_constraints=&#x27;()&#x27;, n_estimators=100,\n",
       "              n_jobs=0, num_parallel_tree=1, predictor=&#x27;auto&#x27;, random_state=0, ...)</pre></div></div></div></div></div>"
      ],
      "text/plain": [
       "XGBClassifier(base_score=0.5, booster='gbtree', callbacks=None,\n",
       "              colsample_bylevel=1, colsample_bynode=1, colsample_bytree=1,\n",
       "              early_stopping_rounds=None, enable_categorical=False,\n",
       "              eval_metric=None, feature_types=None, gamma=0, gpu_id=-1,\n",
       "              grow_policy='depthwise', importance_type=None,\n",
       "              interaction_constraints='', learning_rate=0.300000012,\n",
       "              max_bin=256, max_cat_threshold=64, max_cat_to_onehot=4,\n",
       "              max_delta_step=0, max_depth=6, max_leaves=0, min_child_weight=1,\n",
       "              missing=nan, monotone_constraints='()', n_estimators=100,\n",
       "              n_jobs=0, num_parallel_tree=1, predictor='auto', random_state=0, ...)"
      ]
     },
     "execution_count": 15,
     "metadata": {},
     "output_type": "execute_result"
    },
    {
     "data": {
      "text/plain": [
       "<Figure size 7200x1440 with 0 Axes>"
      ]
     },
     "metadata": {},
     "output_type": "display_data"
    }
   ],
   "source": [
    "%%time\n",
    "# plot feature importance\n",
    "from xgboost import XGBClassifier\n",
    "from xgboost import plot_importance\n",
    "\n",
    "plt.figure(figsize = [100,20])\n",
    "\n",
    "X = data.drop(['isFraud'], axis=1)\n",
    "y = data['isFraud']\n",
    "\n",
    "model = XGBClassifier()\n",
    "model.fit(X, y)"
   ]
  },
  {
   "cell_type": "code",
   "execution_count": 16,
   "id": "e26cdf0b-d944-49e3-91bd-fc25b7def1cd",
   "metadata": {},
   "outputs": [
    {
     "data": {
      "image/png": "[encoded data removed]",
      "text/plain": [
       "<Figure size 720x720 with 2 Axes>"
      ]
     },
     "metadata": {
      "needs_background": "light"
     },
     "output_type": "display_data"
    }
   ],
   "source": [
    "# define subplot grid\n",
    "fig, axs = plt.subplots(nrows=2, ncols=1, figsize=(10, 10))\n",
    "plt.tight_layout()\n",
    "plt.subplots_adjust(hspace=0.1)\n",
    "\n",
    "types = ['weight', 'gain']\n",
    "# loop through tickers and axes\n",
    "colors = ['#ff7f01','#08aebd']\n",
    "for ty, ax, color in zip(types, axs.ravel(), colors):\n",
    "    # filter df for ticker and plot on specified axes\n",
    "    plot_importance(ax = ax, booster = model,importance_type=ty, color = color)\n",
    "\n",
    "    # chart formatting\n",
    "    ax.set_title(ty.upper(),fontsize = 22)\n",
    "    ax.set_xlabel(\"\")\n",
    "\n",
    "plt.show()"
   ]
  },
  {
   "cell_type": "markdown",
   "id": "983afa05-e8fc-48a4-ab7c-1aac842e8f72",
   "metadata": {},
   "source": [
    "Combining the two plots above, we selected five important features."
   ]
  },
  {
   "cell_type": "code",
   "execution_count": 17,
   "id": "dda5466b-b1d7-43e6-88e6-4b5a8f4361a7",
   "metadata": {},
   "outputs": [],
   "source": [
    "data = data.drop(['type_PAYMENT','type_CASH_IN','type_DEBIT'],axis=1)"
   ]
  },
  {
   "cell_type": "markdown",
   "id": "87a8f8b0-b7f4-4796-bc66-b4a67e07e828",
   "metadata": {},
   "source": [
    "### 3.2 Dask"
   ]
  },
  {
   "cell_type": "code",
   "execution_count": 18,
   "id": "412964e8-15de-49a0-aa00-473844c348c3",
   "metadata": {},
   "outputs": [],
   "source": [
    "data_dd = pd.read_csv('onlinefraud.csv')\n",
    "data_dd = data_dd.drop(['isFlaggedFraud','nameOrig','nameDest','step'],axis=1)\n",
    "data_dd = from_pandas(data_dd, npartitions = 16)"
   ]
  },
  {
   "cell_type": "code",
   "execution_count": 19,
   "id": "aa121a17-efb9-4d57-9578-d4c4b1d9c1ef",
   "metadata": {},
   "outputs": [
    {
     "data": {
      "text/html": [
       "<div><strong>Dask DataFrame Structure:</strong></div>\n",
       "<div>\n",
       "<style scoped>\n",
       "    .dataframe tbody tr th:only-of-type {\n",
       "        vertical-align: middle;\n",
       "    }\n",
       "\n",
       "    .dataframe tbody tr th {\n",
       "        vertical-align: top;\n",
       "    }\n",
       "\n",
       "    .dataframe thead th {\n",
       "        text-align: right;\n",
       "    }\n",
       "</style>\n",
       "<table border=\"1\" class=\"dataframe\">\n",
       "  <thead>\n",
       "    <tr style=\"text-align: right;\">\n",
       "      <th></th>\n",
       "      <th>type</th>\n",
       "      <th>amount</th>\n",
       "      <th>oldbalanceOrg</th>\n",
       "      <th>newbalanceOrig</th>\n",
       "      <th>oldbalanceDest</th>\n",
       "      <th>newbalanceDest</th>\n",
       "      <th>isFraud</th>\n",
       "    </tr>\n",
       "    <tr>\n",
       "      <th>npartitions=16</th>\n",
       "      <th></th>\n",
       "      <th></th>\n",
       "      <th></th>\n",
       "      <th></th>\n",
       "      <th></th>\n",
       "      <th></th>\n",
       "      <th></th>\n",
       "    </tr>\n",
       "  </thead>\n",
       "  <tbody>\n",
       "    <tr>\n",
       "      <th>0</th>\n",
       "      <td>object</td>\n",
       "      <td>float64</td>\n",
       "      <td>float64</td>\n",
       "      <td>float64</td>\n",
       "      <td>float64</td>\n",
       "      <td>float64</td>\n",
       "      <td>int64</td>\n",
       "    </tr>\n",
       "    <tr>\n",
       "      <th>397664</th>\n",
       "      <td>...</td>\n",
       "      <td>...</td>\n",
       "      <td>...</td>\n",
       "      <td>...</td>\n",
       "      <td>...</td>\n",
       "      <td>...</td>\n",
       "      <td>...</td>\n",
       "    </tr>\n",
       "    <tr>\n",
       "      <th>...</th>\n",
       "      <td>...</td>\n",
       "      <td>...</td>\n",
       "      <td>...</td>\n",
       "      <td>...</td>\n",
       "      <td>...</td>\n",
       "      <td>...</td>\n",
       "      <td>...</td>\n",
       "    </tr>\n",
       "    <tr>\n",
       "      <th>5964960</th>\n",
       "      <td>...</td>\n",
       "      <td>...</td>\n",
       "      <td>...</td>\n",
       "      <td>...</td>\n",
       "      <td>...</td>\n",
       "      <td>...</td>\n",
       "      <td>...</td>\n",
       "    </tr>\n",
       "    <tr>\n",
       "      <th>6362619</th>\n",
       "      <td>...</td>\n",
       "      <td>...</td>\n",
       "      <td>...</td>\n",
       "      <td>...</td>\n",
       "      <td>...</td>\n",
       "      <td>...</td>\n",
       "      <td>...</td>\n",
       "    </tr>\n",
       "  </tbody>\n",
       "</table>\n",
       "</div>\n",
       "<div>Dask Name: from_pandas, 16 tasks</div>"
      ],
      "text/plain": [
       "Dask DataFrame Structure:\n",
       "                  type   amount oldbalanceOrg newbalanceOrig oldbalanceDest newbalanceDest isFraud\n",
       "npartitions=16                                                                                    \n",
       "0               object  float64       float64        float64        float64        float64   int64\n",
       "397664             ...      ...           ...            ...            ...            ...     ...\n",
       "...                ...      ...           ...            ...            ...            ...     ...\n",
       "5964960            ...      ...           ...            ...            ...            ...     ...\n",
       "6362619            ...      ...           ...            ...            ...            ...     ...\n",
       "Dask Name: from_pandas, 16 tasks"
      ]
     },
     "execution_count": 19,
     "metadata": {},
     "output_type": "execute_result"
    }
   ],
   "source": [
    "data_dd"
   ]
  },
  {
   "cell_type": "code",
   "execution_count": 20,
   "id": "54aa85ac-d544-4878-b75f-41c68e909559",
   "metadata": {},
   "outputs": [
    {
     "name": "stdout",
     "output_type": "stream",
     "text": [
      "CPU times: user 1.68 s, sys: 343 ms, total: 2.02 s\n",
      "Wall time: 2.17 s\n"
     ]
    }
   ],
   "source": [
    "%%time\n",
    "from dask_ml.preprocessing import DummyEncoder\n",
    "# Generate an encoder. \n",
    "encoder = DummyEncoder()\n",
    "# Categorize your columns.  \n",
    "data_dd = data_dd.categorize(['type'])\n",
    "# Fit the encoder \n",
    "data_dd = encoder.fit_transform(data_dd)"
   ]
  },
  {
   "cell_type": "code",
   "execution_count": 21,
   "id": "621aeeb4-bb39-45ab-ad75-842c5fd5b4d4",
   "metadata": {},
   "outputs": [
    {
     "name": "stdout",
     "output_type": "stream",
     "text": [
      "CPU times: user 24.3 ms, sys: 2.12 ms, total: 26.4 ms\n",
      "Wall time: 23 ms\n"
     ]
    }
   ],
   "source": [
    "%%time\n",
    "# Add two new features: the difference between the old balance and the new balance\n",
    "data_dd['orig_balance_diff'] = data_dd.oldbalanceOrg - data_dd.newbalanceOrig\n",
    "data_dd['dest_balance_diff'] = data_dd.oldbalanceDest - data_dd.newbalanceDest\n",
    "data_dd = data_dd.drop(['oldbalanceOrg','newbalanceOrig','oldbalanceDest','newbalanceDest'],axis=1)"
   ]
  },
  {
   "cell_type": "code",
   "execution_count": 22,
   "id": "f0f39012-485c-4c40-ab57-3ed3a0952e7c",
   "metadata": {},
   "outputs": [],
   "source": [
    "data_dd = data_dd.drop(['type_PAYMENT','type_CASH_IN','type_DEBIT'],axis=1)"
   ]
  },
  {
   "cell_type": "markdown",
   "id": "f3ccac79-eb04-4045-8d1f-236af397fe52",
   "metadata": {},
   "source": [
    "# 4. Handling unbalanced data"
   ]
  },
  {
   "cell_type": "code",
   "execution_count": 23,
   "id": "8560623b-505f-489b-a49a-621fbdead1c7",
   "metadata": {},
   "outputs": [
    {
     "name": "stdout",
     "output_type": "stream",
     "text": [
      "Not Fraud: 6354407\n",
      "Is Fraud: 8213\n",
      "Ratio: 773.7 : 1\n"
     ]
    },
    {
     "data": {
      "image/png": "[encoded data removed]",
      "text/plain": [
       "<Figure size 432x288 with 1 Axes>"
      ]
     },
     "metadata": {},
     "output_type": "display_data"
    }
   ],
   "source": [
    "target_count = data.isFraud.value_counts()\n",
    "print('Not Fraud:', target_count[0])\n",
    "print('Is Fraud:', target_count[1])\n",
    "print('Ratio:', round(target_count[0] / target_count[1], 2), ': 1')\n",
    "\n",
    "target_count.plot(kind='pie');"
   ]
  },
  {
   "cell_type": "markdown",
   "id": "000bd52e-1d88-413d-ad3e-1c93b2e50c85",
   "metadata": {},
   "source": [
    "The data is extremely unbalanced!, so try oversampling and undersampling!"
   ]
  },
  {
   "cell_type": "markdown",
   "id": "ae2bcca6-661b-4faf-9dd7-0bc097c31c7f",
   "metadata": {},
   "source": [
    "### 4.1 pandas"
   ]
  },
  {
   "cell_type": "markdown",
   "id": "8ec324f2-4338-4e44-b0a6-d0ab28e1581f",
   "metadata": {},
   "source": [
    "#### 4.1.1 Oversampling"
   ]
  },
  {
   "cell_type": "code",
   "execution_count": 24,
   "id": "e7970eb1-667c-4868-a49f-736781b0600c",
   "metadata": {},
   "outputs": [
    {
     "name": "stdout",
     "output_type": "stream",
     "text": [
      "CPU times: user 738 ms, sys: 970 ms, total: 1.71 s\n",
      "Wall time: 1.71 s\n"
     ]
    }
   ],
   "source": [
    "%%time\n",
    "IsNotFraud_count,IsFraud_count = data['isFraud'].value_counts()\n",
    "IsNotFraud = data[data['isFraud'] == 0]\n",
    "IsFraud = data[data['isFraud'] == 1]\n",
    "IsFraud_over = IsFraud.sample(IsNotFraud_count,replace=True)\n",
    "over_balanced_data = pd.concat([IsNotFraud,IsFraud_over], axis=0)"
   ]
  },
  {
   "cell_type": "code",
   "execution_count": 25,
   "id": "826962bc-7d04-45df-a2f1-9040eb718c0e",
   "metadata": {},
   "outputs": [
    {
     "name": "stdout",
     "output_type": "stream",
     "text": [
      "Not Fraud: 6354407\n",
      "Is Fraud: 6354407\n",
      "Ratio: 1.0 : 1\n"
     ]
    },
    {
     "data": {
      "image/png": "[encoded data removed]",
      "text/plain": [
       "<Figure size 432x288 with 1 Axes>"
      ]
     },
     "metadata": {},
     "output_type": "display_data"
    }
   ],
   "source": [
    "target_count = over_balanced_data.isFraud.value_counts()\n",
    "print('Not Fraud:', target_count[0])\n",
    "print('Is Fraud:', target_count[1])\n",
    "print('Ratio:', round(target_count[0] / target_count[1], 2), ': 1')\n",
    "\n",
    "target_count.plot(kind='pie');"
   ]
  },
  {
   "cell_type": "markdown",
   "id": "78bd3fa3-0c73-43a2-bbb0-dbee8f93d107",
   "metadata": {},
   "source": [
    "#### 4.1.2 Undersampling"
   ]
  },
  {
   "cell_type": "code",
   "execution_count": 26,
   "id": "87ad14aa-159c-43a5-9bff-36b4ac01737e",
   "metadata": {},
   "outputs": [
    {
     "name": "stdout",
     "output_type": "stream",
     "text": [
      "CPU times: user 403 ms, sys: 223 ms, total: 627 ms\n",
      "Wall time: 624 ms\n"
     ]
    }
   ],
   "source": [
    "%%time\n",
    "IsNotFraud_count,IsFraud_count = data['isFraud'].value_counts()\n",
    "IsNotFraud = data[data['isFraud'] == 0]\n",
    "IsFraud = data[data['isFraud'] == 1]\n",
    "IsNotFraud_under = IsNotFraud.sample(frac=0.001)\n",
    "under_balanced_data = pd.concat([IsNotFraud_under,IsFraud], axis=0)"
   ]
  },
  {
   "cell_type": "code",
   "execution_count": 27,
   "id": "bcb667e8-fda7-4f58-a580-4d805fc994da",
   "metadata": {},
   "outputs": [
    {
     "name": "stdout",
     "output_type": "stream",
     "text": [
      "Not Fraud: 6354\n",
      "Is Fraud: 8213\n",
      "Ratio: 0.77 : 1\n"
     ]
    },
    {
     "data": {
      "image/png": "[encoded data removed]",
      "text/plain": [
       "<Figure size 432x288 with 1 Axes>"
      ]
     },
     "metadata": {},
     "output_type": "display_data"
    }
   ],
   "source": [
    "target_count = under_balanced_data.isFraud.value_counts()\n",
    "print('Not Fraud:', target_count[0])\n",
    "print('Is Fraud:', target_count[1])\n",
    "print('Ratio:', round(target_count[0] / target_count[1], 2), ': 1')\n",
    "\n",
    "target_count.plot(kind='pie');"
   ]
  },
  {
   "cell_type": "markdown",
   "id": "440c81a2-9a38-4615-85da-450cade433b9",
   "metadata": {},
   "source": [
    "### 4.2 Dask"
   ]
  },
  {
   "cell_type": "markdown",
   "id": "0cb43b10-f05a-4680-b386-f90991147f70",
   "metadata": {},
   "source": [
    "#### 4.2.1 Oversampling"
   ]
  },
  {
   "cell_type": "code",
   "execution_count": 28,
   "id": "623debda-e245-4a23-9d87-175fb9853d9a",
   "metadata": {},
   "outputs": [
    {
     "name": "stdout",
     "output_type": "stream",
     "text": [
      "CPU times: user 2.51 s, sys: 878 ms, total: 3.39 s\n",
      "Wall time: 1.93 s\n"
     ]
    }
   ],
   "source": [
    "%%time\n",
    "IsNotFraud_count,IsFraud_count = data_dd['isFraud'].value_counts()\n",
    "IsNotFraud = data_dd[data_dd['isFraud'] == 0]\n",
    "IsFraud = data_dd[data_dd['isFraud'] == 1]"
   ]
  },
  {
   "cell_type": "code",
   "execution_count": 29,
   "id": "540b4493-d6e1-4cef-842d-b88078f307fa",
   "metadata": {},
   "outputs": [],
   "source": [
    "IsFraud_over = IsFraud.sample(frac = 773.7,replace=True)\n",
    "over_balanced_data_dd = dd.concat([IsNotFraud,IsFraud_over], axis=0)"
   ]
  },
  {
   "cell_type": "code",
   "execution_count": 30,
   "id": "3b25a2d6-88e9-4fb0-af39-0d140b495325",
   "metadata": {},
   "outputs": [
    {
     "name": "stdout",
     "output_type": "stream",
     "text": [
      "Not Fraud: 6354407\n",
      "Is Fraud: 6354397\n",
      "Ratio: 1.0 : 1\n"
     ]
    },
    {
     "data": {
      "image/png": "[encoded data removed]",
      "text/plain": [
       "<Figure size 432x288 with 1 Axes>"
      ]
     },
     "metadata": {},
     "output_type": "display_data"
    }
   ],
   "source": [
    "target_count = over_balanced_data_dd.compute().isFraud.value_counts()\n",
    "print('Not Fraud:', target_count[0])\n",
    "print('Is Fraud:', target_count[1])\n",
    "print('Ratio:', round(target_count[0] / target_count[1], 2), ': 1')\n",
    "\n",
    "target_count.plot(kind='pie');"
   ]
  },
  {
   "cell_type": "code",
   "execution_count": 31,
   "id": "2385b51f-368f-4b94-82ac-f0980735795e",
   "metadata": {},
   "outputs": [],
   "source": [
    "X_over_balanced_data_dd = over_balanced_data_dd.iloc[:,over_balanced_data_dd.columns !='isFraud'].values\n",
    "y_over_balanced_data_dd = over_balanced_data_dd.loc[:,'isFraud'].values"
   ]
  },
  {
   "cell_type": "code",
   "execution_count": 32,
   "id": "bdefa12c-9e4d-40e7-9fcc-69df96c9d3b2",
   "metadata": {},
   "outputs": [
    {
     "data": {
      "text/html": [
       "<table>\n",
       "<tr>\n",
       "<td>\n",
       "<table>\n",
       "  <thead>\n",
       "    <tr><td> </td><th> Array </th><th> Chunk </th></tr>\n",
       "  </thead>\n",
       "  <tbody>\n",
       "    <tr><th> Bytes </th><td> 484.80 MiB </td> <td> 107.85 MiB </td></tr>\n",
       "    <tr><th> Shape </th><td> (12708804, 5) </td> <td> (2827100, 5) </td></tr>\n",
       "    <tr><th> Count </th><td> 400 Tasks </td><td> 32 Chunks </td></tr>\n",
       "    <tr><th> Type </th><td> float64 </td><td> numpy.ndarray </td></tr>\n",
       "  </tbody>\n",
       "</table>\n",
       "</td>\n",
       "<td>\n",
       "<svg width=\"75\" height=\"170\" style=\"stroke:rgb(0,0,0);stroke-width:1\" >\n",
       "\n",
       "  <!-- Horizontal lines -->\n",
       "  <line x1=\"0\" y1=\"0\" x2=\"25\" y2=\"0\" style=\"stroke-width:2\" />\n",
       "  <line x1=\"0\" y1=\"3\" x2=\"25\" y2=\"3\" />\n",
       "  <line x1=\"0\" y1=\"11\" x2=\"25\" y2=\"11\" />\n",
       "  <line x1=\"0\" y1=\"18\" x2=\"25\" y2=\"18\" />\n",
       "  <line x1=\"0\" y1=\"22\" x2=\"25\" y2=\"22\" />\n",
       "  <line x1=\"0\" y1=\"30\" x2=\"25\" y2=\"30\" />\n",
       "  <line x1=\"0\" y1=\"37\" x2=\"25\" y2=\"37\" />\n",
       "  <line x1=\"0\" y1=\"41\" x2=\"25\" y2=\"41\" />\n",
       "  <line x1=\"0\" y1=\"48\" x2=\"25\" y2=\"48\" />\n",
       "  <line x1=\"0\" y1=\"56\" x2=\"25\" y2=\"56\" />\n",
       "  <line x1=\"0\" y1=\"60\" x2=\"25\" y2=\"60\" />\n",
       "  <line x1=\"0\" y1=\"63\" x2=\"25\" y2=\"63\" />\n",
       "  <line x1=\"0\" y1=\"72\" x2=\"25\" y2=\"72\" />\n",
       "  <line x1=\"0\" y1=\"74\" x2=\"25\" y2=\"74\" />\n",
       "  <line x1=\"0\" y1=\"77\" x2=\"25\" y2=\"77\" />\n",
       "  <line x1=\"0\" y1=\"81\" x2=\"25\" y2=\"81\" />\n",
       "  <line x1=\"0\" y1=\"84\" x2=\"25\" y2=\"84\" />\n",
       "  <line x1=\"0\" y1=\"87\" x2=\"25\" y2=\"87\" />\n",
       "  <line x1=\"0\" y1=\"92\" x2=\"25\" y2=\"92\" />\n",
       "  <line x1=\"0\" y1=\"120\" x2=\"25\" y2=\"120\" style=\"stroke-width:2\" />\n",
       "\n",
       "  <!-- Vertical lines -->\n",
       "  <line x1=\"0\" y1=\"0\" x2=\"0\" y2=\"120\" style=\"stroke-width:2\" />\n",
       "  <line x1=\"25\" y1=\"0\" x2=\"25\" y2=\"120\" style=\"stroke-width:2\" />\n",
       "\n",
       "  <!-- Colored Rectangle -->\n",
       "  <polygon points=\"0.0,0.0 25.412616514582485,0.0 25.412616514582485,120.0 0.0,120.0\" style=\"fill:#8B4903A0;stroke-width:0\"/>\n",
       "\n",
       "  <!-- Text -->\n",
       "  <text x=\"12.706308\" y=\"140.000000\" font-size=\"1.0rem\" font-weight=\"100\" text-anchor=\"middle\" >5</text>\n",
       "  <text x=\"45.412617\" y=\"60.000000\" font-size=\"1.0rem\" font-weight=\"100\" text-anchor=\"middle\" transform=\"rotate(-90,45.412617,60.000000)\">12708804</text>\n",
       "</svg>\n",
       "</td>\n",
       "</tr>\n",
       "</table>"
      ],
      "text/plain": [
       "dask.array<values, shape=(12708804, 5), dtype=float64, chunksize=(2827100, 5), chunktype=numpy.ndarray>"
      ]
     },
     "execution_count": 32,
     "metadata": {},
     "output_type": "execute_result"
    }
   ],
   "source": [
    "X_over_balanced_data_dd.compute_chunk_sizes()"
   ]
  },
  {
   "cell_type": "code",
   "execution_count": 33,
   "id": "fb350e9a-abc6-4f70-804c-de365603736e",
   "metadata": {},
   "outputs": [
    {
     "data": {
      "text/html": [
       "<table>\n",
       "<tr>\n",
       "<td>\n",
       "<table>\n",
       "  <thead>\n",
       "    <tr><td> </td><th> Array </th><th> Chunk </th></tr>\n",
       "  </thead>\n",
       "  <tbody>\n",
       "    <tr><th> Bytes </th><td> 96.96 MiB </td> <td> 21.57 MiB </td></tr>\n",
       "    <tr><th> Shape </th><td> (12708804,) </td> <td> (2827100,) </td></tr>\n",
       "    <tr><th> Count </th><td> 400 Tasks </td><td> 32 Chunks </td></tr>\n",
       "    <tr><th> Type </th><td> int64 </td><td> numpy.ndarray </td></tr>\n",
       "  </tbody>\n",
       "</table>\n",
       "</td>\n",
       "<td>\n",
       "<svg width=\"170\" height=\"75\" style=\"stroke:rgb(0,0,0);stroke-width:1\" >\n",
       "\n",
       "  <!-- Horizontal lines -->\n",
       "  <line x1=\"0\" y1=\"0\" x2=\"120\" y2=\"0\" style=\"stroke-width:2\" />\n",
       "  <line x1=\"0\" y1=\"25\" x2=\"120\" y2=\"25\" style=\"stroke-width:2\" />\n",
       "\n",
       "  <!-- Vertical lines -->\n",
       "  <line x1=\"0\" y1=\"0\" x2=\"0\" y2=\"25\" style=\"stroke-width:2\" />\n",
       "  <line x1=\"3\" y1=\"0\" x2=\"3\" y2=\"25\" />\n",
       "  <line x1=\"11\" y1=\"0\" x2=\"11\" y2=\"25\" />\n",
       "  <line x1=\"18\" y1=\"0\" x2=\"18\" y2=\"25\" />\n",
       "  <line x1=\"22\" y1=\"0\" x2=\"22\" y2=\"25\" />\n",
       "  <line x1=\"30\" y1=\"0\" x2=\"30\" y2=\"25\" />\n",
       "  <line x1=\"37\" y1=\"0\" x2=\"37\" y2=\"25\" />\n",
       "  <line x1=\"41\" y1=\"0\" x2=\"41\" y2=\"25\" />\n",
       "  <line x1=\"48\" y1=\"0\" x2=\"48\" y2=\"25\" />\n",
       "  <line x1=\"56\" y1=\"0\" x2=\"56\" y2=\"25\" />\n",
       "  <line x1=\"60\" y1=\"0\" x2=\"60\" y2=\"25\" />\n",
       "  <line x1=\"63\" y1=\"0\" x2=\"63\" y2=\"25\" />\n",
       "  <line x1=\"72\" y1=\"0\" x2=\"72\" y2=\"25\" />\n",
       "  <line x1=\"74\" y1=\"0\" x2=\"74\" y2=\"25\" />\n",
       "  <line x1=\"77\" y1=\"0\" x2=\"77\" y2=\"25\" />\n",
       "  <line x1=\"81\" y1=\"0\" x2=\"81\" y2=\"25\" />\n",
       "  <line x1=\"84\" y1=\"0\" x2=\"84\" y2=\"25\" />\n",
       "  <line x1=\"87\" y1=\"0\" x2=\"87\" y2=\"25\" />\n",
       "  <line x1=\"92\" y1=\"0\" x2=\"92\" y2=\"25\" />\n",
       "  <line x1=\"120\" y1=\"0\" x2=\"120\" y2=\"25\" style=\"stroke-width:2\" />\n",
       "\n",
       "  <!-- Colored Rectangle -->\n",
       "  <polygon points=\"0.0,0.0 120.0,0.0 120.0,25.412616514582485 0.0,25.412616514582485\" style=\"fill:#8B4903A0;stroke-width:0\"/>\n",
       "\n",
       "  <!-- Text -->\n",
       "  <text x=\"60.000000\" y=\"45.412617\" font-size=\"1.0rem\" font-weight=\"100\" text-anchor=\"middle\" >12708804</text>\n",
       "  <text x=\"140.000000\" y=\"12.706308\" font-size=\"1.0rem\" font-weight=\"100\" text-anchor=\"middle\" transform=\"rotate(0,140.000000,12.706308)\">1</text>\n",
       "</svg>\n",
       "</td>\n",
       "</tr>\n",
       "</table>"
      ],
      "text/plain": [
       "dask.array<values, shape=(12708804,), dtype=int64, chunksize=(2827100,), chunktype=numpy.ndarray>"
      ]
     },
     "execution_count": 33,
     "metadata": {},
     "output_type": "execute_result"
    }
   ],
   "source": [
    "y_over_balanced_data_dd.compute_chunk_sizes()"
   ]
  },
  {
   "cell_type": "markdown",
   "id": "040fd7c4-2411-464c-be2d-4351020f2def",
   "metadata": {},
   "source": [
    "#### 4.2.2 Undersampling"
   ]
  },
  {
   "cell_type": "code",
   "execution_count": 34,
   "id": "991084e9-c9bf-4835-a303-3a33e0679ec9",
   "metadata": {},
   "outputs": [
    {
     "name": "stdout",
     "output_type": "stream",
     "text": [
      "CPU times: user 2.75 s, sys: 875 ms, total: 3.62 s\n",
      "Wall time: 2.07 s\n"
     ]
    }
   ],
   "source": [
    "%%time\n",
    "IsFraud_count, IsNotFraud_count = data_dd['isFraud'].value_counts()\n",
    "IsNotFraud = data_dd[data_dd['isFraud'] == 0]\n",
    "IsFraud = data_dd[data_dd['isFraud'] == 1]\n",
    "IsNotFraud_under = IsNotFraud.sample(frac=0.001)\n",
    "under_balanced_data_dd = dd.concat([IsNotFraud_under,IsFraud], axis=0)"
   ]
  },
  {
   "cell_type": "code",
   "execution_count": 35,
   "id": "8f700999-7e07-4c9d-ab1f-a9a6d6620c7d",
   "metadata": {},
   "outputs": [
    {
     "name": "stdout",
     "output_type": "stream",
     "text": [
      "Not Fraud: 6351\n",
      "Is Fraud: 8213\n",
      "Ratio: 0.77 : 1\n"
     ]
    },
    {
     "data": {
      "image/png": "[encoded data removed]",
      "text/plain": [
       "<Figure size 432x288 with 1 Axes>"
      ]
     },
     "metadata": {},
     "output_type": "display_data"
    }
   ],
   "source": [
    "target_count = under_balanced_data_dd.compute().isFraud.value_counts()\n",
    "print('Not Fraud:', target_count[0])\n",
    "print('Is Fraud:', target_count[1])\n",
    "print('Ratio:', round(target_count[0] / target_count[1], 2), ': 1')\n",
    "\n",
    "target_count.plot(kind='pie');"
   ]
  },
  {
   "cell_type": "code",
   "execution_count": 36,
   "id": "f345e5df-a9d0-426b-b024-e78120db2fd0",
   "metadata": {},
   "outputs": [],
   "source": [
    "X_under_balanced_data_dd = under_balanced_data_dd.iloc[:,under_balanced_data_dd.columns !='isFraud'].values\n",
    "y_under_balanced_data_dd = under_balanced_data_dd.loc[:,'isFraud'].values"
   ]
  },
  {
   "cell_type": "code",
   "execution_count": 37,
   "id": "7f4c3f6e-e8d7-4532-9a35-cfa1cae02c14",
   "metadata": {},
   "outputs": [
    {
     "data": {
      "text/html": [
       "<table>\n",
       "<tr>\n",
       "<td>\n",
       "<table>\n",
       "  <thead>\n",
       "    <tr><td> </td><th> Array </th><th> Chunk </th></tr>\n",
       "  </thead>\n",
       "  <tbody>\n",
       "    <tr><th> Bytes </th><td> 568.91 kiB </td> <td> 142.73 kiB </td></tr>\n",
       "    <tr><th> Shape </th><td> (14564, 5) </td> <td> (3654, 5) </td></tr>\n",
       "    <tr><th> Count </th><td> 400 Tasks </td><td> 32 Chunks </td></tr>\n",
       "    <tr><th> Type </th><td> float64 </td><td> numpy.ndarray </td></tr>\n",
       "  </tbody>\n",
       "</table>\n",
       "</td>\n",
       "<td>\n",
       "<svg width=\"75\" height=\"170\" style=\"stroke:rgb(0,0,0);stroke-width:1\" >\n",
       "\n",
       "  <!-- Horizontal lines -->\n",
       "  <line x1=\"0\" y1=\"0\" x2=\"25\" y2=\"0\" style=\"stroke-width:2\" />\n",
       "  <line x1=\"0\" y1=\"3\" x2=\"25\" y2=\"3\" />\n",
       "  <line x1=\"0\" y1=\"9\" x2=\"25\" y2=\"9\" />\n",
       "  <line x1=\"0\" y1=\"16\" x2=\"25\" y2=\"16\" />\n",
       "  <line x1=\"0\" y1=\"19\" x2=\"25\" y2=\"19\" />\n",
       "  <line x1=\"0\" y1=\"26\" x2=\"25\" y2=\"26\" />\n",
       "  <line x1=\"0\" y1=\"32\" x2=\"25\" y2=\"32\" />\n",
       "  <line x1=\"0\" y1=\"35\" x2=\"25\" y2=\"35\" />\n",
       "  <line x1=\"0\" y1=\"42\" x2=\"25\" y2=\"42\" />\n",
       "  <line x1=\"0\" y1=\"49\" x2=\"25\" y2=\"49\" />\n",
       "  <line x1=\"0\" y1=\"52\" x2=\"25\" y2=\"52\" />\n",
       "  <line x1=\"0\" y1=\"56\" x2=\"25\" y2=\"56\" />\n",
       "  <line x1=\"0\" y1=\"66\" x2=\"25\" y2=\"66\" />\n",
       "  <line x1=\"0\" y1=\"69\" x2=\"25\" y2=\"69\" />\n",
       "  <line x1=\"0\" y1=\"72\" x2=\"25\" y2=\"72\" />\n",
       "  <line x1=\"0\" y1=\"76\" x2=\"25\" y2=\"76\" />\n",
       "  <line x1=\"0\" y1=\"80\" x2=\"25\" y2=\"80\" />\n",
       "  <line x1=\"0\" y1=\"83\" x2=\"25\" y2=\"83\" />\n",
       "  <line x1=\"0\" y1=\"88\" x2=\"25\" y2=\"88\" />\n",
       "  <line x1=\"0\" y1=\"120\" x2=\"25\" y2=\"120\" style=\"stroke-width:2\" />\n",
       "\n",
       "  <!-- Vertical lines -->\n",
       "  <line x1=\"0\" y1=\"0\" x2=\"0\" y2=\"120\" style=\"stroke-width:2\" />\n",
       "  <line x1=\"25\" y1=\"0\" x2=\"25\" y2=\"120\" style=\"stroke-width:2\" />\n",
       "\n",
       "  <!-- Colored Rectangle -->\n",
       "  <polygon points=\"0.0,0.0 25.412616514582485,0.0 25.412616514582485,120.0 0.0,120.0\" style=\"fill:#8B4903A0;stroke-width:0\"/>\n",
       "\n",
       "  <!-- Text -->\n",
       "  <text x=\"12.706308\" y=\"140.000000\" font-size=\"1.0rem\" font-weight=\"100\" text-anchor=\"middle\" >5</text>\n",
       "  <text x=\"45.412617\" y=\"60.000000\" font-size=\"1.0rem\" font-weight=\"100\" text-anchor=\"middle\" transform=\"rotate(-90,45.412617,60.000000)\">14564</text>\n",
       "</svg>\n",
       "</td>\n",
       "</tr>\n",
       "</table>"
      ],
      "text/plain": [
       "dask.array<values, shape=(14564, 5), dtype=float64, chunksize=(3654, 5), chunktype=numpy.ndarray>"
      ]
     },
     "execution_count": 37,
     "metadata": {},
     "output_type": "execute_result"
    }
   ],
   "source": [
    "X_under_balanced_data_dd.compute_chunk_sizes()"
   ]
  },
  {
   "cell_type": "code",
   "execution_count": 38,
   "id": "a4640459-ba5a-47de-8075-68fc9b7d0fd3",
   "metadata": {},
   "outputs": [
    {
     "data": {
      "text/html": [
       "<table>\n",
       "<tr>\n",
       "<td>\n",
       "<table>\n",
       "  <thead>\n",
       "    <tr><td> </td><th> Array </th><th> Chunk </th></tr>\n",
       "  </thead>\n",
       "  <tbody>\n",
       "    <tr><th> Bytes </th><td> 113.78 kiB </td> <td> 28.55 kiB </td></tr>\n",
       "    <tr><th> Shape </th><td> (14564,) </td> <td> (3654,) </td></tr>\n",
       "    <tr><th> Count </th><td> 400 Tasks </td><td> 32 Chunks </td></tr>\n",
       "    <tr><th> Type </th><td> int64 </td><td> numpy.ndarray </td></tr>\n",
       "  </tbody>\n",
       "</table>\n",
       "</td>\n",
       "<td>\n",
       "<svg width=\"170\" height=\"75\" style=\"stroke:rgb(0,0,0);stroke-width:1\" >\n",
       "\n",
       "  <!-- Horizontal lines -->\n",
       "  <line x1=\"0\" y1=\"0\" x2=\"120\" y2=\"0\" style=\"stroke-width:2\" />\n",
       "  <line x1=\"0\" y1=\"25\" x2=\"120\" y2=\"25\" style=\"stroke-width:2\" />\n",
       "\n",
       "  <!-- Vertical lines -->\n",
       "  <line x1=\"0\" y1=\"0\" x2=\"0\" y2=\"25\" style=\"stroke-width:2\" />\n",
       "  <line x1=\"3\" y1=\"0\" x2=\"3\" y2=\"25\" />\n",
       "  <line x1=\"9\" y1=\"0\" x2=\"9\" y2=\"25\" />\n",
       "  <line x1=\"16\" y1=\"0\" x2=\"16\" y2=\"25\" />\n",
       "  <line x1=\"19\" y1=\"0\" x2=\"19\" y2=\"25\" />\n",
       "  <line x1=\"26\" y1=\"0\" x2=\"26\" y2=\"25\" />\n",
       "  <line x1=\"32\" y1=\"0\" x2=\"32\" y2=\"25\" />\n",
       "  <line x1=\"35\" y1=\"0\" x2=\"35\" y2=\"25\" />\n",
       "  <line x1=\"42\" y1=\"0\" x2=\"42\" y2=\"25\" />\n",
       "  <line x1=\"49\" y1=\"0\" x2=\"49\" y2=\"25\" />\n",
       "  <line x1=\"52\" y1=\"0\" x2=\"52\" y2=\"25\" />\n",
       "  <line x1=\"56\" y1=\"0\" x2=\"56\" y2=\"25\" />\n",
       "  <line x1=\"66\" y1=\"0\" x2=\"66\" y2=\"25\" />\n",
       "  <line x1=\"69\" y1=\"0\" x2=\"69\" y2=\"25\" />\n",
       "  <line x1=\"72\" y1=\"0\" x2=\"72\" y2=\"25\" />\n",
       "  <line x1=\"76\" y1=\"0\" x2=\"76\" y2=\"25\" />\n",
       "  <line x1=\"80\" y1=\"0\" x2=\"80\" y2=\"25\" />\n",
       "  <line x1=\"83\" y1=\"0\" x2=\"83\" y2=\"25\" />\n",
       "  <line x1=\"88\" y1=\"0\" x2=\"88\" y2=\"25\" />\n",
       "  <line x1=\"120\" y1=\"0\" x2=\"120\" y2=\"25\" style=\"stroke-width:2\" />\n",
       "\n",
       "  <!-- Colored Rectangle -->\n",
       "  <polygon points=\"0.0,0.0 120.0,0.0 120.0,25.412616514582485 0.0,25.412616514582485\" style=\"fill:#8B4903A0;stroke-width:0\"/>\n",
       "\n",
       "  <!-- Text -->\n",
       "  <text x=\"60.000000\" y=\"45.412617\" font-size=\"1.0rem\" font-weight=\"100\" text-anchor=\"middle\" >14564</text>\n",
       "  <text x=\"140.000000\" y=\"12.706308\" font-size=\"1.0rem\" font-weight=\"100\" text-anchor=\"middle\" transform=\"rotate(0,140.000000,12.706308)\">1</text>\n",
       "</svg>\n",
       "</td>\n",
       "</tr>\n",
       "</table>"
      ],
      "text/plain": [
       "dask.array<values, shape=(14564,), dtype=int64, chunksize=(3654,), chunktype=numpy.ndarray>"
      ]
     },
     "execution_count": 38,
     "metadata": {},
     "output_type": "execute_result"
    }
   ],
   "source": [
    "y_under_balanced_data_dd.compute_chunk_sizes()"
   ]
  }
 ],
 "metadata": {
  "kernelspec": {
   "display_name": "Python 3",
   "language": "python",
   "name": "python3"
  },
  "language_info": {
   "codemirror_mode": {
    "name": "ipython",
    "version": 3
   },
   "file_extension": ".py",
   "mimetype": "text/x-python",
   "name": "python",
   "nbconvert_exporter": "python",
   "pygments_lexer": "ipython3",
   "version": "3.8.8"
  }
 },
 "nbformat": 4,
 "nbformat_minor": 5
}
