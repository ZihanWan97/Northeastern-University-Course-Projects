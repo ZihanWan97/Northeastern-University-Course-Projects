{
 "cells": [
  {
   "cell_type": "code",
   "execution_count": 1,
   "id": "e7fdc1fd-9da5-44af-bdf6-b6bc42cb2ef6",
   "metadata": {},
   "outputs": [],
   "source": [
    "import numpy as np\n",
    "import dask.array as da"
   ]
  },
  {
   "cell_type": "code",
   "execution_count": 2,
   "id": "26758340-f2bf-44f6-a47e-668cbc01ec52",
   "metadata": {},
   "outputs": [],
   "source": [
    "mean = 10\n",
    "sd = 0.1"
   ]
  },
  {
   "cell_type": "code",
   "execution_count": 3,
   "id": "c7b06934-0a90-4982-aaef-c98f35d0b05b",
   "metadata": {},
   "outputs": [],
   "source": [
    "np_data = np.random.default_rng().normal(mean, sd, size=(20000,20000))"
   ]
  },
  {
   "cell_type": "code",
   "execution_count": 4,
   "id": "e26cd856-253a-4a25-8ed9-001ba287e6c3",
   "metadata": {},
   "outputs": [
    {
     "name": "stdout",
     "output_type": "stream",
     "text": [
      "Wall time: 3.35 ms\n"
     ]
    }
   ],
   "source": [
    "%time np_data_1 = np_data[::100,:].mean(axis=0)"
   ]
  },
  {
   "cell_type": "code",
   "execution_count": 5,
   "id": "768754ae-6648-4c11-9359-7c9b8f0e6bf0",
   "metadata": {},
   "outputs": [
    {
     "data": {
      "text/plain": [
       "array([ 9.9965468 ,  9.99696202, 10.00307058, ..., 10.01408062,\n",
       "       10.005585  , 10.00051749])"
      ]
     },
     "execution_count": 5,
     "metadata": {},
     "output_type": "execute_result"
    }
   ],
   "source": [
    "np_data_1"
   ]
  },
  {
   "cell_type": "code",
   "execution_count": 6,
   "id": "076991ea-0997-4800-abdc-2d82699f7cdd",
   "metadata": {},
   "outputs": [],
   "source": [
    "da_data = da.from_array(np_data, chunks=(1000,1000))"
   ]
  },
  {
   "cell_type": "code",
   "execution_count": 7,
   "id": "d21aadd8-c862-4388-a4d5-e9b00fad3a54",
   "metadata": {},
   "outputs": [
    {
     "name": "stdout",
     "output_type": "stream",
     "text": [
      "Wall time: 143 ms\n"
     ]
    }
   ],
   "source": [
    "%time da_data_1 = da_data[::100,:].mean(axis=0).compute()"
   ]
  },
  {
   "cell_type": "code",
   "execution_count": 8,
   "id": "cd4fb608-dbec-48eb-9a30-49c06e724a1f",
   "metadata": {},
   "outputs": [
    {
     "data": {
      "text/plain": [
       "array([ 9.9965468 ,  9.99696202, 10.00307058, ..., 10.01408062,\n",
       "       10.005585  , 10.00051749])"
      ]
     },
     "execution_count": 8,
     "metadata": {},
     "output_type": "execute_result"
    }
   ],
   "source": [
    "da_data_1"
   ]
  }
 ],
 "metadata": {
  "kernelspec": {
   "display_name": "Python 3",
   "language": "python",
   "name": "python3"
  },
  "language_info": {
   "codemirror_mode": {
    "name": "ipython",
    "version": 3
   },
   "file_extension": ".py",
   "mimetype": "text/x-python",
   "name": "python",
   "nbconvert_exporter": "python",
   "pygments_lexer": "ipython3",
   "version": "3.8.8"
  }
 },
 "nbformat": 4,
 "nbformat_minor": 5
}
