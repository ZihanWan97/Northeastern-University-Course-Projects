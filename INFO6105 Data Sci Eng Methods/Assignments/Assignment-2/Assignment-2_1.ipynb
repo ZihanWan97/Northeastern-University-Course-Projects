{
 "cells": [
  {
   "cell_type": "markdown",
   "id": "a1655425",
   "metadata": {},
   "source": [
    "# Introduction\n",
    "Hi, this is Zihan Wan here with Aishwarya Shamrao Ghaytadak.  \n",
    "Assignment team num: Assignment 2_1"
   ]
  },
  {
   "cell_type": "markdown",
   "id": "43bfba10",
   "metadata": {},
   "source": [
    "## Ques 1: \n",
    "\n",
    "Please write below the *simplest possible* implementation of prime numbers, given what we learned above. Those are the series where the number can only be divisible by 1 and itself. And give me the first 100 prime numbers."
   ]
  },
  {
   "cell_type": "markdown",
   "id": "398e6264",
   "metadata": {},
   "source": [
    "### Answer 1: \n",
    "We have used `sqrt()` method to calculate first *100* prime numbers. For that used, `import math`   \n",
    "Set $count$ to calculate the number of prime numbers$(0\\leqslant count<n)$, $x$ to a positive integer$(x\\geq 2)$ and $isPrime$ for setting the flag.   \n",
    "At the beginning,`count = 0`, `x = 2`, `isPrime = 1`  \n",
    "if $x$ is not a prime, then $$x = a \\times b (a>1,b>1)$$\n",
    "when $a\\leqslant \\sqrt{x} $ ,$$\\frac{x}{\\sqrt{x}}=\\sqrt{x}$$then$$\\frac{x}{a}\\geq\\sqrt{x}$$since$$\\frac{x}{a}=b$$so$$b\\geq\\sqrt{x}$$By deduction we can conclude that at least one of the two factors of a prime number is less than or equal to the square root of that prime number.  \n",
    "In summary, `sqrt(x)`is the minimum critical condition for determining prime numbers.  \n",
    "From above, set positive integer $i$ $(2\\leqslant i\\leqslant\\sqrt{x})$\n",
    "- so if `x % i == 0` then set `isPrime = 0`($x$ is not a prime), loop will `break` and will increase the value of *x* (`x+=1`).\n",
    "- if `x % i` is not *0* then it will flag $isPrime$ as 1 that means $x$ is a Prime number and it will get print.\n",
    "- $count$ will increase(`count+=1`) and again while loop will iterate till `count < n`."
   ]
  },
  {
   "cell_type": "code",
   "execution_count": 17,
   "id": "fbe914fa",
   "metadata": {},
   "outputs": [
    {
     "name": "stdout",
     "output_type": "stream",
     "text": [
      "2 3 5 7 11 13 17 19 23 29 31 37 41 43 47 53 59 61 67 71 73 79 83 89 97 101 103 107 109 113 127 131 137 139 149 151 157 163 167 173 179 181 191 193 197 199 211 223 227 229 233 239 241 251 257 263 269 271 277 281 283 293 307 311 313 317 331 337 347 349 353 359 367 373 379 383 389 397 401 409 419 421 431 433 439 443 449 457 461 463 467 479 487 491 499 503 509 521 523 541 "
     ]
    }
   ],
   "source": [
    "import math\n",
    "def firstnp(n):\n",
    "    count = 0\n",
    "    x = 2\n",
    "    while count < n:\n",
    "        isPrime = 1\n",
    "        for i in range(2,int(math.sqrt(x))+1):\n",
    "            if x % i==0:\n",
    "                isPrime = 0\n",
    "                break\n",
    "        if isPrime == 1:\n",
    "            print(x,end =\" \")\n",
    "            count+=1\n",
    "        x+=1\n",
    "     \n",
    "firstnp(100)"
   ]
  },
  {
   "cell_type": "markdown",
   "id": "bdedea1c",
   "metadata": {},
   "source": [
    "## Ques 2: \n",
    "\n",
    "You are on a basketball court with your team of 5, that's been lined with 16 equally spaced containers of basketballs in between. You are supposed to run the length of the basketball court and shoot hoops. But you can only shoot the basketball if there's a basketball on the parquet floor next to the container because you're training to dribble a dead ball and then shoot a jumper. Your team starts to run across the court one player at a time. You are the first player, so you will take a ball from each container and drop it on the parquet next to the container for the second player. The second player runs the length of the court and dribbles and shoots ever 2nd ball. The third player goes to every third container and shoots the ball if he finds one on the floor, otherwise she picks a ball from the container and drops it on the floor for the next player. The fourth player goes to every fourth container. The fifth to every fifth.  And then it's your turn again to either shoot the ball next to the 6th container or remove a ball from it and place it on the floor for the next player. After round 16, in which a player shoots or removes a ball only from the last container, how many balls are left on the floor? If your team's shooting accuracy is 50%, how many points did your team score overall? You may assume coaches automatically replenish containers from balls that are shot. What's the answer if you use 4,096 basketball containers to line a gigantic baskbetball field, instead of 16?\n",
    "\n",
    "Write the code (in python) to find the answer.\n",
    "Then, write the math (in jupyter markdown, like what i did with fibonacci) to prove the code is correct."
   ]
  },
  {
   "cell_type": "markdown",
   "id": "7dcd9724",
   "metadata": {},
   "source": [
    "### Answer 2: \n",
    "Create a list $l$ containing *n* elements corresponding to the *n* shooting positions.If there is no ball on the floor at that position, set the corresponding element in $l$ to *0* and vice versa *1*.     \n",
    "Set $r$ to the number of rounds $(1\\leqslant r<n+1)$, $count$ to the number of goals scored, and $points$ to the total number of points scored.   \n",
    "So, at the beginning, `l = [0] * n`, `r=1`, `count=0`, `points=0`. For the player in the $r$th round, he/she shoots at every $r$th position.  \n",
    "- First, the *r*th player determines if he/she should shoot at the $i$th position $(1\\leqslant i<n+1)$ by checking `i % r`(determine if $i$ is a multiple of $r$) \n",
    "     - If `i % r == 0`, then determine if there is a ball on the floor at that position by checking `l[i-1]`\n",
    "         - If `l[i-1] == 0`, there is no ball on the floor and the player needs to put a ball on the floor, then `l[i-1]=1`\n",
    "         - If `l[i-1] == 1`, the player shoots, then `l[i-1]=0` and `count+=1`\n",
    "- After all *n* rounds, the number of *1* in list $l$ is the number of balls left on the floor: `l.count(1)`, and since the probability of each goal is *50%* and each goal scores *2* points, the total points scored: `points = count*0.5*2`  \n",
    "\n",
    "For *16* containers, num of left balls on the floor $= 4$ and $points = 23.0$  \n",
    "For *4096* containers, num of left balls on the floor $= 64$ and $points = 17328.0$"
   ]
  },
  {
   "cell_type": "code",
   "execution_count": 15,
   "id": "545743b4",
   "metadata": {},
   "outputs": [
    {
     "name": "stdout",
     "output_type": "stream",
     "text": [
      "16 containers - num of left balls: 4 ; num of points: 23.0\n",
      "4096 containers - num of left balls: 64 ; num of points: 17328.0\n"
     ]
    }
   ],
   "source": [
    "def ballgamec(n): \n",
    "    l = [0] * n   \n",
    "    r = 1        \n",
    "    count = 0\n",
    "    points = 0\n",
    "    while r < n+1:\n",
    "        for i in range(1,n+1):\n",
    "            if i % r == 0:\n",
    "              \n",
    "                if l[i-1] == 0: \n",
    "                    l[i-1] = 1 \n",
    "                else: \n",
    "                    l[i-1] = 0 \n",
    "                    count+=1 \n",
    "        r+=1\n",
    "        points = count*0.5*2\n",
    "    print(str(n)+' containers - num of left balls: '+str(l.count(1))+' ; num of points: '+str(points))\n",
    "\n",
    "ballgamec(16)\n",
    "ballgamec(4096)\n"
   ]
  }
 ],
 "metadata": {
  "kernelspec": {
   "display_name": "Python 3",
   "language": "python",
   "name": "python3"
  },
  "language_info": {
   "codemirror_mode": {
    "name": "ipython",
    "version": 3
   },
   "file_extension": ".py",
   "mimetype": "text/x-python",
   "name": "python",
   "nbconvert_exporter": "python",
   "pygments_lexer": "ipython3",
   "version": "3.8.8"
  }
 },
 "nbformat": 4,
 "nbformat_minor": 5
}
