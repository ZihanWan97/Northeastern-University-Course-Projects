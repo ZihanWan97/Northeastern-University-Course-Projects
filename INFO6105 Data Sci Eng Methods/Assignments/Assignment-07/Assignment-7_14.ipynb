{
 "cells": [
  {
   "cell_type": "markdown",
   "id": "2547eaed",
   "metadata": {},
   "source": [
    "# Introduction\n",
    "Hi, this is Zihan Wan here with Janhavi Swapnil Patil.  \n",
    "Assignment team num: Team 14"
   ]
  },
  {
   "cell_type": "markdown",
   "id": "65ecb2ee",
   "metadata": {},
   "source": [
    "# Question"
   ]
  },
  {
   "cell_type": "markdown",
   "id": "add4877c",
   "metadata": {},
   "source": [
    "Find a simple one-humped dataset and model it by matching one of the pdfs we learned about today. Find the most likely parameters of your pdf using MOM. Use the model to do a prediction."
   ]
  },
  {
   "cell_type": "code",
   "execution_count": 1,
   "id": "58939793",
   "metadata": {},
   "outputs": [],
   "source": [
    "# necessary imports\n",
    "import pandas as pd\n",
    "import numpy as np\n",
    "import matplotlib.pyplot as plt\n",
    "%matplotlib inline\n",
    "import seaborn as sns\n",
    "import scipy.stats as stats\n",
    "from scipy.stats.distributions import gamma"
   ]
  },
  {
   "cell_type": "markdown",
   "id": "f16bf08c",
   "metadata": {},
   "source": [
    "### These are the properties of the lump of breast cancer patients"
   ]
  },
  {
   "cell_type": "code",
   "execution_count": 2,
   "id": "0fd4d854",
   "metadata": {},
   "outputs": [
    {
     "data": {
      "text/html": [
       "<div>\n",
       "<style scoped>\n",
       "    .dataframe tbody tr th:only-of-type {\n",
       "        vertical-align: middle;\n",
       "    }\n",
       "\n",
       "    .dataframe tbody tr th {\n",
       "        vertical-align: top;\n",
       "    }\n",
       "\n",
       "    .dataframe thead th {\n",
       "        text-align: right;\n",
       "    }\n",
       "</style>\n",
       "<table border=\"1\" class=\"dataframe\">\n",
       "  <thead>\n",
       "    <tr style=\"text-align: right;\">\n",
       "      <th></th>\n",
       "      <th>clump_thickness</th>\n",
       "      <th>size_uniformity</th>\n",
       "      <th>shape_uniformity</th>\n",
       "      <th>marginal_adhesion</th>\n",
       "      <th>epithelial_size</th>\n",
       "      <th>bare_nucleoli</th>\n",
       "      <th>bland_chromatin</th>\n",
       "      <th>normal_nucleoli</th>\n",
       "      <th>mitoses</th>\n",
       "      <th>class</th>\n",
       "    </tr>\n",
       "    <tr>\n",
       "      <th>id</th>\n",
       "      <th></th>\n",
       "      <th></th>\n",
       "      <th></th>\n",
       "      <th></th>\n",
       "      <th></th>\n",
       "      <th></th>\n",
       "      <th></th>\n",
       "      <th></th>\n",
       "      <th></th>\n",
       "      <th></th>\n",
       "    </tr>\n",
       "  </thead>\n",
       "  <tbody>\n",
       "    <tr>\n",
       "      <th>1000025</th>\n",
       "      <td>5</td>\n",
       "      <td>1</td>\n",
       "      <td>1</td>\n",
       "      <td>1</td>\n",
       "      <td>2</td>\n",
       "      <td>1</td>\n",
       "      <td>3</td>\n",
       "      <td>1</td>\n",
       "      <td>1</td>\n",
       "      <td>2</td>\n",
       "    </tr>\n",
       "    <tr>\n",
       "      <th>1002945</th>\n",
       "      <td>5</td>\n",
       "      <td>4</td>\n",
       "      <td>4</td>\n",
       "      <td>5</td>\n",
       "      <td>7</td>\n",
       "      <td>10</td>\n",
       "      <td>3</td>\n",
       "      <td>2</td>\n",
       "      <td>1</td>\n",
       "      <td>2</td>\n",
       "    </tr>\n",
       "    <tr>\n",
       "      <th>1015425</th>\n",
       "      <td>3</td>\n",
       "      <td>1</td>\n",
       "      <td>1</td>\n",
       "      <td>1</td>\n",
       "      <td>2</td>\n",
       "      <td>2</td>\n",
       "      <td>3</td>\n",
       "      <td>1</td>\n",
       "      <td>1</td>\n",
       "      <td>2</td>\n",
       "    </tr>\n",
       "    <tr>\n",
       "      <th>1016277</th>\n",
       "      <td>6</td>\n",
       "      <td>8</td>\n",
       "      <td>8</td>\n",
       "      <td>1</td>\n",
       "      <td>3</td>\n",
       "      <td>4</td>\n",
       "      <td>3</td>\n",
       "      <td>7</td>\n",
       "      <td>1</td>\n",
       "      <td>2</td>\n",
       "    </tr>\n",
       "    <tr>\n",
       "      <th>1017023</th>\n",
       "      <td>4</td>\n",
       "      <td>1</td>\n",
       "      <td>1</td>\n",
       "      <td>3</td>\n",
       "      <td>2</td>\n",
       "      <td>1</td>\n",
       "      <td>3</td>\n",
       "      <td>1</td>\n",
       "      <td>1</td>\n",
       "      <td>2</td>\n",
       "    </tr>\n",
       "  </tbody>\n",
       "</table>\n",
       "</div>"
      ],
      "text/plain": [
       "         clump_thickness  size_uniformity  shape_uniformity  \\\n",
       "id                                                            \n",
       "1000025                5                1                 1   \n",
       "1002945                5                4                 4   \n",
       "1015425                3                1                 1   \n",
       "1016277                6                8                 8   \n",
       "1017023                4                1                 1   \n",
       "\n",
       "         marginal_adhesion  epithelial_size bare_nucleoli  bland_chromatin  \\\n",
       "id                                                                           \n",
       "1000025                  1                2             1                3   \n",
       "1002945                  5                7            10                3   \n",
       "1015425                  1                2             2                3   \n",
       "1016277                  1                3             4                3   \n",
       "1017023                  3                2             1                3   \n",
       "\n",
       "         normal_nucleoli  mitoses  class  \n",
       "id                                        \n",
       "1000025                1        1      2  \n",
       "1002945                2        1      2  \n",
       "1015425                1        1      2  \n",
       "1016277                7        1      2  \n",
       "1017023                1        1      2  "
      ]
     },
     "execution_count": 2,
     "metadata": {},
     "output_type": "execute_result"
    }
   ],
   "source": [
    "# load the dataset\n",
    "data = pd.read_csv(\"../../data/breast_cancer.csv\", index_col=0, na_values='NA')\n",
    "data.head()"
   ]
  },
  {
   "cell_type": "markdown",
   "id": "0ec3e475",
   "metadata": {},
   "source": [
    "### Let's draw a **histogram** of the data"
   ]
  },
  {
   "cell_type": "code",
   "execution_count": 3,
   "id": "02966861",
   "metadata": {},
   "outputs": [
    {
     "data": {
      "image/png": "[encoded data removed]",
      "text/plain": [
       "<Figure size 432x288 with 9 Axes>"
      ]
     },
     "metadata": {
      "needs_background": "light"
     },
     "output_type": "display_data"
    }
   ],
   "source": [
    "# histogram of each column\n",
    "data.hist(sharex=True, sharey=True, grid=False, bins=10)\n",
    "plt.tight_layout()"
   ]
  },
  {
   "cell_type": "markdown",
   "id": "1bc51906",
   "metadata": {},
   "source": [
    "### Then we select 'epithelial_size' column since it's one-humped"
   ]
  },
  {
   "cell_type": "code",
   "execution_count": 4,
   "id": "4d10fe97",
   "metadata": {},
   "outputs": [
    {
     "data": {
      "text/plain": [
       "[]"
      ]
     },
     "execution_count": 4,
     "metadata": {},
     "output_type": "execute_result"
    },
    {
     "data": {
      "image/png": "[encoded data removed]",
      "text/plain": [
       "<Figure size 432x288 with 1 Axes>"
      ]
     },
     "metadata": {
      "needs_background": "light"
     },
     "output_type": "display_data"
    }
   ],
   "source": [
    "# histogram of epithelial_size column\n",
    "es = pd.read_csv(\"../../data/breast_cancer.csv\",na_values='NA',usecols=['epithelial_size'])\n",
    "es.hist(grid=False, bins=10)\n",
    "plt.plot()"
   ]
  },
  {
   "cell_type": "markdown",
   "id": "0a6104c2",
   "metadata": {},
   "source": [
    "### Now, let's calculate the sample ***moments of interest***: the **means** and **variances**"
   ]
  },
  {
   "cell_type": "code",
   "execution_count": 5,
   "id": "dc077a44",
   "metadata": {},
   "outputs": [
    {
     "data": {
      "text/plain": [
       "epithelial_size    3.213773\n",
       "dtype: float64"
      ]
     },
     "execution_count": 5,
     "metadata": {},
     "output_type": "execute_result"
    }
   ],
   "source": [
    "# mean of epithelial size\n",
    "es_mean = es.mean()\n",
    "es_mean"
   ]
  },
  {
   "cell_type": "code",
   "execution_count": 6,
   "id": "d5b83a25",
   "metadata": {},
   "outputs": [
    {
     "data": {
      "text/plain": [
       "epithelial_size    4.903948\n",
       "dtype: float64"
      ]
     },
     "execution_count": 6,
     "metadata": {},
     "output_type": "execute_result"
    }
   ],
   "source": [
    "# variance of epithelial size\n",
    "es_var = es.var()\n",
    "es_var"
   ]
  },
  {
   "cell_type": "markdown",
   "id": "75c7eba6",
   "metadata": {},
   "source": [
    "### We then use these moments to estimate $\\alpha$ and $\\beta$ "
   ]
  },
  {
   "cell_type": "code",
   "execution_count": 7,
   "id": "c908fa78",
   "metadata": {},
   "outputs": [
    {
     "data": {
      "text/plain": [
       "(epithelial_size    2.106127\n",
       " dtype: float64,\n",
       " epithelial_size    1.525916\n",
       " dtype: float64)"
      ]
     },
     "execution_count": 7,
     "metadata": {},
     "output_type": "execute_result"
    }
   ],
   "source": [
    "# calculate alpha and beta according to formaula\n",
    "alpha_mom = es_mean ** 2 / es_var\n",
    "beta_mom = es_var / es_mean\n",
    "alpha_mom, beta_mom"
   ]
  },
  {
   "cell_type": "markdown",
   "id": "442c5ccd",
   "metadata": {},
   "source": [
    "### Then, plot the distributions implied by the calculated alphas and betas. "
   ]
  },
  {
   "cell_type": "code",
   "execution_count": 8,
   "id": "9972ec7e",
   "metadata": {},
   "outputs": [
    {
     "data": {
      "text/plain": [
       "[<matplotlib.lines.Line2D at 0x1c58ede3850>]"
      ]
     },
     "execution_count": 8,
     "metadata": {},
     "output_type": "execute_result"
    },
    {
     "data": {
      "image/png": "[encoded data removed]",
      "text/plain": [
       "<Figure size 432x288 with 1 Axes>"
      ]
     },
     "metadata": {
      "needs_background": "light"
     },
     "output_type": "display_data"
    }
   ],
   "source": [
    "# plot histogram and gamma pdf\n",
    "es.hist(density=True, bins=10,grid=False)\n",
    "plt.plot(np.linspace(0, 10), gamma.pdf(np.linspace(0, 10), alpha_mom[0], beta_mom[0]))"
   ]
  },
  {
   "cell_type": "markdown",
   "id": "f6b31d70",
   "metadata": {},
   "source": [
    "As can be seen from the graph, the epithelial size of most breast cancer patients is around 2-3. And the epithelial size ranges from 1 to 10."
   ]
  }
 ],
 "metadata": {
  "kernelspec": {
   "display_name": "Python 3",
   "language": "python",
   "name": "python3"
  },
  "language_info": {
   "codemirror_mode": {
    "name": "ipython",
    "version": 3
   },
   "file_extension": ".py",
   "mimetype": "text/x-python",
   "name": "python",
   "nbconvert_exporter": "python",
   "pygments_lexer": "ipython3",
   "version": "3.8.8"
  }
 },
 "nbformat": 4,
 "nbformat_minor": 5
}
