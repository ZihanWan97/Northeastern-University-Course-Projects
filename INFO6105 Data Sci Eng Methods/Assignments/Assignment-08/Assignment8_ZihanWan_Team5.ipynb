{
 "cells": [
  {
   "cell_type": "markdown",
   "id": "1f2f7568",
   "metadata": {},
   "source": [
    "# Introduction\n",
    "Hi, this is Zihan Wan here with Abhishek Jaiswal.  \n",
    "Assignment team num: Team 5"
   ]
  },
  {
   "cell_type": "markdown",
   "id": "acd5e45d",
   "metadata": {},
   "source": [
    "## Homework\n",
    "- Find a single-humped dataset on the Web. The most original datasets will get the highest bonuses. \n",
    "- Figure out the best possible match using the mathematical functions we learned about. Use Math and MLE to find the best parameters.\n",
    "- Now, repeat the experiment with programming and PyMC3.\n",
    "- Which method was the most fun?"
   ]
  },
  {
   "cell_type": "code",
   "execution_count": 1,
   "id": "df558ebf",
   "metadata": {},
   "outputs": [
    {
     "name": "stderr",
     "output_type": "stream",
     "text": [
      "WARNING (theano.configdefaults): g++ not available, if using conda: `conda install m2w64-toolchain`\n",
      "WARNING (theano.configdefaults): g++ not detected ! Theano will be unable to execute optimized C-implementations (for both CPU and GPU) and will default to Python implementations. Performance will be severely degraded. To remove this warning, set Theano flags cxx to an empty string.\n",
      "WARNING (theano.tensor.blas): Using NumPy C-API based implementation for BLAS functions.\n"
     ]
    }
   ],
   "source": [
    "# necessary imports\n",
    "import pandas as pd\n",
    "import numpy as np\n",
    "import matplotlib.pyplot as plt\n",
    "%matplotlib inline\n",
    "import seaborn as sns\n",
    "import scipy.stats as stats\n",
    "from pymc3 import Gamma,Poisson\n",
    "from pymc3 import Model\n",
    "from pymc3 import fit\n",
    "from pymc3 import plot_posterior\n",
    "from scipy.stats.distributions import gamma,poisson \n",
    "from scipy.special import psi, polygamma\n",
    "from scipy.optimize import newton\n",
    "RANDOM_SEED = 20090425"
   ]
  },
  {
   "cell_type": "code",
   "execution_count": 2,
   "id": "409ff5f1",
   "metadata": {},
   "outputs": [
    {
     "data": {
      "text/html": [
       "<div>\n",
       "<style scoped>\n",
       "    .dataframe tbody tr th:only-of-type {\n",
       "        vertical-align: middle;\n",
       "    }\n",
       "\n",
       "    .dataframe tbody tr th {\n",
       "        vertical-align: top;\n",
       "    }\n",
       "\n",
       "    .dataframe thead th {\n",
       "        text-align: right;\n",
       "    }\n",
       "</style>\n",
       "<table border=\"1\" class=\"dataframe\">\n",
       "  <thead>\n",
       "    <tr style=\"text-align: right;\">\n",
       "      <th></th>\n",
       "      <th>clump_thickness</th>\n",
       "      <th>size_uniformity</th>\n",
       "      <th>shape_uniformity</th>\n",
       "      <th>marginal_adhesion</th>\n",
       "      <th>epithelial_size</th>\n",
       "      <th>bare_nucleoli</th>\n",
       "      <th>bland_chromatin</th>\n",
       "      <th>normal_nucleoli</th>\n",
       "      <th>mitoses</th>\n",
       "      <th>class</th>\n",
       "    </tr>\n",
       "    <tr>\n",
       "      <th>id</th>\n",
       "      <th></th>\n",
       "      <th></th>\n",
       "      <th></th>\n",
       "      <th></th>\n",
       "      <th></th>\n",
       "      <th></th>\n",
       "      <th></th>\n",
       "      <th></th>\n",
       "      <th></th>\n",
       "      <th></th>\n",
       "    </tr>\n",
       "  </thead>\n",
       "  <tbody>\n",
       "    <tr>\n",
       "      <th>1000025</th>\n",
       "      <td>5</td>\n",
       "      <td>1</td>\n",
       "      <td>1</td>\n",
       "      <td>1</td>\n",
       "      <td>2</td>\n",
       "      <td>1</td>\n",
       "      <td>3</td>\n",
       "      <td>1</td>\n",
       "      <td>1</td>\n",
       "      <td>2</td>\n",
       "    </tr>\n",
       "    <tr>\n",
       "      <th>1002945</th>\n",
       "      <td>5</td>\n",
       "      <td>4</td>\n",
       "      <td>4</td>\n",
       "      <td>5</td>\n",
       "      <td>7</td>\n",
       "      <td>10</td>\n",
       "      <td>3</td>\n",
       "      <td>2</td>\n",
       "      <td>1</td>\n",
       "      <td>2</td>\n",
       "    </tr>\n",
       "    <tr>\n",
       "      <th>1015425</th>\n",
       "      <td>3</td>\n",
       "      <td>1</td>\n",
       "      <td>1</td>\n",
       "      <td>1</td>\n",
       "      <td>2</td>\n",
       "      <td>2</td>\n",
       "      <td>3</td>\n",
       "      <td>1</td>\n",
       "      <td>1</td>\n",
       "      <td>2</td>\n",
       "    </tr>\n",
       "    <tr>\n",
       "      <th>1016277</th>\n",
       "      <td>6</td>\n",
       "      <td>8</td>\n",
       "      <td>8</td>\n",
       "      <td>1</td>\n",
       "      <td>3</td>\n",
       "      <td>4</td>\n",
       "      <td>3</td>\n",
       "      <td>7</td>\n",
       "      <td>1</td>\n",
       "      <td>2</td>\n",
       "    </tr>\n",
       "    <tr>\n",
       "      <th>1017023</th>\n",
       "      <td>4</td>\n",
       "      <td>1</td>\n",
       "      <td>1</td>\n",
       "      <td>3</td>\n",
       "      <td>2</td>\n",
       "      <td>1</td>\n",
       "      <td>3</td>\n",
       "      <td>1</td>\n",
       "      <td>1</td>\n",
       "      <td>2</td>\n",
       "    </tr>\n",
       "  </tbody>\n",
       "</table>\n",
       "</div>"
      ],
      "text/plain": [
       "         clump_thickness  size_uniformity  shape_uniformity  \\\n",
       "id                                                            \n",
       "1000025                5                1                 1   \n",
       "1002945                5                4                 4   \n",
       "1015425                3                1                 1   \n",
       "1016277                6                8                 8   \n",
       "1017023                4                1                 1   \n",
       "\n",
       "         marginal_adhesion  epithelial_size bare_nucleoli  bland_chromatin  \\\n",
       "id                                                                           \n",
       "1000025                  1                2             1                3   \n",
       "1002945                  5                7            10                3   \n",
       "1015425                  1                2             2                3   \n",
       "1016277                  1                3             4                3   \n",
       "1017023                  3                2             1                3   \n",
       "\n",
       "         normal_nucleoli  mitoses  class  \n",
       "id                                        \n",
       "1000025                1        1      2  \n",
       "1002945                2        1      2  \n",
       "1015425                1        1      2  \n",
       "1016277                7        1      2  \n",
       "1017023                1        1      2  "
      ]
     },
     "execution_count": 2,
     "metadata": {},
     "output_type": "execute_result"
    }
   ],
   "source": [
    "# load the dataset\n",
    "data = pd.read_csv(\"../../data/breast_cancer.csv\", index_col=0, na_values='NA')\n",
    "data.head()"
   ]
  },
  {
   "cell_type": "markdown",
   "id": "a1f0f15f",
   "metadata": {},
   "source": [
    "We select **'epithelial_size'** column since it's **one-humped**"
   ]
  },
  {
   "cell_type": "code",
   "execution_count": 3,
   "id": "c9eef8b0",
   "metadata": {},
   "outputs": [
    {
     "data": {
      "text/plain": [
       "[]"
      ]
     },
     "execution_count": 3,
     "metadata": {},
     "output_type": "execute_result"
    },
    {
     "data": {
      "image/png": "[encoded data removed]",
      "text/plain": [
       "<Figure size 432x288 with 1 Axes>"
      ]
     },
     "metadata": {
      "needs_background": "light"
     },
     "output_type": "display_data"
    }
   ],
   "source": [
    "# histogram of epithelial_size column\n",
    "es = pd.read_csv(\"../../data/breast_cancer.csv\",na_values='NA',usecols=['epithelial_size'])\n",
    "es.hist(grid=False, bins=10)\n",
    "plt.plot()"
   ]
  },
  {
   "cell_type": "markdown",
   "id": "d0c2728c",
   "metadata": {},
   "source": [
    "## 1.MLE"
   ]
  },
  {
   "cell_type": "code",
   "execution_count": 4,
   "id": "0ef5f783",
   "metadata": {},
   "outputs": [],
   "source": [
    "# Note that log_mean and mean_log are parameters of the dlgamma function\n",
    "dlgamma = lambda m, log_mean, mean_log: np.log(m) - psi(m) - log_mean + mean_log\n",
    "dl2gamma = lambda m, *args: 1./m - polygamma(1, m)"
   ]
  },
  {
   "cell_type": "code",
   "execution_count": 5,
   "id": "256e7a51",
   "metadata": {},
   "outputs": [],
   "source": [
    "# Calculate statistics\n",
    "log_mean = es.mean().apply(np.log)\n",
    "mean_log = es.apply(np.log).mean()"
   ]
  },
  {
   "cell_type": "code",
   "execution_count": 6,
   "id": "c003dabc",
   "metadata": {},
   "outputs": [
    {
     "data": {
      "text/plain": [
       "2.9672711175554225"
      ]
     },
     "execution_count": 6,
     "metadata": {},
     "output_type": "execute_result"
    }
   ],
   "source": [
    "# Alpha MLE\n",
    "alpha_mle = newton(dlgamma, 2, dl2gamma, args=(log_mean[-1], mean_log[-1]))\n",
    "alpha_mle"
   ]
  },
  {
   "cell_type": "markdown",
   "id": "704c2201",
   "metadata": {},
   "source": [
    "And now plug this back into the solution for beta:\n",
    "\n",
    "<div style=\"font-size: 120%;\">  \n",
    "$$ \\beta  = \\frac{\\alpha}{\\bar{X}} $$\n",
    "</div>"
   ]
  },
  {
   "cell_type": "code",
   "execution_count": 7,
   "id": "cf756de2",
   "metadata": {},
   "outputs": [
    {
     "data": {
      "text/plain": [
       "0.9232982004179149"
      ]
     },
     "execution_count": 7,
     "metadata": {},
     "output_type": "execute_result"
    }
   ],
   "source": [
    "# Beta MLE\n",
    "beta_mle = alpha_mle/es.mean()[-1]\n",
    "beta_mle"
   ]
  },
  {
   "cell_type": "code",
   "execution_count": 8,
   "id": "b190edb8",
   "metadata": {},
   "outputs": [
    {
     "data": {
      "text/plain": [
       "[<matplotlib.lines.Line2D at 0x2418e04f520>]"
      ]
     },
     "execution_count": 8,
     "metadata": {},
     "output_type": "execute_result"
    },
    {
     "data": {
      "image/png": "[encoded data removed]",
      "text/plain": [
       "<Figure size 432x288 with 1 Axes>"
      ]
     },
     "metadata": {
      "needs_background": "light"
     },
     "output_type": "display_data"
    }
   ],
   "source": [
    "# Plot model\n",
    "es = data.epithelial_size\n",
    "es.hist(bins=10, grid=False, density=True, stacked=True)\n",
    "x = np.linspace(0, es.max())\n",
    "plt.plot(x, gamma.pdf(x, alpha_mle, beta_mle), 'r--')"
   ]
  },
  {
   "cell_type": "markdown",
   "id": "be6fc47e",
   "metadata": {},
   "source": [
    "## 2.PyMC3"
   ]
  },
  {
   "cell_type": "code",
   "execution_count": 9,
   "id": "82d6a1b4",
   "metadata": {},
   "outputs": [
    {
     "data": {
      "text/plain": [
       "(3.2137733142037304, 4.903947954286898)"
      ]
     },
     "execution_count": 9,
     "metadata": {},
     "output_type": "execute_result"
    }
   ],
   "source": [
    "# mean and variance \n",
    "mean = es.mean()\n",
    "var = es.var()\n",
    "mean,var"
   ]
  },
  {
   "cell_type": "markdown",
   "id": "03e981b0",
   "metadata": {},
   "source": [
    "$$ \\alpha = \\frac{\\bar{X}^2}{S^2}, \\, \\beta = \\frac{S^2}{\\bar{X}} $$"
   ]
  },
  {
   "cell_type": "code",
   "execution_count": 10,
   "id": "ce3c7307",
   "metadata": {},
   "outputs": [
    {
     "data": {
      "text/plain": [
       "(2.1061273511394583, 1.5259159482758784)"
      ]
     },
     "execution_count": 10,
     "metadata": {},
     "output_type": "execute_result"
    }
   ],
   "source": [
    "# alpha and beta\n",
    "alpha = mean**2/ var\n",
    "beta = var / mean\n",
    "alpha, beta"
   ]
  },
  {
   "cell_type": "code",
   "execution_count": 11,
   "id": "67380b92",
   "metadata": {},
   "outputs": [],
   "source": [
    "with Model() as es_model:\n",
    "    lam = Gamma('lambda', alpha=alpha, beta=beta)\n",
    "    es_like = Poisson('es_like', mu=lam, observed=es)"
   ]
  },
  {
   "cell_type": "code",
   "execution_count": 12,
   "id": "0cbc8986",
   "metadata": {},
   "outputs": [
    {
     "data": {
      "text/html": [
       "\n",
       "    <div>\n",
       "        <style>\n",
       "            /* Turns off some styling */\n",
       "            progress {\n",
       "                /* gets rid of default border in Firefox and Opera. */\n",
       "                border: none;\n",
       "                /* Needs to be in here for Safari polyfill so background images work as expected. */\n",
       "                background-size: auto;\n",
       "            }\n",
       "            .progress-bar-interrupted, .progress-bar-interrupted::-webkit-progress-bar {\n",
       "                background: #F44336;\n",
       "            }\n",
       "        </style>\n",
       "      <progress value='10000' class='' max='10000' style='width:300px; height:20px; vertical-align: middle;'></progress>\n",
       "      100.00% [10000/10000 01:44<00:00 Average Loss = 1,468.5]\n",
       "    </div>\n",
       "    "
      ],
      "text/plain": [
       "<IPython.core.display.HTML object>"
      ]
     },
     "metadata": {},
     "output_type": "display_data"
    },
    {
     "name": "stderr",
     "output_type": "stream",
     "text": [
      "Finished [100%]: Average Loss = 1,468.5\n"
     ]
    }
   ],
   "source": [
    "with es_model: \n",
    "    es_trace = fit(random_seed=RANDOM_SEED).sample(1000)"
   ]
  },
  {
   "cell_type": "code",
   "execution_count": 13,
   "id": "3d80cfaa",
   "metadata": {},
   "outputs": [
    {
     "name": "stderr",
     "output_type": "stream",
     "text": [
      "Got error No model on context stack. trying to find log_likelihood in translation.\n",
      "D:\\anaconda3\\lib\\site-packages\\arviz\\data\\io_pymc3_3x.py:98: FutureWarning: Using `from_pymc3` without the model will be deprecated in a future release. Not using the model will return less accurate and less useful results. Make sure you use the model argument or call from_pymc3 within a model context.\n",
      "  warnings.warn(\n"
     ]
    },
    {
     "data": {
      "image/png": "[encoded data removed]",
      "text/plain": [
       "<Figure size 432x288 with 1 Axes>"
      ]
     },
     "metadata": {
      "needs_background": "light"
     },
     "output_type": "display_data"
    }
   ],
   "source": [
    "plot_posterior(es_trace[100:], \n",
    "                var_names=['lambda'],\n",
    "                color='#87ceeb');"
   ]
  },
  {
   "cell_type": "code",
   "execution_count": 14,
   "id": "b5aed303",
   "metadata": {},
   "outputs": [
    {
     "name": "stderr",
     "output_type": "stream",
     "text": [
      "D:\\anaconda3\\lib\\site-packages\\seaborn\\distributions.py:2557: FutureWarning: `distplot` is a deprecated function and will be removed in a future version. Please adapt your code to use either `displot` (a figure-level function with similar flexibility) or `histplot` (an axes-level function for histograms).\n",
      "  warnings.warn(msg, FutureWarning)\n"
     ]
    },
    {
     "data": {
      "text/plain": [
       "<AxesSubplot:ylabel='Density'>"
      ]
     },
     "execution_count": 14,
     "metadata": {},
     "output_type": "execute_result"
    },
    {
     "data": {
      "image/png": "[encoded data removed]",
      "text/plain": [
       "<Figure size 432x288 with 1 Axes>"
      ]
     },
     "metadata": {
      "needs_background": "light"
     },
     "output_type": "display_data"
    }
   ],
   "source": [
    "es = data.epithelial_size\n",
    "es.hist(bins=10, grid=False, density=True, stacked=True)\n",
    "g = Poisson.dist(mu=3.2).random(size = 100)\n",
    "sns.distplot(g)"
   ]
  },
  {
   "cell_type": "markdown",
   "id": "42d81e9c",
   "metadata": {},
   "source": [
    "I think PyMc3 is more interesting. Because it's simpler and more efficient!"
   ]
  }
 ],
 "metadata": {
  "kernelspec": {
   "display_name": "Python 3",
   "language": "python",
   "name": "python3"
  },
  "language_info": {
   "codemirror_mode": {
    "name": "ipython",
    "version": 3
   },
   "file_extension": ".py",
   "mimetype": "text/x-python",
   "name": "python",
   "nbconvert_exporter": "python",
   "pygments_lexer": "ipython3",
   "version": "3.8.8"
  }
 },
 "nbformat": 4,
 "nbformat_minor": 5
}
