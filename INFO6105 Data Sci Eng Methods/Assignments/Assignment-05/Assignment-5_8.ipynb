{
 "cells": [
  {
   "cell_type": "markdown",
   "id": "3a7e97c2",
   "metadata": {},
   "source": [
    "Here is the probability distribution given by F1 driver wins, according to the latest data from: https://www.formula1.com/en/drivers.html "
   ]
  },
  {
   "cell_type": "code",
   "execution_count": 1,
   "id": "374998c7",
   "metadata": {},
   "outputs": [],
   "source": [
    "class ProbDist(dict):\n",
    "    \"\"\"A Probability Distribution; an {outcome: probability} mapping.\"\"\"\n",
    "    def __init__(self, mapping=(), **kwargs):\n",
    "        self.update(mapping, **kwargs)\n",
    "        # Make probabilities sum to 1.0; assert no negative probabilities\n",
    "        total = sum(self.values())\n",
    "        for outcome in self:\n",
    "            self[outcome] = self[outcome] / total\n",
    "            assert self[outcome] >= 0"
   ]
  },
  {
   "cell_type": "markdown",
   "id": "33733cf1",
   "metadata": {},
   "source": [
    "# Question 1-1\n",
    "What is the Probability Distribution for each F1 driver to win the Italy Grand Prix?  "
   ]
  },
  {
   "cell_type": "markdown",
   "id": "754013b2",
   "metadata": {},
   "source": [
    "**IGP** : the Probability Distribution for each F1 driver to win the Italy Grand Prix"
   ]
  },
  {
   "cell_type": "code",
   "execution_count": 2,
   "id": "5e6f1fb7",
   "metadata": {},
   "outputs": [
    {
     "data": {
      "text/plain": [
       "{'MV': 0.16986706056129985,\n",
       " 'LH': 0.16277695716395865,\n",
       " 'VB': 0.10930576070901034,\n",
       " 'SP': 0.08862629246676514,\n",
       " 'LN': 0.0880354505169867,\n",
       " 'CL': 0.07562776957163958,\n",
       " 'CS': 0.0723781388478582,\n",
       " 'DR': 0.0620384047267356,\n",
       " 'PG': 0.04372230428360414,\n",
       " 'FA': 0.03426883308714919,\n",
       " 'EO': 0.027178729689807977,\n",
       " 'SV': 0.021270310192023634,\n",
       " 'LS': 0.01536189069423929,\n",
       " 'YT': 0.011816838995568686,\n",
       " 'GR': 0.009453471196454948,\n",
       " 'NL': 0.00413589364844904,\n",
       " 'KR': 0.0035450516986706058,\n",
       " 'AG': 0.0005908419497784342,\n",
       " 'MS': 0.0,\n",
       " 'RK': 0.0,\n",
       " 'NM': 0.0}"
      ]
     },
     "execution_count": 2,
     "metadata": {},
     "output_type": "execute_result"
    }
   ],
   "source": [
    "IGP = RGP = TGP = ProbDist(\n",
    "    MV = 287.5, LH = 275.5, VB = 185, SP = 150, LN = 149, CL = 128, CS = 122.5,\n",
    "    DR = 105, PG = 74, FA = 58, EO = 46, SV = 36, LS = 26, YT = 20,\n",
    "    GR = 16, NL = 7, KR = 6, AG = 1, MS = 0, RK = 0, NM = 0)\n",
    "IGP"
   ]
  },
  {
   "cell_type": "markdown",
   "id": "becfec78",
   "metadata": {},
   "source": [
    "------------------------------------------------------------------------------------------------"
   ]
  },
  {
   "cell_type": "markdown",
   "id": "8542bdb5",
   "metadata": {},
   "source": [
    "# Question 1-2\n",
    "What is the Probability Distribution for each F1 driver to win ***both*** the Italy and the Russia Grand Prix?  "
   ]
  },
  {
   "cell_type": "code",
   "execution_count": 3,
   "id": "2816a12b",
   "metadata": {},
   "outputs": [],
   "source": [
    "def win_two_race(A, B, sep=''):\n",
    "    return {a + sep + b: A[a] * B[b]\n",
    "                    for a in A\n",
    "                    for b in B if a == b} # win both races"
   ]
  },
  {
   "cell_type": "markdown",
   "id": "672a209c",
   "metadata": {},
   "source": [
    "**WW** : the Probability Distribution for each F1 driver to win both the Italy and the Russia Grand Prix"
   ]
  },
  {
   "cell_type": "code",
   "execution_count": 4,
   "id": "39407cf8",
   "metadata": {},
   "outputs": [
    {
     "data": {
      "text/plain": [
       "{'MV MV': 0.02885481826373631,\n",
       " 'LH LH': 0.02649633778355723,\n",
       " 'VB VB': 0.011947749324175428,\n",
       " 'SP SP': 0.00785461971640459,\n",
       " 'LN LN': 0.007750240547728815,\n",
       " 'CL CL': 0.005719559530381013,\n",
       " 'CS CS': 0.00523859498307984,\n",
       " 'DR DR': 0.00384876366103825,\n",
       " 'PG PG': 0.0019116398918680687,\n",
       " 'FA FA': 0.0011743529211548911,\n",
       " 'EO EO': 0.0007386833475516496,\n",
       " 'SV SV': 0.00045242609566490446,\n",
       " 'LS LS': 0.00023598768570175571,\n",
       " 'YT YT': 0.00013963768384719276,\n",
       " 'GR GR': 8.936811766220333e-05,\n",
       " 'NL NL': 1.710561627128111e-05,\n",
       " 'KR KR': 1.2567391546247348e-05,\n",
       " 'AG AG': 3.4909420961798177e-07,\n",
       " 'MS MS': 0.0,\n",
       " 'RK RK': 0.0,\n",
       " 'NM NM': 0.0}"
      ]
     },
     "execution_count": 4,
     "metadata": {},
     "output_type": "execute_result"
    }
   ],
   "source": [
    "WW = win_two_race(IGP, RGP, ' ')\n",
    "WW"
   ]
  },
  {
   "cell_type": "markdown",
   "id": "ba4afef5",
   "metadata": {},
   "source": [
    "--------------------------"
   ]
  },
  {
   "cell_type": "markdown",
   "id": "2b64b86f",
   "metadata": {},
   "source": [
    "# Question 1-3  \n",
    "What is the probability for Red Bull Racing to win ***both*** races?  "
   ]
  },
  {
   "cell_type": "code",
   "execution_count": 5,
   "id": "4e1ae3a9",
   "metadata": {},
   "outputs": [],
   "source": [
    "#Calculate group win rate \n",
    "def team_win(teammates_list):\n",
    "    return sum(IGP[driver] for driver in IGP if driver in teammates_list)"
   ]
  },
  {
   "cell_type": "markdown",
   "id": "58fe88d6",
   "metadata": {},
   "source": [
    "**IGP_team** : the Probability Distribution for each team to win the Italy Grand Prix"
   ]
  },
  {
   "cell_type": "code",
   "execution_count": 6,
   "id": "6cf7bc2e",
   "metadata": {},
   "outputs": [
    {
     "data": {
      "text/plain": [
       "{'RB': 0.2584933530280649,\n",
       " 'ME': 0.27208271787296895,\n",
       " 'MM': 0.15007385524372227,\n",
       " 'FE': 0.14800590841949776,\n",
       " 'AH': 0.05553914327917281,\n",
       " 'AR': 0.06144756277695715,\n",
       " 'AMM': 0.03663220088626292,\n",
       " 'WM': 0.013589364844903983,\n",
       " 'ARRF': 0.004135893648449039,\n",
       " 'HF': 0.0}"
      ]
     },
     "execution_count": 6,
     "metadata": {},
     "output_type": "execute_result"
    }
   ],
   "source": [
    "IGP_team = RGP_team = TGP_team = ProbDist(RB = team_win(['MV','SP']),\n",
    "                                          ME = team_win(['LH','VB']), \n",
    "                                          MM = team_win(['LN','DR']), \n",
    "                                          FE = team_win(['CL','CS']), \n",
    "                                          AH = team_win(['PG','YT']),\n",
    "                                          AR = team_win(['FA','EO']),\n",
    "                                          AMM = team_win(['SV','LS']), \n",
    "                                          WM = team_win(['GR','NL']), \n",
    "                                          ARRF = team_win(['KR','AG']), \n",
    "                                          HF = team_win(['MS','NM']))\n",
    "IGP_team"
   ]
  },
  {
   "cell_type": "markdown",
   "id": "77851ed2",
   "metadata": {},
   "source": [
    "**WW_team** : the Probability Distribution for each team to win both the Italy and the Russia Grand Prix"
   ]
  },
  {
   "cell_type": "code",
   "execution_count": 7,
   "id": "ee0371c9",
   "metadata": {},
   "outputs": [
    {
     "data": {
      "text/plain": [
       "{'RB RB': 0.0668188135596918,\n",
       " 'ME ME': 0.07402900536514162,\n",
       " 'MM MM': 0.022522162027713708,\n",
       " 'FE FE': 0.02190574892708076,\n",
       " 'AH AH': 0.0030845964361844863,\n",
       " 'AR AR': 0.0037758029712280897,\n",
       " 'AMM AMM': 0.001341918141771522,\n",
       " 'WM WM': 0.00018467083688791225,\n",
       " 'ARRF ARRF': 1.7105616271281104e-05,\n",
       " 'HF HF': 0.0}"
      ]
     },
     "execution_count": 7,
     "metadata": {},
     "output_type": "execute_result"
    }
   ],
   "source": [
    "WW_team = win_two_race(IGP_team,RGP_team, ' ')\n",
    "WW_team"
   ]
  },
  {
   "cell_type": "code",
   "execution_count": 8,
   "id": "a2dc96c0",
   "metadata": {},
   "outputs": [
    {
     "data": {
      "text/plain": [
       "0.0668188135596918"
      ]
     },
     "execution_count": 8,
     "metadata": {},
     "output_type": "execute_result"
    }
   ],
   "source": [
    "#the probability for Red Bull Racing to win both races\n",
    "WW_team['RB RB']"
   ]
  },
  {
   "cell_type": "markdown",
   "id": "8d0117d0",
   "metadata": {},
   "source": [
    "---------------------------------------------------------------------------"
   ]
  },
  {
   "cell_type": "markdown",
   "id": "adf102bd",
   "metadata": {},
   "source": [
    "# Question 1-4\n",
    "What is the probability for Red Bull Racing to win ***at least*** one race?   "
   ]
  },
  {
   "cell_type": "code",
   "execution_count": 9,
   "id": "c2a720e8",
   "metadata": {},
   "outputs": [],
   "source": [
    "def win_no_race(A, B, C, team, sep=''):\n",
    "    return {a + sep + b + sep + c: A[a] * B[b] * C[c]\n",
    "                    for a in A if a != team\n",
    "                    for b in B if b != team\n",
    "                    for c in C if c != team} #for team, win no race"
   ]
  },
  {
   "cell_type": "markdown",
   "id": "f55b7f38",
   "metadata": {},
   "source": [
    "**WNR_RB** : the probability distribution for Red Bulls to win no race"
   ]
  },
  {
   "cell_type": "code",
   "execution_count": 10,
   "id": "5f3a7552",
   "metadata": {},
   "outputs": [
    {
     "data": {
      "text/plain": [
       "{'ME ME ME': 0.020142012981180332,\n",
       " 'ME ME MM': 0.011109818235005002,\n",
       " 'ME ME FE': 0.010956730188459659,\n",
       " 'ME ME AH': 0.004111507535789253,\n",
       " 'ME ME AR': 0.004548901954490237,\n",
       " 'ME ME AMM': 0.002711845395946103,\n",
       " 'ME ME WM': 0.0010060071630122638,\n",
       " 'ME ME ARRF': 0.0003061760930906891,\n",
       " 'ME ME HF': 0.0,\n",
       " 'ME MM ME': 0.011109818235005002,\n",
       " 'ME MM MM': 0.006127891056875723,\n",
       " 'ME MM FE': 0.006043451613178616,\n",
       " 'ME MM AH': 0.002267802202150858,\n",
       " 'ME MM AR': 0.002509057755571162,\n",
       " 'ME MM AMM': 0.0014957844312058852,\n",
       " 'ME MM WM': 0.0005548877728666992,\n",
       " 'ME MM ARRF': 0.00016887888739421282,\n",
       " 'ME MM HF': 0.0,\n",
       " 'ME FE ME': 0.010956730188459659,\n",
       " 'ME FE MM': 0.006043451613178617,\n",
       " 'ME FE FE': 0.005960175705123007,\n",
       " 'ME FE AH': 0.002236552959207835,\n",
       " 'ME FE AR': 0.0024744841250810084,\n",
       " 'ME FE AMM': 0.0014751732284136784,\n",
       " 'ME FE WM': 0.0005472416815082998,\n",
       " 'ME FE ARRF': 0.00016655181611122173,\n",
       " 'ME FE HF': 0.0,\n",
       " 'ME AH ME': 0.004111507535789253,\n",
       " 'ME AH MM': 0.002267802202150858,\n",
       " 'ME AH FE': 0.0022365529592078344,\n",
       " 'ME AH AH': 0.000839265381898349,\n",
       " 'ME AH AR': 0.0009285489331641308,\n",
       " 'ME AH AMM': 0.0005535580178478473,\n",
       " 'ME AH WM': 0.00020535216791129813,\n",
       " 'ME AH ARRF': 6.249848588604727e-05,\n",
       " 'ME AH HF': 0.0,\n",
       " 'ME AR ME': 0.004548901954490237,\n",
       " 'ME AR MM': 0.002509057755571162,\n",
       " 'ME AR FE': 0.0024744841250810084,\n",
       " 'ME AR AH': 0.0009285489331641308,\n",
       " 'ME AR AR': 0.0010273307345645703,\n",
       " 'ME AR AMM': 0.0006124471686827247,\n",
       " 'ME AR WM': 0.0002271981432210107,\n",
       " 'ME AR ARRF': 6.914726098030762e-05,\n",
       " 'ME AR HF': 0.0,\n",
       " 'ME AMM ME': 0.002711845395946103,\n",
       " 'ME AMM MM': 0.0014957844312058852,\n",
       " 'ME AMM FE': 0.0014751732284136784,\n",
       " 'ME AMM AH': 0.0005535580178478473,\n",
       " 'ME AMM AR': 0.0006124471686827246,\n",
       " 'ME AMM AMM': 0.0003651127351762397,\n",
       " 'ME AMM WM': 0.00013544504692021794,\n",
       " 'ME AMM ARRF': 4.1222405584414164e-05,\n",
       " 'ME AMM HF': 0.0,\n",
       " 'ME WM ME': 0.0010060071630122638,\n",
       " 'ME WM MM': 0.0005548877728666992,\n",
       " 'ME WM FE': 0.0005472416815082998,\n",
       " 'ME WM AH': 0.00020535216791129813,\n",
       " 'ME WM AR': 0.0002271981432210107,\n",
       " 'ME WM AMM': 0.00013544504692021794,\n",
       " 'ME WM WM': 5.02457432123389e-05,\n",
       " 'ME WM ARRF': 1.52921827167988e-05,\n",
       " 'ME WM HF': 0.0,\n",
       " 'ME ARRF ME': 0.00030617609309068904,\n",
       " 'ME ARRF MM': 0.00016887888739421284,\n",
       " 'ME ARRF FE': 0.00016655181611122173,\n",
       " 'ME ARRF AH': 6.249848588604727e-05,\n",
       " 'ME ARRF AR': 6.914726098030762e-05,\n",
       " 'ME ARRF AMM': 4.1222405584414164e-05,\n",
       " 'ME ARRF WM': 1.52921827167988e-05,\n",
       " 'ME ARRF ARRF': 4.654142565982243e-06,\n",
       " 'ME ARRF HF': 0.0,\n",
       " 'ME HF ME': 0.0,\n",
       " 'ME HF MM': 0.0,\n",
       " 'ME HF FE': 0.0,\n",
       " 'ME HF AH': 0.0,\n",
       " 'ME HF AR': 0.0,\n",
       " 'ME HF AMM': 0.0,\n",
       " 'ME HF WM': 0.0,\n",
       " 'ME HF ARRF': 0.0,\n",
       " 'ME HF HF': 0.0,\n",
       " 'MM ME ME': 0.011109818235005002,\n",
       " 'MM ME MM': 0.006127891056875723,\n",
       " 'MM ME FE': 0.006043451613178616,\n",
       " 'MM ME AH': 0.002267802202150858,\n",
       " 'MM ME AR': 0.002509057755571162,\n",
       " 'MM ME AMM': 0.0014957844312058852,\n",
       " 'MM ME WM': 0.0005548877728666992,\n",
       " 'MM ME ARRF': 0.00016887888739421282,\n",
       " 'MM ME HF': 0.0,\n",
       " 'MM MM ME': 0.006127891056875723,\n",
       " 'MM MM MM': 0.0033799876839227653,\n",
       " 'MM MM FE': 0.003333413050482885,\n",
       " 'MM MM AH': 0.001250861583813937,\n",
       " 'MM MM AR': 0.0013839319650707385,\n",
       " 'MM MM AMM': 0.0008250363637921712,\n",
       " 'MM MM WM': 0.0003060618768906441,\n",
       " 'MM MM ARRF': 9.314926687976126e-05,\n",
       " 'MM MM HF': 0.0,\n",
       " 'MM FE ME': 0.006043451613178616,\n",
       " 'MM FE MM': 0.0033334130504828847,\n",
       " 'MM FE FE': 0.0032874801934880417,\n",
       " 'MM FE AH': 0.0012336253021472093,\n",
       " 'MM FE AR': 0.0013648620364181889,\n",
       " 'MM FE AMM': 0.0008136677524800743,\n",
       " 'MM FE WM': 0.0003018444888232533,\n",
       " 'MM FE ARRF': 9.18657139896858e-05,\n",
       " 'MM FE HF': 0.0,\n",
       " 'MM AH ME': 0.002267802202150858,\n",
       " 'MM AH MM': 0.0012508615838139367,\n",
       " 'MM AH FE': 0.0012336253021472093,\n",
       " 'MM AH AH': 0.00046291727904925216,\n",
       " 'MM AH AR': 0.000512163798097045,\n",
       " 'MM AH AMM': 0.00030532841809631533,\n",
       " 'MM AH WM': 0.00011326699380992339,\n",
       " 'MM AH ARRF': 3.447256333345495e-05,\n",
       " 'MM AH HF': 0.0,\n",
       " 'MM AR ME': 0.002509057755571162,\n",
       " 'MM AR MM': 0.0013839319650707385,\n",
       " 'MM AR FE': 0.001364862036418189,\n",
       " 'MM AR AH': 0.000512163798097045,\n",
       " 'MM AR AR': 0.0005666493085329008,\n",
       " 'MM AR AMM': 0.0003378101647023063,\n",
       " 'MM AR WM': 0.00012531667400246844,\n",
       " 'MM AR ARRF': 3.813985730509909e-05,\n",
       " 'MM AR HF': 0.0,\n",
       " 'MM AMM ME': 0.0014957844312058852,\n",
       " 'MM AMM MM': 0.0008250363637921711,\n",
       " 'MM AMM FE': 0.0008136677524800743,\n",
       " 'MM AMM AH': 0.0003053284180963153,\n",
       " 'MM AMM AR': 0.0003378101647023063,\n",
       " 'MM AMM AMM': 0.00020138682895714415,\n",
       " 'MM AMM WM': 7.470801719377925e-05,\n",
       " 'MM AMM ARRF': 2.2737222624193693e-05,\n",
       " 'MM AMM HF': 0.0,\n",
       " 'MM WM ME': 0.0005548877728666992,\n",
       " 'MM WM MM': 0.0003060618768906441,\n",
       " 'MM WM FE': 0.0003018444888232533,\n",
       " 'MM WM AH': 0.00011326699380992339,\n",
       " 'MM WM AR': 0.00012531667400246844,\n",
       " 'MM WM AMM': 7.470801719377927e-05,\n",
       " 'MM WM WM': 2.7714264442853594e-05,\n",
       " 'MM WM ARRF': 8.43477613478153e-06,\n",
       " 'MM WM HF': 0.0,\n",
       " 'MM ARRF ME': 0.00016887888739421282,\n",
       " 'MM ARRF MM': 9.314926687976125e-05,\n",
       " 'MM ARRF FE': 9.18657139896858e-05,\n",
       " 'MM ARRF AH': 3.447256333345495e-05,\n",
       " 'MM ARRF AR': 3.813985730509909e-05,\n",
       " 'MM ARRF AMM': 2.2737222624193693e-05,\n",
       " 'MM ARRF WM': 8.43477613478153e-06,\n",
       " 'MM ARRF ARRF': 2.5671057801509004e-06,\n",
       " 'MM ARRF HF': 0.0,\n",
       " 'MM HF ME': 0.0,\n",
       " 'MM HF MM': 0.0,\n",
       " 'MM HF FE': 0.0,\n",
       " 'MM HF AH': 0.0,\n",
       " 'MM HF AR': 0.0,\n",
       " 'MM HF AMM': 0.0,\n",
       " 'MM HF WM': 0.0,\n",
       " 'MM HF ARRF': 0.0,\n",
       " 'MM HF HF': 0.0,\n",
       " 'FE ME ME': 0.010956730188459659,\n",
       " 'FE ME MM': 0.006043451613178617,\n",
       " 'FE ME FE': 0.005960175705123007,\n",
       " 'FE ME AH': 0.002236552959207835,\n",
       " 'FE ME AR': 0.0024744841250810084,\n",
       " 'FE ME AMM': 0.0014751732284136784,\n",
       " 'FE ME WM': 0.0005472416815082998,\n",
       " 'FE ME ARRF': 0.00016655181611122173,\n",
       " 'FE ME HF': 0.0,\n",
       " 'FE MM ME': 0.006043451613178616,\n",
       " 'FE MM MM': 0.0033334130504828847,\n",
       " 'FE MM FE': 0.0032874801934880417,\n",
       " 'FE MM AH': 0.0012336253021472093,\n",
       " 'FE MM AR': 0.0013648620364181889,\n",
       " 'FE MM AMM': 0.0008136677524800743,\n",
       " 'FE MM WM': 0.0003018444888232533,\n",
       " 'FE MM ARRF': 9.18657139896858e-05,\n",
       " 'FE MM HF': 0.0,\n",
       " 'FE FE ME': 0.005960175705123007,\n",
       " 'FE FE MM': 0.003287480193488042,\n",
       " 'FE FE FE': 0.0032421802695620262,\n",
       " 'FE FE AH': 0.0012166265282987244,\n",
       " 'FE FE AR': 0.0013460548823730565,\n",
       " 'FE FE AMM': 0.0008024557952608608,\n",
       " 'FE FE WM': 0.0002976852143709644,\n",
       " 'FE FE ARRF': 9.059984785203266e-05,\n",
       " 'FE FE HF': 0.0,\n",
       " 'FE AH ME': 0.0022365529592078344,\n",
       " 'FE AH MM': 0.0012336253021472095,\n",
       " 'FE AH FE': 0.0012166265282987244,\n",
       " 'FE AH AH': 0.00045653849764503026,\n",
       " 'FE AH AR': 0.0005051064229264164,\n",
       " 'FE AH AMM': 0.00030112113674459444,\n",
       " 'FE AH WM': 0.00011170622814718824,\n",
       " 'FE AH ARRF': 3.399754769697034e-05,\n",
       " 'FE AH HF': 0.0,\n",
       " 'FE AR ME': 0.0024744841250810084,\n",
       " 'FE AR MM': 0.0013648620364181889,\n",
       " 'FE AR FE': 0.0013460548823730565,\n",
       " 'FE AR AH': 0.0005051064229264164,\n",
       " 'FE AR AR': 0.0005588411487696521,\n",
       " 'FE AR AMM': 0.00033315530022806194,\n",
       " 'FE AR WM': 0.0001235898694394423,\n",
       " 'FE AR ARRF': 3.7614308090265054e-05,\n",
       " 'FE AR HF': 0.0,\n",
       " 'FE AMM ME': 0.0014751732284136781,\n",
       " 'FE AMM MM': 0.0008136677524800743,\n",
       " 'FE AMM FE': 0.0008024557952608607,\n",
       " 'FE AMM AH': 0.00030112113674459444,\n",
       " 'FE AMM AR': 0.0003331553002280619,\n",
       " 'FE AMM AMM': 0.00019861181359749847,\n",
       " 'FE AMM WM': 7.367857601197523e-05,\n",
       " 'FE AMM ARRF': 2.2423914438427244e-05,\n",
       " 'FE AMM HF': 0.0,\n",
       " 'FE WM ME': 0.0005472416815083,\n",
       " 'FE WM MM': 0.0003018444888232533,\n",
       " 'FE WM FE': 0.00029768521437096445,\n",
       " 'FE WM AH': 0.00011170622814718824,\n",
       " 'FE WM AR': 0.0001235898694394423,\n",
       " 'FE WM AMM': 7.367857601197523e-05,\n",
       " 'FE WM WM': 2.7332374972184354e-05,\n",
       " 'FE WM ARRF': 8.318548904577848e-06,\n",
       " 'FE WM HF': 0.0,\n",
       " 'FE ARRF ME': 0.00016655181611122173,\n",
       " 'FE ARRF MM': 9.186571398968582e-05,\n",
       " 'FE ARRF FE': 9.059984785203267e-05,\n",
       " 'FE ARRF AH': 3.399754769697034e-05,\n",
       " 'FE ARRF AR': 3.7614308090265054e-05,\n",
       " 'FE ARRF AMM': 2.2423914438427247e-05,\n",
       " 'FE ARRF WM': 8.318548904577848e-06,\n",
       " 'FE ARRF ARRF': 2.531732275306302e-06,\n",
       " 'FE ARRF HF': 0.0,\n",
       " 'FE HF ME': 0.0,\n",
       " 'FE HF MM': 0.0,\n",
       " 'FE HF FE': 0.0,\n",
       " 'FE HF AH': 0.0,\n",
       " 'FE HF AR': 0.0,\n",
       " 'FE HF AMM': 0.0,\n",
       " 'FE HF WM': 0.0,\n",
       " 'FE HF ARRF': 0.0,\n",
       " 'FE HF HF': 0.0,\n",
       " 'AH ME ME': 0.004111507535789253,\n",
       " 'AH ME MM': 0.002267802202150858,\n",
       " 'AH ME FE': 0.0022365529592078344,\n",
       " 'AH ME AH': 0.000839265381898349,\n",
       " 'AH ME AR': 0.0009285489331641308,\n",
       " 'AH ME AMM': 0.0005535580178478473,\n",
       " 'AH ME WM': 0.00020535216791129813,\n",
       " 'AH ME ARRF': 6.249848588604727e-05,\n",
       " 'AH ME HF': 0.0,\n",
       " 'AH MM ME': 0.002267802202150858,\n",
       " 'AH MM MM': 0.0012508615838139367,\n",
       " 'AH MM FE': 0.0012336253021472093,\n",
       " 'AH MM AH': 0.00046291727904925216,\n",
       " 'AH MM AR': 0.000512163798097045,\n",
       " 'AH MM AMM': 0.00030532841809631533,\n",
       " 'AH MM WM': 0.00011326699380992339,\n",
       " 'AH MM ARRF': 3.447256333345495e-05,\n",
       " 'AH MM HF': 0.0,\n",
       " 'AH FE ME': 0.0022365529592078344,\n",
       " 'AH FE MM': 0.0012336253021472095,\n",
       " 'AH FE FE': 0.0012166265282987244,\n",
       " 'AH FE AH': 0.00045653849764503026,\n",
       " 'AH FE AR': 0.0005051064229264164,\n",
       " 'AH FE AMM': 0.00030112113674459444,\n",
       " 'AH FE WM': 0.00011170622814718824,\n",
       " 'AH FE ARRF': 3.399754769697034e-05,\n",
       " 'AH FE HF': 0.0,\n",
       " 'AH AH ME': 0.000839265381898349,\n",
       " 'AH AH MM': 0.0004629172790492522,\n",
       " 'AH AH FE': 0.00045653849764503026,\n",
       " 'AH AH AH': 0.00017131584342767602,\n",
       " 'AH AH AR': 0.00018954093315402452,\n",
       " 'AH AH AMM': 0.00011299555630336078,\n",
       " 'AH AH WM': 4.191770637060157e-05,\n",
       " 'AH AH ARRF': 1.2757562808443958e-05,\n",
       " 'AH AH HF': 0.0,\n",
       " 'AH AR ME': 0.0009285489331641308,\n",
       " 'AH AR MM': 0.0005121637980970449,\n",
       " 'AH AR FE': 0.0005051064229264164,\n",
       " 'AH AR AH': 0.00018954093315402452,\n",
       " 'AH AR AR': 0.00020970486221296328,\n",
       " 'AH AR AMM': 0.00012501636016542042,\n",
       " 'AH AR WM': 4.637703683555918e-05,\n",
       " 'AH AR ARRF': 1.4114750341257144e-05,\n",
       " 'AH AR HF': 0.0,\n",
       " 'AH AMM ME': 0.0005535580178478473,\n",
       " 'AH AMM MM': 0.00030532841809631533,\n",
       " 'AH AMM FE': 0.0003011211367445945,\n",
       " 'AH AMM AH': 0.0001129955563033608,\n",
       " 'AH AMM AR': 0.00012501636016542045,\n",
       " 'AH AMM AMM': 7.452898394476989e-05,\n",
       " 'AH AMM WM': 2.764784888273721e-05,\n",
       " 'AH AMM ARRF': 8.414562703441762e-06,\n",
       " 'AH AMM HF': 0.0,\n",
       " 'AH WM ME': 0.00020535216791129813,\n",
       " 'AH WM MM': 0.00011326699380992339,\n",
       " 'AH WM FE': 0.00011170622814718823,\n",
       " 'AH WM AH': 4.191770637060157e-05,\n",
       " 'AH WM AR': 4.637703683555918e-05,\n",
       " 'AH WM AMM': 2.7647848882737207e-05,\n",
       " 'AH WM WM': 1.025646006940251e-05,\n",
       " 'AH WM ARRF': 3.1215313254703296e-06,\n",
       " 'AH WM HF': 0.0,\n",
       " 'AH ARRF ME': 6.249848588604727e-05,\n",
       " 'AH ARRF MM': 3.447256333345495e-05,\n",
       " 'AH ARRF FE': 3.399754769697034e-05,\n",
       " 'AH ARRF AH': 1.2757562808443958e-05,\n",
       " 'AH ARRF AR': 1.4114750341257144e-05,\n",
       " 'AH ARRF AMM': 8.41456270344176e-06,\n",
       " 'AH ARRF WM': 3.1215313254703296e-06,\n",
       " 'AH ARRF ARRF': 9.50031272969231e-07,\n",
       " 'AH ARRF HF': 0.0,\n",
       " 'AH HF ME': 0.0,\n",
       " 'AH HF MM': 0.0,\n",
       " 'AH HF FE': 0.0,\n",
       " 'AH HF AH': 0.0,\n",
       " 'AH HF AR': 0.0,\n",
       " 'AH HF AMM': 0.0,\n",
       " 'AH HF WM': 0.0,\n",
       " 'AH HF ARRF': 0.0,\n",
       " 'AH HF HF': 0.0,\n",
       " 'AR ME ME': 0.004548901954490237,\n",
       " 'AR ME MM': 0.002509057755571162,\n",
       " 'AR ME FE': 0.0024744841250810084,\n",
       " 'AR ME AH': 0.0009285489331641308,\n",
       " 'AR ME AR': 0.0010273307345645703,\n",
       " 'AR ME AMM': 0.0006124471686827247,\n",
       " 'AR ME WM': 0.0002271981432210107,\n",
       " 'AR ME ARRF': 6.914726098030762e-05,\n",
       " 'AR ME HF': 0.0,\n",
       " 'AR MM ME': 0.002509057755571162,\n",
       " 'AR MM MM': 0.0013839319650707385,\n",
       " 'AR MM FE': 0.001364862036418189,\n",
       " 'AR MM AH': 0.000512163798097045,\n",
       " 'AR MM AR': 0.0005666493085329008,\n",
       " 'AR MM AMM': 0.0003378101647023063,\n",
       " 'AR MM WM': 0.00012531667400246844,\n",
       " 'AR MM ARRF': 3.813985730509909e-05,\n",
       " 'AR MM HF': 0.0,\n",
       " 'AR FE ME': 0.0024744841250810084,\n",
       " 'AR FE MM': 0.0013648620364181889,\n",
       " 'AR FE FE': 0.0013460548823730565,\n",
       " 'AR FE AH': 0.0005051064229264164,\n",
       " 'AR FE AR': 0.0005588411487696521,\n",
       " 'AR FE AMM': 0.00033315530022806194,\n",
       " 'AR FE WM': 0.0001235898694394423,\n",
       " 'AR FE ARRF': 3.7614308090265054e-05,\n",
       " 'AR FE HF': 0.0,\n",
       " 'AR AH ME': 0.0009285489331641308,\n",
       " 'AR AH MM': 0.0005121637980970449,\n",
       " 'AR AH FE': 0.0005051064229264164,\n",
       " 'AR AH AH': 0.00018954093315402452,\n",
       " 'AR AH AR': 0.00020970486221296328,\n",
       " 'AR AH AMM': 0.00012501636016542042,\n",
       " 'AR AH WM': 4.637703683555918e-05,\n",
       " 'AR AH ARRF': 1.4114750341257144e-05,\n",
       " 'AR AH HF': 0.0,\n",
       " 'AR AR ME': 0.0010273307345645703,\n",
       " 'AR AR MM': 0.0005666493085329007,\n",
       " 'AR AR FE': 0.0005588411487696522,\n",
       " 'AR AR AH': 0.00020970486221296328,\n",
       " 'AR AR AR': 0.00023201389010795936,\n",
       " 'AR AR AMM': 0.0001383159729489758,\n",
       " 'AR AR WM': 5.131076415849101e-05,\n",
       " 'AR AR ARRF': 1.5616319526497266e-05,\n",
       " 'AR AR HF': 0.0,\n",
       " 'AR AMM ME': 0.0006124471686827246,\n",
       " 'AR AMM MM': 0.0003378101647023063,\n",
       " 'AR AMM FE': 0.0003331553002280619,\n",
       " 'AR AMM AH': 0.00012501636016542042,\n",
       " 'AR AMM AR': 0.0001383159729489758,\n",
       " 'AR AMM AMM': 8.245759925804327e-05,\n",
       " 'AR AMM WM': 3.0589109402177335e-05,\n",
       " 'AR AMM ARRF': 9.309728948488756e-06,\n",
       " 'AR AMM HF': 0.0,\n",
       " 'AR WM ME': 0.0002271981432210107,\n",
       " 'AR WM MM': 0.00012531667400246844,\n",
       " 'AR WM FE': 0.0001235898694394423,\n",
       " 'AR WM AH': 4.6377036835559186e-05,\n",
       " 'AR WM AR': 5.131076415849101e-05,\n",
       " 'AR WM AMM': 3.0589109402177335e-05,\n",
       " 'AR WM WM': 1.1347572842743203e-05,\n",
       " 'AR WM ARRF': 3.45360912605228e-06,\n",
       " 'AR WM HF': 0.0,\n",
       " 'AR ARRF ME': 6.914726098030762e-05,\n",
       " 'AR ARRF MM': 3.81398573050991e-05,\n",
       " 'AR ARRF FE': 3.7614308090265054e-05,\n",
       " 'AR ARRF AH': 1.4114750341257146e-05,\n",
       " 'AR ARRF AR': 1.561631952649727e-05,\n",
       " 'AR ARRF AMM': 9.309728948488756e-06,\n",
       " 'AR ARRF WM': 3.45360912605228e-06,\n",
       " 'AR ARRF ARRF': 1.0510984296680853e-06,\n",
       " 'AR ARRF HF': 0.0,\n",
       " 'AR HF ME': 0.0,\n",
       " 'AR HF MM': 0.0,\n",
       " 'AR HF FE': 0.0,\n",
       " 'AR HF AH': 0.0,\n",
       " 'AR HF AR': 0.0,\n",
       " 'AR HF AMM': 0.0,\n",
       " 'AR HF WM': 0.0,\n",
       " 'AR HF ARRF': 0.0,\n",
       " 'AR HF HF': 0.0,\n",
       " 'AMM ME ME': 0.002711845395946103,\n",
       " 'AMM ME MM': 0.0014957844312058852,\n",
       " 'AMM ME FE': 0.0014751732284136784,\n",
       " 'AMM ME AH': 0.0005535580178478473,\n",
       " 'AMM ME AR': 0.0006124471686827246,\n",
       " 'AMM ME AMM': 0.0003651127351762397,\n",
       " 'AMM ME WM': 0.00013544504692021794,\n",
       " 'AMM ME ARRF': 4.1222405584414164e-05,\n",
       " 'AMM ME HF': 0.0,\n",
       " 'AMM MM ME': 0.0014957844312058852,\n",
       " 'AMM MM MM': 0.0008250363637921711,\n",
       " 'AMM MM FE': 0.0008136677524800743,\n",
       " 'AMM MM AH': 0.0003053284180963153,\n",
       " 'AMM MM AR': 0.0003378101647023063,\n",
       " 'AMM MM AMM': 0.00020138682895714415,\n",
       " 'AMM MM WM': 7.470801719377925e-05,\n",
       " 'AMM MM ARRF': 2.2737222624193693e-05,\n",
       " 'AMM MM HF': 0.0,\n",
       " 'AMM FE ME': 0.0014751732284136781,\n",
       " 'AMM FE MM': 0.0008136677524800743,\n",
       " 'AMM FE FE': 0.0008024557952608607,\n",
       " 'AMM FE AH': 0.00030112113674459444,\n",
       " 'AMM FE AR': 0.0003331553002280619,\n",
       " 'AMM FE AMM': 0.00019861181359749847,\n",
       " 'AMM FE WM': 7.367857601197523e-05,\n",
       " 'AMM FE ARRF': 2.2423914438427244e-05,\n",
       " 'AMM FE HF': 0.0,\n",
       " 'AMM AH ME': 0.0005535580178478473,\n",
       " 'AMM AH MM': 0.00030532841809631533,\n",
       " 'AMM AH FE': 0.0003011211367445945,\n",
       " 'AMM AH AH': 0.0001129955563033608,\n",
       " 'AMM AH AR': 0.00012501636016542045,\n",
       " 'AMM AH AMM': 7.452898394476989e-05,\n",
       " 'AMM AH WM': 2.764784888273721e-05,\n",
       " 'AMM AH ARRF': 8.414562703441762e-06,\n",
       " 'AMM AH HF': 0.0,\n",
       " 'AMM AR ME': 0.0006124471686827246,\n",
       " 'AMM AR MM': 0.0003378101647023063,\n",
       " 'AMM AR FE': 0.0003331553002280619,\n",
       " 'AMM AR AH': 0.00012501636016542042,\n",
       " 'AMM AR AR': 0.0001383159729489758,\n",
       " 'AMM AR AMM': 8.245759925804327e-05,\n",
       " 'AMM AR WM': 3.0589109402177335e-05,\n",
       " 'AMM AR ARRF': 9.309728948488756e-06,\n",
       " 'AMM AR HF': 0.0,\n",
       " 'AMM AMM ME': 0.0003651127351762398,\n",
       " 'AMM AMM MM': 0.00020138682895714415,\n",
       " 'AMM AMM FE': 0.0001986118135974985,\n",
       " 'AMM AMM AH': 7.452898394476989e-05,\n",
       " 'AMM AMM AR': 8.245759925804328e-05,\n",
       " 'AMM AMM AMM': 4.915741494229504e-05,\n",
       " 'AMM AMM WM': 1.82358152205288e-05,\n",
       " 'AMM AMM ARRF': 5.550030719291375e-06,\n",
       " 'AMM AMM HF': 0.0,\n",
       " 'AMM WM ME': 0.00013544504692021794,\n",
       " 'AMM WM MM': 7.470801719377927e-05,\n",
       " 'AMM WM FE': 7.367857601197523e-05,\n",
       " 'AMM WM AH': 2.7647848882737207e-05,\n",
       " 'AMM WM AR': 3.0589109402177335e-05,\n",
       " 'AMM WM AMM': 1.82358152205288e-05,\n",
       " 'AMM WM WM': 6.764899194712294e-06,\n",
       " 'AMM WM ARRF': 2.05888236360809e-06,\n",
       " 'AMM WM HF': 0.0,\n",
       " 'AMM ARRF ME': 4.1222405584414164e-05,\n",
       " 'AMM ARRF MM': 2.2737222624193693e-05,\n",
       " 'AMM ARRF FE': 2.2423914438427247e-05,\n",
       " 'AMM ARRF AH': 8.41456270344176e-06,\n",
       " 'AMM ARRF AR': 9.309728948488756e-06,\n",
       " 'AMM ARRF AMM': 5.550030719291375e-06,\n",
       " 'AMM ARRF WM': 2.05888236360809e-06,\n",
       " 'AMM ARRF ARRF': 6.266163715328971e-07,\n",
       " 'AMM ARRF HF': 0.0,\n",
       " 'AMM HF ME': 0.0,\n",
       " 'AMM HF MM': 0.0,\n",
       " 'AMM HF FE': 0.0,\n",
       " 'AMM HF AH': 0.0,\n",
       " 'AMM HF AR': 0.0,\n",
       " 'AMM HF AMM': 0.0,\n",
       " 'AMM HF WM': 0.0,\n",
       " 'AMM HF ARRF': 0.0,\n",
       " 'AMM HF HF': 0.0,\n",
       " 'WM ME ME': 0.0010060071630122638,\n",
       " 'WM ME MM': 0.0005548877728666992,\n",
       " 'WM ME FE': 0.0005472416815082998,\n",
       " 'WM ME AH': 0.00020535216791129813,\n",
       " 'WM ME AR': 0.0002271981432210107,\n",
       " 'WM ME AMM': 0.00013544504692021794,\n",
       " 'WM ME WM': 5.02457432123389e-05,\n",
       " 'WM ME ARRF': 1.52921827167988e-05,\n",
       " 'WM ME HF': 0.0,\n",
       " 'WM MM ME': 0.0005548877728666992,\n",
       " 'WM MM MM': 0.0003060618768906441,\n",
       " 'WM MM FE': 0.0003018444888232533,\n",
       " 'WM MM AH': 0.00011326699380992339,\n",
       " 'WM MM AR': 0.00012531667400246844,\n",
       " 'WM MM AMM': 7.470801719377927e-05,\n",
       " 'WM MM WM': 2.7714264442853594e-05,\n",
       " 'WM MM ARRF': 8.43477613478153e-06,\n",
       " 'WM MM HF': 0.0,\n",
       " 'WM FE ME': 0.0005472416815083,\n",
       " 'WM FE MM': 0.0003018444888232533,\n",
       " 'WM FE FE': 0.00029768521437096445,\n",
       " 'WM FE AH': 0.00011170622814718824,\n",
       " 'WM FE AR': 0.0001235898694394423,\n",
       " 'WM FE AMM': 7.367857601197523e-05,\n",
       " 'WM FE WM': 2.7332374972184354e-05,\n",
       " 'WM FE ARRF': 8.318548904577848e-06,\n",
       " 'WM FE HF': 0.0,\n",
       " 'WM AH ME': 0.00020535216791129813,\n",
       " 'WM AH MM': 0.00011326699380992339,\n",
       " 'WM AH FE': 0.00011170622814718823,\n",
       " 'WM AH AH': 4.191770637060157e-05,\n",
       " 'WM AH AR': 4.637703683555918e-05,\n",
       " 'WM AH AMM': 2.7647848882737207e-05,\n",
       " 'WM AH WM': 1.025646006940251e-05,\n",
       " 'WM AH ARRF': 3.1215313254703296e-06,\n",
       " 'WM AH HF': 0.0,\n",
       " 'WM AR ME': 0.0002271981432210107,\n",
       " 'WM AR MM': 0.00012531667400246844,\n",
       " 'WM AR FE': 0.0001235898694394423,\n",
       " 'WM AR AH': 4.6377036835559186e-05,\n",
       " 'WM AR AR': 5.131076415849101e-05,\n",
       " 'WM AR AMM': 3.0589109402177335e-05,\n",
       " 'WM AR WM': 1.1347572842743203e-05,\n",
       " 'WM AR ARRF': 3.45360912605228e-06,\n",
       " 'WM AR HF': 0.0,\n",
       " 'WM AMM ME': 0.00013544504692021794,\n",
       " 'WM AMM MM': 7.470801719377927e-05,\n",
       " 'WM AMM FE': 7.367857601197523e-05,\n",
       " 'WM AMM AH': 2.7647848882737207e-05,\n",
       " 'WM AMM AR': 3.0589109402177335e-05,\n",
       " 'WM AMM AMM': 1.82358152205288e-05,\n",
       " 'WM AMM WM': 6.764899194712294e-06,\n",
       " 'WM AMM ARRF': 2.05888236360809e-06,\n",
       " 'WM AMM HF': 0.0,\n",
       " 'WM WM ME': 5.02457432123389e-05,\n",
       " 'WM WM MM': 2.771426444285359e-05,\n",
       " 'WM WM FE': 2.733237497218435e-05,\n",
       " 'WM WM AH': 1.025646006940251e-05,\n",
       " 'WM WM AR': 1.1347572842743201e-05,\n",
       " 'WM WM AMM': 6.764899194712294e-06,\n",
       " 'WM WM WM': 2.5095593786835923e-06,\n",
       " 'WM WM ARRF': 7.637789413384848e-07,\n",
       " 'WM WM HF': 0.0,\n",
       " 'WM ARRF ME': 1.52921827167988e-05,\n",
       " 'WM ARRF MM': 8.43477613478153e-06,\n",
       " 'WM ARRF FE': 8.318548904577848e-06,\n",
       " 'WM ARRF AH': 3.1215313254703296e-06,\n",
       " 'WM ARRF AR': 3.45360912605228e-06,\n",
       " 'WM ARRF AMM': 2.05888236360809e-06,\n",
       " 'WM ARRF WM': 7.637789413384848e-07,\n",
       " 'WM ARRF ARRF': 2.3245446040736498e-07,\n",
       " 'WM ARRF HF': 0.0,\n",
       " 'WM HF ME': 0.0,\n",
       " 'WM HF MM': 0.0,\n",
       " 'WM HF FE': 0.0,\n",
       " 'WM HF AH': 0.0,\n",
       " 'WM HF AR': 0.0,\n",
       " 'WM HF AMM': 0.0,\n",
       " 'WM HF WM': 0.0,\n",
       " 'WM HF ARRF': 0.0,\n",
       " 'WM HF HF': 0.0,\n",
       " 'ARRF ME ME': 0.00030617609309068904,\n",
       " 'ARRF ME MM': 0.00016887888739421284,\n",
       " 'ARRF ME FE': 0.00016655181611122173,\n",
       " 'ARRF ME AH': 6.249848588604727e-05,\n",
       " 'ARRF ME AR': 6.914726098030762e-05,\n",
       " 'ARRF ME AMM': 4.1222405584414164e-05,\n",
       " 'ARRF ME WM': 1.52921827167988e-05,\n",
       " 'ARRF ME ARRF': 4.654142565982243e-06,\n",
       " 'ARRF ME HF': 0.0,\n",
       " 'ARRF MM ME': 0.00016887888739421282,\n",
       " 'ARRF MM MM': 9.314926687976125e-05,\n",
       " 'ARRF MM FE': 9.18657139896858e-05,\n",
       " 'ARRF MM AH': 3.447256333345495e-05,\n",
       " 'ARRF MM AR': 3.813985730509909e-05,\n",
       " 'ARRF MM AMM': 2.2737222624193693e-05,\n",
       " 'ARRF MM WM': 8.43477613478153e-06,\n",
       " 'ARRF MM ARRF': 2.5671057801509004e-06,\n",
       " 'ARRF MM HF': 0.0,\n",
       " 'ARRF FE ME': 0.00016655181611122173,\n",
       " 'ARRF FE MM': 9.186571398968582e-05,\n",
       " 'ARRF FE FE': 9.059984785203267e-05,\n",
       " 'ARRF FE AH': 3.399754769697034e-05,\n",
       " 'ARRF FE AR': 3.7614308090265054e-05,\n",
       " 'ARRF FE AMM': 2.2423914438427247e-05,\n",
       " 'ARRF FE WM': 8.318548904577848e-06,\n",
       " 'ARRF FE ARRF': 2.531732275306302e-06,\n",
       " 'ARRF FE HF': 0.0,\n",
       " 'ARRF AH ME': 6.249848588604727e-05,\n",
       " 'ARRF AH MM': 3.447256333345495e-05,\n",
       " 'ARRF AH FE': 3.399754769697034e-05,\n",
       " 'ARRF AH AH': 1.2757562808443958e-05,\n",
       " 'ARRF AH AR': 1.4114750341257144e-05,\n",
       " 'ARRF AH AMM': 8.41456270344176e-06,\n",
       " 'ARRF AH WM': 3.1215313254703296e-06,\n",
       " 'ARRF AH ARRF': 9.50031272969231e-07,\n",
       " 'ARRF AH HF': 0.0,\n",
       " 'ARRF AR ME': 6.914726098030762e-05,\n",
       " 'ARRF AR MM': 3.81398573050991e-05,\n",
       " 'ARRF AR FE': 3.7614308090265054e-05,\n",
       " 'ARRF AR AH': 1.4114750341257146e-05,\n",
       " 'ARRF AR AR': 1.561631952649727e-05,\n",
       " 'ARRF AR AMM': 9.309728948488756e-06,\n",
       " 'ARRF AR WM': 3.45360912605228e-06,\n",
       " 'ARRF AR ARRF': 1.0510984296680853e-06,\n",
       " 'ARRF AR HF': 0.0,\n",
       " 'ARRF AMM ME': 4.1222405584414164e-05,\n",
       " 'ARRF AMM MM': 2.2737222624193693e-05,\n",
       " 'ARRF AMM FE': 2.2423914438427247e-05,\n",
       " 'ARRF AMM AH': 8.41456270344176e-06,\n",
       " 'ARRF AMM AR': 9.309728948488756e-06,\n",
       " 'ARRF AMM AMM': 5.550030719291375e-06,\n",
       " 'ARRF AMM WM': 2.05888236360809e-06,\n",
       " 'ARRF AMM ARRF': 6.266163715328971e-07,\n",
       " 'ARRF AMM HF': 0.0,\n",
       " 'ARRF WM ME': 1.52921827167988e-05,\n",
       " 'ARRF WM MM': 8.43477613478153e-06,\n",
       " 'ARRF WM FE': 8.318548904577848e-06,\n",
       " 'ARRF WM AH': 3.1215313254703296e-06,\n",
       " 'ARRF WM AR': 3.45360912605228e-06,\n",
       " 'ARRF WM AMM': 2.05888236360809e-06,\n",
       " 'ARRF WM WM': 7.637789413384848e-07,\n",
       " 'ARRF WM ARRF': 2.3245446040736498e-07,\n",
       " 'ARRF WM HF': 0.0,\n",
       " 'ARRF ARRF ME': 4.654142565982243e-06,\n",
       " 'ARRF ARRF MM': 2.5671057801509008e-06,\n",
       " 'ARRF ARRF FE': 2.5317322753063016e-06,\n",
       " 'ARRF ARRF AH': 9.50031272969231e-07,\n",
       " 'ARRF ARRF AR': 1.0510984296680853e-06,\n",
       " 'ARRF ARRF AMM': 6.266163715328971e-07,\n",
       " 'ARRF ARRF WM': 2.3245446040736498e-07,\n",
       " 'ARRF ARRF ARRF': 7.074700968919806e-08,\n",
       " 'ARRF ARRF HF': 0.0,\n",
       " 'ARRF HF ME': 0.0,\n",
       " 'ARRF HF MM': 0.0,\n",
       " 'ARRF HF FE': 0.0,\n",
       " 'ARRF HF AH': 0.0,\n",
       " 'ARRF HF AR': 0.0,\n",
       " 'ARRF HF AMM': 0.0,\n",
       " 'ARRF HF WM': 0.0,\n",
       " 'ARRF HF ARRF': 0.0,\n",
       " 'ARRF HF HF': 0.0,\n",
       " 'HF ME ME': 0.0,\n",
       " 'HF ME MM': 0.0,\n",
       " 'HF ME FE': 0.0,\n",
       " 'HF ME AH': 0.0,\n",
       " 'HF ME AR': 0.0,\n",
       " 'HF ME AMM': 0.0,\n",
       " 'HF ME WM': 0.0,\n",
       " 'HF ME ARRF': 0.0,\n",
       " 'HF ME HF': 0.0,\n",
       " 'HF MM ME': 0.0,\n",
       " 'HF MM MM': 0.0,\n",
       " 'HF MM FE': 0.0,\n",
       " 'HF MM AH': 0.0,\n",
       " 'HF MM AR': 0.0,\n",
       " 'HF MM AMM': 0.0,\n",
       " 'HF MM WM': 0.0,\n",
       " 'HF MM ARRF': 0.0,\n",
       " 'HF MM HF': 0.0,\n",
       " 'HF FE ME': 0.0,\n",
       " 'HF FE MM': 0.0,\n",
       " 'HF FE FE': 0.0,\n",
       " 'HF FE AH': 0.0,\n",
       " 'HF FE AR': 0.0,\n",
       " 'HF FE AMM': 0.0,\n",
       " 'HF FE WM': 0.0,\n",
       " 'HF FE ARRF': 0.0,\n",
       " 'HF FE HF': 0.0,\n",
       " 'HF AH ME': 0.0,\n",
       " 'HF AH MM': 0.0,\n",
       " 'HF AH FE': 0.0,\n",
       " 'HF AH AH': 0.0,\n",
       " 'HF AH AR': 0.0,\n",
       " 'HF AH AMM': 0.0,\n",
       " 'HF AH WM': 0.0,\n",
       " 'HF AH ARRF': 0.0,\n",
       " 'HF AH HF': 0.0,\n",
       " 'HF AR ME': 0.0,\n",
       " 'HF AR MM': 0.0,\n",
       " 'HF AR FE': 0.0,\n",
       " 'HF AR AH': 0.0,\n",
       " 'HF AR AR': 0.0,\n",
       " 'HF AR AMM': 0.0,\n",
       " 'HF AR WM': 0.0,\n",
       " 'HF AR ARRF': 0.0,\n",
       " 'HF AR HF': 0.0,\n",
       " 'HF AMM ME': 0.0,\n",
       " 'HF AMM MM': 0.0,\n",
       " 'HF AMM FE': 0.0,\n",
       " 'HF AMM AH': 0.0,\n",
       " 'HF AMM AR': 0.0,\n",
       " 'HF AMM AMM': 0.0,\n",
       " 'HF AMM WM': 0.0,\n",
       " 'HF AMM ARRF': 0.0,\n",
       " 'HF AMM HF': 0.0,\n",
       " 'HF WM ME': 0.0,\n",
       " 'HF WM MM': 0.0,\n",
       " 'HF WM FE': 0.0,\n",
       " 'HF WM AH': 0.0,\n",
       " 'HF WM AR': 0.0,\n",
       " 'HF WM AMM': 0.0,\n",
       " 'HF WM WM': 0.0,\n",
       " 'HF WM ARRF': 0.0,\n",
       " 'HF WM HF': 0.0,\n",
       " 'HF ARRF ME': 0.0,\n",
       " 'HF ARRF MM': 0.0,\n",
       " 'HF ARRF FE': 0.0,\n",
       " 'HF ARRF AH': 0.0,\n",
       " 'HF ARRF AR': 0.0,\n",
       " 'HF ARRF AMM': 0.0,\n",
       " 'HF ARRF WM': 0.0,\n",
       " 'HF ARRF ARRF': 0.0,\n",
       " 'HF ARRF HF': 0.0,\n",
       " 'HF HF ME': 0.0,\n",
       " 'HF HF MM': 0.0,\n",
       " 'HF HF FE': 0.0,\n",
       " 'HF HF AH': 0.0,\n",
       " 'HF HF AR': 0.0,\n",
       " 'HF HF AMM': 0.0,\n",
       " 'HF HF WM': 0.0,\n",
       " 'HF HF ARRF': 0.0,\n",
       " 'HF HF HF': 0.0}"
      ]
     },
     "execution_count": 10,
     "metadata": {},
     "output_type": "execute_result"
    }
   ],
   "source": [
    "WNR_RB = win_no_race(IGP_team,RGP_team,TGP_team,'RB', ' ')\n",
    "WNR_RB"
   ]
  },
  {
   "cell_type": "code",
   "execution_count": 11,
   "id": "57ed9f7d",
   "metadata": {},
   "outputs": [],
   "source": [
    "#the probability for Red Bull Racing to win no race\n",
    "p_WNR_RB = sum(WNR_RB[key] for key in WNR_RB)"
   ]
  },
  {
   "cell_type": "markdown",
   "id": "2b92c5e8",
   "metadata": {},
   "source": [
    "Because the sum of the probability of winning at least one race and the probability of losing all three race is **1**, so......"
   ]
  },
  {
   "cell_type": "code",
   "execution_count": 12,
   "id": "99aa03a9",
   "metadata": {},
   "outputs": [
    {
     "data": {
      "text/plain": [
       "0.5922958375675218"
      ]
     },
     "execution_count": 12,
     "metadata": {},
     "output_type": "execute_result"
    }
   ],
   "source": [
    "#the probability for Red Bull Racing to win at least one race\n",
    "p_W_AtLeast1_RB = 1 - p_WNR_RB\n",
    "p_W_AtLeast1_RB"
   ]
  },
  {
   "cell_type": "markdown",
   "id": "45ef3d6e",
   "metadata": {},
   "source": [
    "----------------------------------------------"
   ]
  },
  {
   "cell_type": "markdown",
   "id": "561ce449",
   "metadata": {},
   "source": [
    "# Question 1-5\n",
    "What is the probability for Red Bull Racing to win ***all three*** races?  "
   ]
  },
  {
   "cell_type": "code",
   "execution_count": 13,
   "id": "795e8ff0",
   "metadata": {},
   "outputs": [],
   "source": [
    "def win_all_race(A, B, C, sep=''):\n",
    "    return {a + sep + b + sep + c: A[a] * B[b] * C[c]\n",
    "                    for a in A\n",
    "                    for b in B \n",
    "                    for c in C if a == b == c} # win all races"
   ]
  },
  {
   "cell_type": "markdown",
   "id": "a387d65f",
   "metadata": {},
   "source": [
    "**WWW_team** : the probability distribution for each team to win all three races"
   ]
  },
  {
   "cell_type": "code",
   "execution_count": 14,
   "id": "f86e00dd",
   "metadata": {},
   "outputs": [
    {
     "data": {
      "text/plain": [
       "{'RB RB RB': 0.017272219162401865,\n",
       " 'ME ME ME': 0.020142012981180332,\n",
       " 'MM MM MM': 0.0033799876839227653,\n",
       " 'FE FE FE': 0.0032421802695620262,\n",
       " 'AH AH AH': 0.00017131584342767602,\n",
       " 'AR AR AR': 0.00023201389010795936,\n",
       " 'AMM AMM AMM': 4.915741494229504e-05,\n",
       " 'WM WM WM': 2.5095593786835923e-06,\n",
       " 'ARRF ARRF ARRF': 7.074700968919806e-08,\n",
       " 'HF HF HF': 0.0}"
      ]
     },
     "execution_count": 14,
     "metadata": {},
     "output_type": "execute_result"
    }
   ],
   "source": [
    "WWW_team = win_all_race(IGP_team,RGP_team,TGP_team, ' ')\n",
    "WWW_team"
   ]
  },
  {
   "cell_type": "code",
   "execution_count": 15,
   "id": "cf199677",
   "metadata": {},
   "outputs": [
    {
     "data": {
      "text/plain": [
       "0.017272219162401865"
      ]
     },
     "execution_count": 15,
     "metadata": {},
     "output_type": "execute_result"
    }
   ],
   "source": [
    "#the probability for Red Bull Racing to win all three races\n",
    "WWW_team['RB RB RB']"
   ]
  },
  {
   "cell_type": "markdown",
   "id": "51bf0b40",
   "metadata": {},
   "source": [
    "---------------------------------------------------"
   ]
  },
  {
   "cell_type": "markdown",
   "id": "00fffb30",
   "metadata": {},
   "source": [
    "# Question 2-1  \n",
    "If Red Bull Racing wins the first race, what is the probability that Red Bull Racing wins the next one?  How about Mercedes, McLaren, and Ferrari? "
   ]
  },
  {
   "cell_type": "markdown",
   "id": "5b426eb8",
   "metadata": {},
   "source": [
    "**IGP** : the Probability Distribution for each F1 driver to win the Italy Grand Prix"
   ]
  },
  {
   "cell_type": "code",
   "execution_count": 16,
   "id": "a46d36e6",
   "metadata": {},
   "outputs": [],
   "source": [
    "IGP = RGP = TGP = ProbDist(\n",
    "    MV = 287.5, LH = 275.5, VB = 185, SP = 150, LN = 149, CL = 128, CS = 122.5,\n",
    "    DR = 105, PG = 74, FA = 58, EO = 46, SV = 36, LS = 26, YT = 20,\n",
    "    GR = 16, NL = 7, KR = 6, AG = 1, MS = 0, RK = 0, NM = 0)"
   ]
  },
  {
   "cell_type": "markdown",
   "id": "bd290729",
   "metadata": {},
   "source": [
    "**IGP_team** : the Probability Distribution for each team to win the Italy Grand Prix"
   ]
  },
  {
   "cell_type": "code",
   "execution_count": 17,
   "id": "e5ca0712",
   "metadata": {},
   "outputs": [],
   "source": [
    "def team_win(teammates_list):\n",
    "    return sum(IGP[driver] for driver in IGP if driver in teammates_list)\n",
    "\n",
    "IGP_team = RGP_team = TGP_team = ProbDist(RB = team_win(['MV','SP']),\n",
    "                                          ME = team_win(['LH','VB']), \n",
    "                                          MM = team_win(['LN','DR']), \n",
    "                                          FE = team_win(['CL','CS']), \n",
    "                                          AH = team_win(['PG','YT']),\n",
    "                                          AR = team_win(['FA','EO']),\n",
    "                                          AMM = team_win(['SV','LS']), \n",
    "                                          WM = team_win(['GR','NL']), \n",
    "                                          ARRF = team_win(['KR','AG']), \n",
    "                                          HF = team_win(['MS','NM']))"
   ]
  },
  {
   "cell_type": "code",
   "execution_count": 18,
   "id": "dc164c1a",
   "metadata": {},
   "outputs": [],
   "source": [
    "def two_race(A, B, sep=''):\n",
    "    return {a + sep + b: A[a] * B[b]\n",
    "                    for a in A\n",
    "                    for b in B } # winner results of two races"
   ]
  },
  {
   "cell_type": "markdown",
   "id": "c8b7603c",
   "metadata": {},
   "source": [
    "**Two_race_team** : the Probability Distribution for winner results of the two races"
   ]
  },
  {
   "cell_type": "code",
   "execution_count": 19,
   "id": "77efc168",
   "metadata": {},
   "outputs": [
    {
     "data": {
      "text/plain": [
       "{'RB RB': 0.0668188135596918,\n",
       " 'RB ME': 0.07033157404397275,\n",
       " 'RB MM': 0.038793094043798215,\n",
       " 'RB FE': 0.03825854353532068,\n",
       " 'RB AH': 0.014356499370539497,\n",
       " 'RB AR': 0.015883786537618166,\n",
       " 'RB AMM': 0.009469180435887754,\n",
       " 'RB WM': 0.00351276048428094,\n",
       " 'RB ARRF': 0.001069101016955069,\n",
       " 'RB HF': 0.0,\n",
       " 'ME RB': 0.07033157404397275,\n",
       " 'ME ME': 0.07402900536514162,\n",
       " 'ME MM': 0.04083250241638647,\n",
       " 'ME FE': 0.04026984982403469,\n",
       " 'ME AH': 0.015111241051733575,\n",
       " 'ME AR': 0.01671881988702438,\n",
       " 'ME AMM': 0.009966988778802997,\n",
       " 'ME WM': 0.003697431321168853,\n",
       " 'ME ARRF': 0.0011253051847035641,\n",
       " 'ME HF': 0.0,\n",
       " 'MM RB': 0.038793094043798215,\n",
       " 'MM ME': 0.04083250241638647,\n",
       " 'MM MM': 0.022522162027713708,\n",
       " 'MM FE': 0.02221181727536332,\n",
       " 'MM AH': 0.00833497334883893,\n",
       " 'MM AR': 0.009221672641268604,\n",
       " 'MM AMM': 0.005497535613063976,\n",
       " 'MM WM': 0.002039408372588249,\n",
       " 'MM ARRF': 0.0006206895047007714,\n",
       " 'MM HF': 0.0,\n",
       " 'FE RB': 0.03825854353532068,\n",
       " 'FE ME': 0.04026984982403469,\n",
       " 'FE MM': 0.02221181727536332,\n",
       " 'FE FE': 0.02190574892708076,\n",
       " 'FE AH': 0.008220121353874616,\n",
       " 'FE AR': 0.009094602348967659,\n",
       " 'FE AMM': 0.005421782169576874,\n",
       " 'FE WM': 0.0020113062887140015,\n",
       " 'FE ARRF': 0.000612136696565131,\n",
       " 'FE HF': 0.0,\n",
       " 'AH RB': 0.014356499370539497,\n",
       " 'AH ME': 0.015111241051733575,\n",
       " 'AH MM': 0.00833497334883893,\n",
       " 'AH FE': 0.008220121353874616,\n",
       " 'AH AH': 0.0030845964361844863,\n",
       " 'AH AR': 0.0034127449932253888,\n",
       " 'AH AMM': 0.0020345210536535977,\n",
       " 'AH WM': 0.0007547416811940763,\n",
       " 'AH ARRF': 0.00022970398992863195,\n",
       " 'AH HF': 0.0,\n",
       " 'AR RB': 0.015883786537618166,\n",
       " 'AR ME': 0.01671881988702438,\n",
       " 'AR MM': 0.009221672641268604,\n",
       " 'AR FE': 0.009094602348967659,\n",
       " 'AR AH': 0.0034127449932253888,\n",
       " 'AR AR': 0.0037758029712280897,\n",
       " 'AR AMM': 0.002250959463616746,\n",
       " 'AR WM': 0.0008350333494062121,\n",
       " 'AR ARRF': 0.0002541405846018907,\n",
       " 'AR HF': 0.0,\n",
       " 'AMM RB': 0.009469180435887754,\n",
       " 'AMM ME': 0.009966988778802997,\n",
       " 'AMM MM': 0.005497535613063976,\n",
       " 'AMM FE': 0.005421782169576874,\n",
       " 'AMM AH': 0.0020345210536535977,\n",
       " 'AMM AR': 0.002250959463616746,\n",
       " 'AMM AMM': 0.001341918141771522,\n",
       " 'AMM WM': 0.0004978083429152419,\n",
       " 'AMM ARRF': 0.00015150688697420408,\n",
       " 'AMM HF': 0.0,\n",
       " 'WM RB': 0.00351276048428094,\n",
       " 'WM ME': 0.003697431321168853,\n",
       " 'WM MM': 0.002039408372588249,\n",
       " 'WM FE': 0.0020113062887140015,\n",
       " 'WM AH': 0.0007547416811940763,\n",
       " 'WM AR': 0.0008350333494062121,\n",
       " 'WM AMM': 0.0004978083429152419,\n",
       " 'WM WM': 0.00018467083688791225,\n",
       " 'WM ARRF': 5.6204167748495046e-05,\n",
       " 'WM HF': 0.0,\n",
       " 'ARRF RB': 0.001069101016955069,\n",
       " 'ARRF ME': 0.0011253051847035641,\n",
       " 'ARRF MM': 0.0006206895047007714,\n",
       " 'ARRF FE': 0.000612136696565131,\n",
       " 'ARRF AH': 0.00022970398992863195,\n",
       " 'ARRF AR': 0.0002541405846018907,\n",
       " 'ARRF AMM': 0.00015150688697420408,\n",
       " 'ARRF WM': 5.6204167748495046e-05,\n",
       " 'ARRF ARRF': 1.7105616271281104e-05,\n",
       " 'ARRF HF': 0.0,\n",
       " 'HF RB': 0.0,\n",
       " 'HF ME': 0.0,\n",
       " 'HF MM': 0.0,\n",
       " 'HF FE': 0.0,\n",
       " 'HF AH': 0.0,\n",
       " 'HF AR': 0.0,\n",
       " 'HF AMM': 0.0,\n",
       " 'HF WM': 0.0,\n",
       " 'HF ARRF': 0.0,\n",
       " 'HF HF': 0.0}"
      ]
     },
     "execution_count": 19,
     "metadata": {},
     "output_type": "execute_result"
    }
   ],
   "source": [
    "Two_race_team = two_race(IGP_team,RGP_team, ' ')\n",
    "Two_race_team"
   ]
  },
  {
   "cell_type": "markdown",
   "id": "62f1c273",
   "metadata": {},
   "source": [
    "$$P(B|A)=\\frac{P(AB)}{P(A)}$$"
   ]
  },
  {
   "cell_type": "markdown",
   "id": "5b731c54",
   "metadata": {},
   "source": [
    "### If Red Bull Racing wins the first race..."
   ]
  },
  {
   "cell_type": "code",
   "execution_count": 20,
   "id": "b9d5bf64",
   "metadata": {},
   "outputs": [
    {
     "data": {
      "text/plain": [
       "0.2584933530280649"
      ]
     },
     "execution_count": 20,
     "metadata": {},
     "output_type": "execute_result"
    }
   ],
   "source": [
    "#and Red Bull Racing wins the next\n",
    "Two_race_team['RB RB']/IGP_team['RB']"
   ]
  },
  {
   "cell_type": "code",
   "execution_count": 21,
   "id": "717b32ef",
   "metadata": {},
   "outputs": [
    {
     "data": {
      "text/plain": [
       "0.27208271787296895"
      ]
     },
     "execution_count": 21,
     "metadata": {},
     "output_type": "execute_result"
    }
   ],
   "source": [
    "#and Mercedes wins the next\n",
    "Two_race_team['RB ME']/IGP_team['RB']"
   ]
  },
  {
   "cell_type": "code",
   "execution_count": 22,
   "id": "12f34267",
   "metadata": {},
   "outputs": [
    {
     "data": {
      "text/plain": [
       "0.15007385524372227"
      ]
     },
     "execution_count": 22,
     "metadata": {},
     "output_type": "execute_result"
    }
   ],
   "source": [
    "#and McLaren wins the next\n",
    "Two_race_team['RB MM']/IGP_team['RB']"
   ]
  },
  {
   "cell_type": "code",
   "execution_count": 23,
   "id": "c9f3543a",
   "metadata": {},
   "outputs": [
    {
     "data": {
      "text/plain": [
       "0.14800590841949776"
      ]
     },
     "execution_count": 23,
     "metadata": {},
     "output_type": "execute_result"
    }
   ],
   "source": [
    "#and Ferrari wins the next\n",
    "Two_race_team['RB FE']/IGP_team['RB']"
   ]
  },
  {
   "cell_type": "markdown",
   "id": "fb2652db",
   "metadata": {},
   "source": [
    "### If Mercedes wins the first race, and Mercedes wins the next"
   ]
  },
  {
   "cell_type": "code",
   "execution_count": 24,
   "id": "f090cd2c",
   "metadata": {},
   "outputs": [
    {
     "data": {
      "text/plain": [
       "0.27208271787296895"
      ]
     },
     "execution_count": 24,
     "metadata": {},
     "output_type": "execute_result"
    }
   ],
   "source": [
    "Two_race_team['ME ME']/IGP_team['ME']"
   ]
  },
  {
   "cell_type": "markdown",
   "id": "f255e92f",
   "metadata": {},
   "source": [
    "### If McLaren wins the first race, and McLaren wins the next"
   ]
  },
  {
   "cell_type": "code",
   "execution_count": 25,
   "id": "afe07712",
   "metadata": {},
   "outputs": [
    {
     "data": {
      "text/plain": [
       "0.15007385524372227"
      ]
     },
     "execution_count": 25,
     "metadata": {},
     "output_type": "execute_result"
    }
   ],
   "source": [
    "Two_race_team['MM MM']/IGP_team['MM']"
   ]
  },
  {
   "cell_type": "markdown",
   "id": "05ae5c4f",
   "metadata": {},
   "source": [
    "### If Ferrari wins the first race, and Ferrari wins the next"
   ]
  },
  {
   "cell_type": "code",
   "execution_count": 26,
   "id": "d244b769",
   "metadata": {},
   "outputs": [
    {
     "data": {
      "text/plain": [
       "0.14800590841949776"
      ]
     },
     "execution_count": 26,
     "metadata": {},
     "output_type": "execute_result"
    }
   ],
   "source": [
    "Two_race_team['FE FE']/IGP_team['FE']"
   ]
  },
  {
   "cell_type": "markdown",
   "id": "a59819e0",
   "metadata": {},
   "source": [
    "---------------------------------"
   ]
  },
  {
   "cell_type": "markdown",
   "id": "9bdc16fa",
   "metadata": {},
   "source": [
    "# Question 2-2\n",
    "If Red Bull Racing wins at least one of these two races, what is the probability Red Bull Racing wins both races? How about Mercedes, McLaren, and Ferrari? "
   ]
  },
  {
   "cell_type": "code",
   "execution_count": 27,
   "id": "e3cf8694",
   "metadata": {},
   "outputs": [],
   "source": [
    "def win_no_race(A, B, team, sep=''):\n",
    "    return {a + sep + b : A[a] * B[b]\n",
    "                    for a in A if a != team\n",
    "                    for b in B if b != team} # for team, win no race"
   ]
  },
  {
   "cell_type": "markdown",
   "id": "3cd489c0",
   "metadata": {},
   "source": [
    "**WNR_XX** : the probability distribution for team XX to win no race"
   ]
  },
  {
   "cell_type": "code",
   "execution_count": 28,
   "id": "79d565a2",
   "metadata": {},
   "outputs": [],
   "source": [
    "WNR_RB = win_no_race(IGP_team,RGP_team,'RB', ' ')\n",
    "WNR_ME = win_no_race(IGP_team,RGP_team,'ME', ' ')\n",
    "WNR_MM = win_no_race(IGP_team,RGP_team,'MM', ' ')\n",
    "WNR_FE = win_no_race(IGP_team,RGP_team,'FE', ' ')"
   ]
  },
  {
   "cell_type": "markdown",
   "id": "f64552a6",
   "metadata": {},
   "source": [
    "Because the sum of the probability of winning at least one race and the probability of losing all three race is **1**, so......"
   ]
  },
  {
   "cell_type": "markdown",
   "id": "6711e554",
   "metadata": {},
   "source": [
    "**p_W_AtLeast1_XX** : the probability for team XX to win at least one race"
   ]
  },
  {
   "cell_type": "code",
   "execution_count": 29,
   "id": "b9c1ce68",
   "metadata": {},
   "outputs": [],
   "source": [
    "p_W_AtLeast1_RB = 1 - sum(WNR_RB[key] for key in WNR_RB)\n",
    "p_W_AtLeast1_ME = 1 - sum(WNR_ME[key] for key in WNR_ME)\n",
    "p_W_AtLeast1_MM = 1 - sum(WNR_MM[key] for key in WNR_MM)\n",
    "p_W_AtLeast1_FE = 1 - sum(WNR_FE[key] for key in WNR_FE)"
   ]
  },
  {
   "cell_type": "markdown",
   "id": "5720fff9",
   "metadata": {},
   "source": [
    "$$P(B|A)=\\frac{P(AB)}{P(A)}$$"
   ]
  },
  {
   "cell_type": "markdown",
   "id": "13542258",
   "metadata": {},
   "source": [
    "### If Red Bull wins at least one, and Red Bull wins both"
   ]
  },
  {
   "cell_type": "code",
   "execution_count": 30,
   "id": "cc932cb1",
   "metadata": {},
   "outputs": [
    {
     "data": {
      "text/plain": [
       "0.14843087362171323"
      ]
     },
     "execution_count": 30,
     "metadata": {},
     "output_type": "execute_result"
    }
   ],
   "source": [
    "Two_race_team['RB RB']/p_W_AtLeast1_RB"
   ]
  },
  {
   "cell_type": "markdown",
   "id": "b97ae7db",
   "metadata": {},
   "source": [
    "### If Mercedes wins at least one, and Mercedes wins both"
   ]
  },
  {
   "cell_type": "code",
   "execution_count": 31,
   "id": "b72ad98c",
   "metadata": {},
   "outputs": [
    {
     "data": {
      "text/plain": [
       "0.157462814156266"
      ]
     },
     "execution_count": 31,
     "metadata": {},
     "output_type": "execute_result"
    }
   ],
   "source": [
    "Two_race_team['ME ME']/p_W_AtLeast1_ME"
   ]
  },
  {
   "cell_type": "markdown",
   "id": "e89a96eb",
   "metadata": {},
   "source": [
    "### If McLaren wins at least one, and McLaren wins both"
   ]
  },
  {
   "cell_type": "code",
   "execution_count": 32,
   "id": "bc3bb8d7",
   "metadata": {},
   "outputs": [
    {
     "data": {
      "text/plain": [
       "0.08112424145640372"
      ]
     },
     "execution_count": 32,
     "metadata": {},
     "output_type": "execute_result"
    }
   ],
   "source": [
    "Two_race_team['MM MM']/p_W_AtLeast1_MM"
   ]
  },
  {
   "cell_type": "markdown",
   "id": "392678f7",
   "metadata": {},
   "source": [
    "### If Ferrari wins at least one, and Ferrari wins both"
   ]
  },
  {
   "cell_type": "code",
   "execution_count": 33,
   "id": "0705b35e",
   "metadata": {},
   "outputs": [
    {
     "data": {
      "text/plain": [
       "0.07991705216142919"
      ]
     },
     "execution_count": 33,
     "metadata": {},
     "output_type": "execute_result"
    }
   ],
   "source": [
    "Two_race_team['FE FE']/p_W_AtLeast1_FE"
   ]
  },
  {
   "cell_type": "markdown",
   "id": "758b4d8a",
   "metadata": {},
   "source": [
    "---------------------------------------------------------------------"
   ]
  },
  {
   "cell_type": "markdown",
   "id": "fb65aac1",
   "metadata": {},
   "source": [
    "# Question 3 \n",
    "Red Bull Racing wins at least one of these two races on a ***rainy day***. What is the probability Red Bull Racing wins ***both*** races, assuming races can be held on either rainy, sunny, cloudy, snowy or foggy days? Also assume that rain, sun, clouds, snow, and fog are the *only possible weather conditions* on race tracks, and that they're *equiprobable*."
   ]
  },
  {
   "cell_type": "code",
   "execution_count": 34,
   "id": "839fc82f",
   "metadata": {},
   "outputs": [
    {
     "data": {
      "text/plain": [
       "{'Rain': 0.2, 'Sun': 0.2, 'Clouds': 0.2, 'Snow': 0.2, 'Fog': 0.2}"
      ]
     },
     "execution_count": 34,
     "metadata": {},
     "output_type": "execute_result"
    }
   ],
   "source": [
    "Weather = ProbDist(Rain = 0.2, Sun = 0.2, Clouds = 0.2, Snow = 0.2, Fog = 0.2)\n",
    "Weather"
   ]
  },
  {
   "cell_type": "code",
   "execution_count": 35,
   "id": "107b37ee",
   "metadata": {},
   "outputs": [],
   "source": [
    "def atleast1_win_rain_RB(A, B, C, D, sep=''):\n",
    "    return {a + sep + b + sep + c + sep + d: A[a] * B[b]* C[c]* D[d]\n",
    "                    for a in A\n",
    "                    for b in B\n",
    "                    for c in C\n",
    "                    for d in D  if 'RB Rain' in a + sep + b + sep + c + sep + d }"
   ]
  },
  {
   "cell_type": "markdown",
   "id": "24d039d1",
   "metadata": {},
   "source": [
    "**W_AtLeast1_Rain_RB** : the probability distribution for Red Bull Racing wins at least one of these two races on a rainy day"
   ]
  },
  {
   "cell_type": "code",
   "execution_count": 36,
   "id": "d7460ad2",
   "metadata": {},
   "outputs": [
    {
     "data": {
      "text/plain": [
       "{'RB Rain RB Rain': 0.002672752542387672,\n",
       " 'RB Rain RB Sun': 0.002672752542387672,\n",
       " 'RB Rain RB Clouds': 0.002672752542387672,\n",
       " 'RB Rain RB Snow': 0.002672752542387672,\n",
       " 'RB Rain RB Fog': 0.002672752542387672,\n",
       " 'RB Rain ME Rain': 0.0028132629617589103,\n",
       " 'RB Rain ME Sun': 0.0028132629617589103,\n",
       " 'RB Rain ME Clouds': 0.0028132629617589103,\n",
       " 'RB Rain ME Snow': 0.0028132629617589103,\n",
       " 'RB Rain ME Fog': 0.0028132629617589103,\n",
       " 'RB Rain MM Rain': 0.0015517237617519285,\n",
       " 'RB Rain MM Sun': 0.0015517237617519285,\n",
       " 'RB Rain MM Clouds': 0.0015517237617519285,\n",
       " 'RB Rain MM Snow': 0.0015517237617519285,\n",
       " 'RB Rain MM Fog': 0.0015517237617519285,\n",
       " 'RB Rain FE Rain': 0.0015303417414128273,\n",
       " 'RB Rain FE Sun': 0.0015303417414128273,\n",
       " 'RB Rain FE Clouds': 0.0015303417414128273,\n",
       " 'RB Rain FE Snow': 0.0015303417414128273,\n",
       " 'RB Rain FE Fog': 0.0015303417414128273,\n",
       " 'RB Rain AH Rain': 0.0005742599748215798,\n",
       " 'RB Rain AH Sun': 0.0005742599748215798,\n",
       " 'RB Rain AH Clouds': 0.0005742599748215798,\n",
       " 'RB Rain AH Snow': 0.0005742599748215798,\n",
       " 'RB Rain AH Fog': 0.0005742599748215798,\n",
       " 'RB Rain AR Rain': 0.0006353514615047266,\n",
       " 'RB Rain AR Sun': 0.0006353514615047266,\n",
       " 'RB Rain AR Clouds': 0.0006353514615047266,\n",
       " 'RB Rain AR Snow': 0.0006353514615047266,\n",
       " 'RB Rain AR Fog': 0.0006353514615047266,\n",
       " 'RB Rain AMM Rain': 0.0003787672174355102,\n",
       " 'RB Rain AMM Sun': 0.0003787672174355102,\n",
       " 'RB Rain AMM Clouds': 0.0003787672174355102,\n",
       " 'RB Rain AMM Snow': 0.0003787672174355102,\n",
       " 'RB Rain AMM Fog': 0.0003787672174355102,\n",
       " 'RB Rain WM Rain': 0.00014051041937123763,\n",
       " 'RB Rain WM Sun': 0.00014051041937123763,\n",
       " 'RB Rain WM Clouds': 0.00014051041937123763,\n",
       " 'RB Rain WM Snow': 0.00014051041937123763,\n",
       " 'RB Rain WM Fog': 0.00014051041937123763,\n",
       " 'RB Rain ARRF Rain': 4.276404067820276e-05,\n",
       " 'RB Rain ARRF Sun': 4.276404067820276e-05,\n",
       " 'RB Rain ARRF Clouds': 4.276404067820276e-05,\n",
       " 'RB Rain ARRF Snow': 4.276404067820276e-05,\n",
       " 'RB Rain ARRF Fog': 4.276404067820276e-05,\n",
       " 'RB Rain HF Rain': 0.0,\n",
       " 'RB Rain HF Sun': 0.0,\n",
       " 'RB Rain HF Clouds': 0.0,\n",
       " 'RB Rain HF Snow': 0.0,\n",
       " 'RB Rain HF Fog': 0.0,\n",
       " 'RB Sun RB Rain': 0.002672752542387672,\n",
       " 'RB Clouds RB Rain': 0.002672752542387672,\n",
       " 'RB Snow RB Rain': 0.002672752542387672,\n",
       " 'RB Fog RB Rain': 0.002672752542387672,\n",
       " 'ME Rain RB Rain': 0.0028132629617589108,\n",
       " 'ME Sun RB Rain': 0.0028132629617589108,\n",
       " 'ME Clouds RB Rain': 0.0028132629617589108,\n",
       " 'ME Snow RB Rain': 0.0028132629617589108,\n",
       " 'ME Fog RB Rain': 0.0028132629617589108,\n",
       " 'MM Rain RB Rain': 0.0015517237617519285,\n",
       " 'MM Sun RB Rain': 0.0015517237617519285,\n",
       " 'MM Clouds RB Rain': 0.0015517237617519285,\n",
       " 'MM Snow RB Rain': 0.0015517237617519285,\n",
       " 'MM Fog RB Rain': 0.0015517237617519285,\n",
       " 'FE Rain RB Rain': 0.0015303417414128273,\n",
       " 'FE Sun RB Rain': 0.0015303417414128273,\n",
       " 'FE Clouds RB Rain': 0.0015303417414128273,\n",
       " 'FE Snow RB Rain': 0.0015303417414128273,\n",
       " 'FE Fog RB Rain': 0.0015303417414128273,\n",
       " 'AH Rain RB Rain': 0.0005742599748215798,\n",
       " 'AH Sun RB Rain': 0.0005742599748215798,\n",
       " 'AH Clouds RB Rain': 0.0005742599748215798,\n",
       " 'AH Snow RB Rain': 0.0005742599748215798,\n",
       " 'AH Fog RB Rain': 0.0005742599748215798,\n",
       " 'AR Rain RB Rain': 0.0006353514615047266,\n",
       " 'AR Sun RB Rain': 0.0006353514615047266,\n",
       " 'AR Clouds RB Rain': 0.0006353514615047266,\n",
       " 'AR Snow RB Rain': 0.0006353514615047266,\n",
       " 'AR Fog RB Rain': 0.0006353514615047266,\n",
       " 'AMM Rain RB Rain': 0.0003787672174355102,\n",
       " 'AMM Sun RB Rain': 0.0003787672174355102,\n",
       " 'AMM Clouds RB Rain': 0.0003787672174355102,\n",
       " 'AMM Snow RB Rain': 0.0003787672174355102,\n",
       " 'AMM Fog RB Rain': 0.0003787672174355102,\n",
       " 'WM Rain RB Rain': 0.00014051041937123763,\n",
       " 'WM Sun RB Rain': 0.00014051041937123763,\n",
       " 'WM Clouds RB Rain': 0.00014051041937123763,\n",
       " 'WM Snow RB Rain': 0.00014051041937123763,\n",
       " 'WM Fog RB Rain': 0.00014051041937123763,\n",
       " 'ARRF Rain RB Rain': 4.276404067820276e-05,\n",
       " 'ARRF Sun RB Rain': 4.276404067820276e-05,\n",
       " 'ARRF Clouds RB Rain': 4.276404067820276e-05,\n",
       " 'ARRF Snow RB Rain': 4.276404067820276e-05,\n",
       " 'ARRF Fog RB Rain': 4.276404067820276e-05,\n",
       " 'HF Rain RB Rain': 0.0,\n",
       " 'HF Sun RB Rain': 0.0,\n",
       " 'HF Clouds RB Rain': 0.0,\n",
       " 'HF Snow RB Rain': 0.0,\n",
       " 'HF Fog RB Rain': 0.0}"
      ]
     },
     "execution_count": 36,
     "metadata": {},
     "output_type": "execute_result"
    }
   ],
   "source": [
    "W_AtLeast1_Rain_RB= atleast1_win_rain_RB(IGP_team, Weather, RGP_team, Weather, ' ')\n",
    "W_AtLeast1_Rain_RB"
   ]
  },
  {
   "cell_type": "markdown",
   "id": "ac573fe7",
   "metadata": {},
   "source": [
    "$$P(B|A)=\\frac{P(AB)}{P(A)}$$"
   ]
  },
  {
   "cell_type": "code",
   "execution_count": 37,
   "id": "05c87638",
   "metadata": {},
   "outputs": [],
   "source": [
    "p_W_AtLeast1_Rain_RB = sum(W_AtLeast1_Rain_RB[e] for e in W_AtLeast1_Rain_RB)"
   ]
  },
  {
   "cell_type": "code",
   "execution_count": 38,
   "id": "b977855f",
   "metadata": {},
   "outputs": [],
   "source": [
    "p_WW_Rain_RB = sum(W_AtLeast1_Rain_RB[s] for s in W_AtLeast1_Rain_RB.keys() if s.split(' ')[0]=='RB' and s.split(' ')[2]=='RB')"
   ]
  },
  {
   "cell_type": "code",
   "execution_count": 39,
   "id": "d46da259",
   "metadata": {},
   "outputs": [
    {
     "data": {
      "text/plain": [
       "0.23881728582259293"
      ]
     },
     "execution_count": 39,
     "metadata": {},
     "output_type": "execute_result"
    }
   ],
   "source": [
    "p_WW_Rain_RB/p_W_AtLeast1_Rain_RB"
   ]
  }
 ],
 "metadata": {
  "kernelspec": {
   "display_name": "Python 3",
   "language": "python",
   "name": "python3"
  },
  "language_info": {
   "codemirror_mode": {
    "name": "ipython",
    "version": 3
   },
   "file_extension": ".py",
   "mimetype": "text/x-python",
   "name": "python",
   "nbconvert_exporter": "python",
   "pygments_lexer": "ipython3",
   "version": "3.8.8"
  }
 },
 "nbformat": 4,
 "nbformat_minor": 5
}
